{
 "cells": [
  {
   "cell_type": "code",
   "execution_count": 2,
   "metadata": {},
   "outputs": [
    {
     "name": "stdout",
     "output_type": "stream",
     "text": [
      "Requirement already satisfied: llama-index in c:\\users\\eng.baris\\appdata\\local\\programs\\python\\python311\\lib\\site-packages (0.10.51)\n",
      "Requirement already satisfied: openai in c:\\users\\eng.baris\\appdata\\local\\programs\\python\\python311\\lib\\site-packages (1.35.7)\n",
      "Requirement already satisfied: PyMuPDF in c:\\users\\eng.baris\\appdata\\local\\programs\\python\\python311\\lib\\site-packages (1.24.7)\n",
      "Requirement already satisfied: pandas in c:\\users\\eng.baris\\appdata\\local\\programs\\python\\python311\\lib\\site-packages (2.2.1)\n",
      "Requirement already satisfied: llama-index-agent-openai<0.3.0,>=0.1.4 in c:\\users\\eng.baris\\appdata\\local\\programs\\python\\python311\\lib\\site-packages (from llama-index) (0.2.7)\n",
      "Requirement already satisfied: llama-index-cli<0.2.0,>=0.1.2 in c:\\users\\eng.baris\\appdata\\local\\programs\\python\\python311\\lib\\site-packages (from llama-index) (0.1.12)\n",
      "Requirement already satisfied: llama-index-core==0.10.51 in c:\\users\\eng.baris\\appdata\\local\\programs\\python\\python311\\lib\\site-packages (from llama-index) (0.10.51)\n",
      "Requirement already satisfied: llama-index-embeddings-openai<0.2.0,>=0.1.5 in c:\\users\\eng.baris\\appdata\\local\\programs\\python\\python311\\lib\\site-packages (from llama-index) (0.1.10)\n",
      "Requirement already satisfied: llama-index-indices-managed-llama-cloud>=0.2.0 in c:\\users\\eng.baris\\appdata\\local\\programs\\python\\python311\\lib\\site-packages (from llama-index) (0.2.1)\n",
      "Requirement already satisfied: llama-index-legacy<0.10.0,>=0.9.48 in c:\\users\\eng.baris\\appdata\\local\\programs\\python\\python311\\lib\\site-packages (from llama-index) (0.9.48)\n",
      "Requirement already satisfied: llama-index-llms-openai<0.2.0,>=0.1.13 in c:\\users\\eng.baris\\appdata\\local\\programs\\python\\python311\\lib\\site-packages (from llama-index) (0.1.24)\n",
      "Requirement already satisfied: llama-index-multi-modal-llms-openai<0.2.0,>=0.1.3 in c:\\users\\eng.baris\\appdata\\local\\programs\\python\\python311\\lib\\site-packages (from llama-index) (0.1.6)\n",
      "Requirement already satisfied: llama-index-program-openai<0.2.0,>=0.1.3 in c:\\users\\eng.baris\\appdata\\local\\programs\\python\\python311\\lib\\site-packages (from llama-index) (0.1.6)\n",
      "Requirement already satisfied: llama-index-question-gen-openai<0.2.0,>=0.1.2 in c:\\users\\eng.baris\\appdata\\local\\programs\\python\\python311\\lib\\site-packages (from llama-index) (0.1.3)\n",
      "Requirement already satisfied: llama-index-readers-file<0.2.0,>=0.1.4 in c:\\users\\eng.baris\\appdata\\local\\programs\\python\\python311\\lib\\site-packages (from llama-index) (0.1.25)\n",
      "Requirement already satisfied: llama-index-readers-llama-parse<0.2.0,>=0.1.2 in c:\\users\\eng.baris\\appdata\\local\\programs\\python\\python311\\lib\\site-packages (from llama-index) (0.1.4)\n",
      "Requirement already satisfied: PyYAML>=6.0.1 in c:\\users\\eng.baris\\appdata\\local\\programs\\python\\python311\\lib\\site-packages (from llama-index-core==0.10.51->llama-index) (6.0.1)\n",
      "Requirement already satisfied: SQLAlchemy>=1.4.49 in c:\\users\\eng.baris\\appdata\\local\\programs\\python\\python311\\lib\\site-packages (from SQLAlchemy[asyncio]>=1.4.49->llama-index-core==0.10.51->llama-index) (2.0.31)\n",
      "Requirement already satisfied: aiohttp<4.0.0,>=3.8.6 in c:\\users\\eng.baris\\appdata\\local\\programs\\python\\python311\\lib\\site-packages (from llama-index-core==0.10.51->llama-index) (3.9.5)\n",
      "Requirement already satisfied: dataclasses-json in c:\\users\\eng.baris\\appdata\\local\\programs\\python\\python311\\lib\\site-packages (from llama-index-core==0.10.51->llama-index) (0.6.7)\n",
      "Requirement already satisfied: deprecated>=1.2.9.3 in c:\\users\\eng.baris\\appdata\\local\\programs\\python\\python311\\lib\\site-packages (from llama-index-core==0.10.51->llama-index) (1.2.14)\n",
      "Requirement already satisfied: dirtyjson<2.0.0,>=1.0.8 in c:\\users\\eng.baris\\appdata\\local\\programs\\python\\python311\\lib\\site-packages (from llama-index-core==0.10.51->llama-index) (1.0.8)\n",
      "Requirement already satisfied: fsspec>=2023.5.0 in c:\\users\\eng.baris\\appdata\\local\\programs\\python\\python311\\lib\\site-packages (from llama-index-core==0.10.51->llama-index) (2024.2.0)\n",
      "Requirement already satisfied: httpx in c:\\users\\eng.baris\\appdata\\local\\programs\\python\\python311\\lib\\site-packages (from llama-index-core==0.10.51->llama-index) (0.27.0)\n",
      "Requirement already satisfied: llama-cloud<0.0.7,>=0.0.6 in c:\\users\\eng.baris\\appdata\\local\\programs\\python\\python311\\lib\\site-packages (from llama-index-core==0.10.51->llama-index) (0.0.6)\n",
      "Requirement already satisfied: nest-asyncio<2.0.0,>=1.5.8 in c:\\users\\eng.baris\\appdata\\roaming\\python\\python311\\site-packages (from llama-index-core==0.10.51->llama-index) (1.6.0)\n",
      "Requirement already satisfied: networkx>=3.0 in c:\\users\\eng.baris\\appdata\\local\\programs\\python\\python311\\lib\\site-packages (from llama-index-core==0.10.51->llama-index) (3.2.1)\n",
      "Requirement already satisfied: nltk<4.0.0,>=3.8.1 in c:\\users\\eng.baris\\appdata\\local\\programs\\python\\python311\\lib\\site-packages (from llama-index-core==0.10.51->llama-index) (3.8.1)\n",
      "Requirement already satisfied: numpy<2.0.0 in c:\\users\\eng.baris\\appdata\\local\\programs\\python\\python311\\lib\\site-packages (from llama-index-core==0.10.51->llama-index) (1.24.3)\n",
      "Requirement already satisfied: pillow>=9.0.0 in c:\\users\\eng.baris\\appdata\\local\\programs\\python\\python311\\lib\\site-packages (from llama-index-core==0.10.51->llama-index) (10.2.0)\n",
      "Requirement already satisfied: requests>=2.31.0 in c:\\users\\eng.baris\\appdata\\local\\programs\\python\\python311\\lib\\site-packages (from llama-index-core==0.10.51->llama-index) (2.31.0)\n",
      "Requirement already satisfied: tenacity!=8.4.0,<9.0.0,>=8.2.0 in c:\\users\\eng.baris\\appdata\\local\\programs\\python\\python311\\lib\\site-packages (from llama-index-core==0.10.51->llama-index) (8.2.3)\n",
      "Requirement already satisfied: tiktoken>=0.3.3 in c:\\users\\eng.baris\\appdata\\local\\programs\\python\\python311\\lib\\site-packages (from llama-index-core==0.10.51->llama-index) (0.7.0)\n",
      "Requirement already satisfied: tqdm<5.0.0,>=4.66.1 in c:\\users\\eng.baris\\appdata\\local\\programs\\python\\python311\\lib\\site-packages (from llama-index-core==0.10.51->llama-index) (4.66.2)\n",
      "Requirement already satisfied: typing-extensions>=4.5.0 in c:\\users\\eng.baris\\appdata\\local\\programs\\python\\python311\\lib\\site-packages (from llama-index-core==0.10.51->llama-index) (4.10.0)\n",
      "Requirement already satisfied: typing-inspect>=0.8.0 in c:\\users\\eng.baris\\appdata\\local\\programs\\python\\python311\\lib\\site-packages (from llama-index-core==0.10.51->llama-index) (0.9.0)\n",
      "Requirement already satisfied: wrapt in c:\\users\\eng.baris\\appdata\\local\\programs\\python\\python311\\lib\\site-packages (from llama-index-core==0.10.51->llama-index) (1.16.0)\n",
      "Requirement already satisfied: anyio<5,>=3.5.0 in c:\\users\\eng.baris\\appdata\\local\\programs\\python\\python311\\lib\\site-packages (from openai) (4.4.0)\n",
      "Requirement already satisfied: distro<2,>=1.7.0 in c:\\users\\eng.baris\\appdata\\local\\programs\\python\\python311\\lib\\site-packages (from openai) (1.9.0)\n",
      "Requirement already satisfied: pydantic<3,>=1.9.0 in c:\\users\\eng.baris\\appdata\\local\\programs\\python\\python311\\lib\\site-packages (from openai) (2.7.1)\n",
      "Requirement already satisfied: sniffio in c:\\users\\eng.baris\\appdata\\local\\programs\\python\\python311\\lib\\site-packages (from openai) (1.3.1)\n",
      "Requirement already satisfied: PyMuPDFb==1.24.6 in c:\\users\\eng.baris\\appdata\\local\\programs\\python\\python311\\lib\\site-packages (from PyMuPDF) (1.24.6)\n",
      "Requirement already satisfied: python-dateutil>=2.8.2 in c:\\users\\eng.baris\\appdata\\roaming\\python\\python311\\site-packages (from pandas) (2.9.0.post0)\n",
      "Requirement already satisfied: pytz>=2020.1 in c:\\users\\eng.baris\\appdata\\local\\programs\\python\\python311\\lib\\site-packages (from pandas) (2024.1)\n",
      "Requirement already satisfied: tzdata>=2022.7 in c:\\users\\eng.baris\\appdata\\local\\programs\\python\\python311\\lib\\site-packages (from pandas) (2024.1)\n",
      "Requirement already satisfied: idna>=2.8 in c:\\users\\eng.baris\\appdata\\local\\programs\\python\\python311\\lib\\site-packages (from anyio<5,>=3.5.0->openai) (2.10)\n",
      "Requirement already satisfied: certifi in c:\\users\\eng.baris\\appdata\\local\\programs\\python\\python311\\lib\\site-packages (from httpx->llama-index-core==0.10.51->llama-index) (2023.7.22)\n",
      "Requirement already satisfied: httpcore==1.* in c:\\users\\eng.baris\\appdata\\local\\programs\\python\\python311\\lib\\site-packages (from httpx->llama-index-core==0.10.51->llama-index) (1.0.5)\n",
      "Requirement already satisfied: h11<0.15,>=0.13 in c:\\users\\eng.baris\\appdata\\local\\programs\\python\\python311\\lib\\site-packages (from httpcore==1.*->httpx->llama-index-core==0.10.51->llama-index) (0.14.0)\n",
      "Requirement already satisfied: beautifulsoup4<5.0.0,>=4.12.3 in c:\\users\\eng.baris\\appdata\\local\\programs\\python\\python311\\lib\\site-packages (from llama-index-readers-file<0.2.0,>=0.1.4->llama-index) (4.12.3)\n",
      "Requirement already satisfied: pypdf<5.0.0,>=4.0.1 in c:\\users\\eng.baris\\appdata\\local\\programs\\python\\python311\\lib\\site-packages (from llama-index-readers-file<0.2.0,>=0.1.4->llama-index) (4.2.0)\n",
      "Requirement already satisfied: striprtf<0.0.27,>=0.0.26 in c:\\users\\eng.baris\\appdata\\local\\programs\\python\\python311\\lib\\site-packages (from llama-index-readers-file<0.2.0,>=0.1.4->llama-index) (0.0.26)\n",
      "Requirement already satisfied: llama-parse<0.5.0,>=0.4.0 in c:\\users\\eng.baris\\appdata\\local\\programs\\python\\python311\\lib\\site-packages (from llama-index-readers-llama-parse<0.2.0,>=0.1.2->llama-index) (0.4.4)\n",
      "Requirement already satisfied: annotated-types>=0.4.0 in c:\\users\\eng.baris\\appdata\\local\\programs\\python\\python311\\lib\\site-packages (from pydantic<3,>=1.9.0->openai) (0.6.0)\n",
      "Requirement already satisfied: pydantic-core==2.18.2 in c:\\users\\eng.baris\\appdata\\local\\programs\\python\\python311\\lib\\site-packages (from pydantic<3,>=1.9.0->openai) (2.18.2)\n",
      "Requirement already satisfied: six>=1.5 in c:\\users\\eng.baris\\appdata\\local\\programs\\python\\python311\\lib\\site-packages (from python-dateutil>=2.8.2->pandas) (1.16.0)\n",
      "Requirement already satisfied: colorama in c:\\users\\eng.baris\\appdata\\roaming\\python\\python311\\site-packages (from tqdm<5.0.0,>=4.66.1->llama-index-core==0.10.51->llama-index) (0.4.6)\n",
      "Requirement already satisfied: aiosignal>=1.1.2 in c:\\users\\eng.baris\\appdata\\local\\programs\\python\\python311\\lib\\site-packages (from aiohttp<4.0.0,>=3.8.6->llama-index-core==0.10.51->llama-index) (1.3.1)\n",
      "Requirement already satisfied: attrs>=17.3.0 in c:\\users\\eng.baris\\appdata\\local\\programs\\python\\python311\\lib\\site-packages (from aiohttp<4.0.0,>=3.8.6->llama-index-core==0.10.51->llama-index) (23.2.0)\n",
      "Requirement already satisfied: frozenlist>=1.1.1 in c:\\users\\eng.baris\\appdata\\local\\programs\\python\\python311\\lib\\site-packages (from aiohttp<4.0.0,>=3.8.6->llama-index-core==0.10.51->llama-index) (1.4.1)\n",
      "Requirement already satisfied: multidict<7.0,>=4.5 in c:\\users\\eng.baris\\appdata\\local\\programs\\python\\python311\\lib\\site-packages (from aiohttp<4.0.0,>=3.8.6->llama-index-core==0.10.51->llama-index) (6.0.5)\n",
      "Requirement already satisfied: yarl<2.0,>=1.0 in c:\\users\\eng.baris\\appdata\\local\\programs\\python\\python311\\lib\\site-packages (from aiohttp<4.0.0,>=3.8.6->llama-index-core==0.10.51->llama-index) (1.9.4)\n",
      "Requirement already satisfied: soupsieve>1.2 in c:\\users\\eng.baris\\appdata\\local\\programs\\python\\python311\\lib\\site-packages (from beautifulsoup4<5.0.0,>=4.12.3->llama-index-readers-file<0.2.0,>=0.1.4->llama-index) (2.5)\n",
      "Requirement already satisfied: click in c:\\users\\eng.baris\\appdata\\local\\programs\\python\\python311\\lib\\site-packages (from nltk<4.0.0,>=3.8.1->llama-index-core==0.10.51->llama-index) (8.1.7)\n",
      "Requirement already satisfied: joblib in c:\\users\\eng.baris\\appdata\\local\\programs\\python\\python311\\lib\\site-packages (from nltk<4.0.0,>=3.8.1->llama-index-core==0.10.51->llama-index) (1.3.2)\n",
      "Requirement already satisfied: regex>=2021.8.3 in c:\\users\\eng.baris\\appdata\\local\\programs\\python\\python311\\lib\\site-packages (from nltk<4.0.0,>=3.8.1->llama-index-core==0.10.51->llama-index) (2024.5.15)\n",
      "Requirement already satisfied: charset-normalizer<4,>=2 in c:\\users\\eng.baris\\appdata\\local\\programs\\python\\python311\\lib\\site-packages (from requests>=2.31.0->llama-index-core==0.10.51->llama-index) (3.3.2)\n",
      "Requirement already satisfied: urllib3<3,>=1.21.1 in c:\\users\\eng.baris\\appdata\\local\\programs\\python\\python311\\lib\\site-packages (from requests>=2.31.0->llama-index-core==0.10.51->llama-index) (2.2.1)\n",
      "Requirement already satisfied: greenlet!=0.4.17 in c:\\users\\eng.baris\\appdata\\local\\programs\\python\\python311\\lib\\site-packages (from SQLAlchemy>=1.4.49->SQLAlchemy[asyncio]>=1.4.49->llama-index-core==0.10.51->llama-index) (3.0.3)\n",
      "Requirement already satisfied: mypy-extensions>=0.3.0 in c:\\users\\eng.baris\\appdata\\local\\programs\\python\\python311\\lib\\site-packages (from typing-inspect>=0.8.0->llama-index-core==0.10.51->llama-index) (1.0.0)\n",
      "Requirement already satisfied: marshmallow<4.0.0,>=3.18.0 in c:\\users\\eng.baris\\appdata\\local\\programs\\python\\python311\\lib\\site-packages (from dataclasses-json->llama-index-core==0.10.51->llama-index) (3.21.3)\n",
      "Requirement already satisfied: packaging>=17.0 in c:\\users\\eng.baris\\appdata\\local\\programs\\python\\python311\\lib\\site-packages (from marshmallow<4.0.0,>=3.18.0->dataclasses-json->llama-index-core==0.10.51->llama-index) (24.0)\n",
      "Requirement already satisfied: tqdm in c:\\users\\eng.baris\\appdata\\local\\programs\\python\\python311\\lib\\site-packages (4.66.2)\n",
      "Requirement already satisfied: colorama in c:\\users\\eng.baris\\appdata\\roaming\\python\\python311\\site-packages (from tqdm) (0.4.6)\n",
      "Requirement already satisfied: transformers in c:\\users\\eng.baris\\appdata\\local\\programs\\python\\python311\\lib\\site-packages (4.42.3)\n",
      "Requirement already satisfied: filelock in c:\\users\\eng.baris\\appdata\\local\\programs\\python\\python311\\lib\\site-packages (from transformers) (3.13.1)\n",
      "Requirement already satisfied: huggingface-hub<1.0,>=0.23.2 in c:\\users\\eng.baris\\appdata\\local\\programs\\python\\python311\\lib\\site-packages (from transformers) (0.23.4)\n",
      "Requirement already satisfied: numpy<2.0,>=1.17 in c:\\users\\eng.baris\\appdata\\local\\programs\\python\\python311\\lib\\site-packages (from transformers) (1.24.3)\n",
      "Requirement already satisfied: packaging>=20.0 in c:\\users\\eng.baris\\appdata\\local\\programs\\python\\python311\\lib\\site-packages (from transformers) (24.0)\n",
      "Requirement already satisfied: pyyaml>=5.1 in c:\\users\\eng.baris\\appdata\\local\\programs\\python\\python311\\lib\\site-packages (from transformers) (6.0.1)\n",
      "Requirement already satisfied: regex!=2019.12.17 in c:\\users\\eng.baris\\appdata\\local\\programs\\python\\python311\\lib\\site-packages (from transformers) (2024.5.15)\n",
      "Requirement already satisfied: requests in c:\\users\\eng.baris\\appdata\\local\\programs\\python\\python311\\lib\\site-packages (from transformers) (2.31.0)\n",
      "Requirement already satisfied: safetensors>=0.4.1 in c:\\users\\eng.baris\\appdata\\local\\programs\\python\\python311\\lib\\site-packages (from transformers) (0.4.3)\n",
      "Requirement already satisfied: tokenizers<0.20,>=0.19 in c:\\users\\eng.baris\\appdata\\local\\programs\\python\\python311\\lib\\site-packages (from transformers) (0.19.1)\n",
      "Requirement already satisfied: tqdm>=4.27 in c:\\users\\eng.baris\\appdata\\local\\programs\\python\\python311\\lib\\site-packages (from transformers) (4.66.2)\n",
      "Requirement already satisfied: fsspec>=2023.5.0 in c:\\users\\eng.baris\\appdata\\local\\programs\\python\\python311\\lib\\site-packages (from huggingface-hub<1.0,>=0.23.2->transformers) (2024.2.0)\n",
      "Requirement already satisfied: typing-extensions>=3.7.4.3 in c:\\users\\eng.baris\\appdata\\local\\programs\\python\\python311\\lib\\site-packages (from huggingface-hub<1.0,>=0.23.2->transformers) (4.10.0)\n",
      "Requirement already satisfied: colorama in c:\\users\\eng.baris\\appdata\\roaming\\python\\python311\\site-packages (from tqdm>=4.27->transformers) (0.4.6)\n",
      "Requirement already satisfied: charset-normalizer<4,>=2 in c:\\users\\eng.baris\\appdata\\local\\programs\\python\\python311\\lib\\site-packages (from requests->transformers) (3.3.2)\n",
      "Requirement already satisfied: idna<4,>=2.5 in c:\\users\\eng.baris\\appdata\\local\\programs\\python\\python311\\lib\\site-packages (from requests->transformers) (2.10)\n",
      "Requirement already satisfied: urllib3<3,>=1.21.1 in c:\\users\\eng.baris\\appdata\\local\\programs\\python\\python311\\lib\\site-packages (from requests->transformers) (2.2.1)\n",
      "Requirement already satisfied: certifi>=2017.4.17 in c:\\users\\eng.baris\\appdata\\local\\programs\\python\\python311\\lib\\site-packages (from requests->transformers) (2023.7.22)\n"
     ]
    }
   ],
   "source": [
    "!pip install llama-index openai PyMuPDF pandas\n",
    "!pip install tqdm\n",
    "!pip install transformers"
   ]
  },
  {
   "cell_type": "code",
   "execution_count": 3,
   "metadata": {},
   "outputs": [],
   "source": [
    "import fitz  # PyMuPDF\n",
    "import pandas as pd\n",
    "import os\n",
    "import random\n",
    "from transformers import T5Tokenizer, T5ForConditionalGeneration\n",
    "from tqdm import tqdm\n",
    "import time"
   ]
  },
  {
   "cell_type": "code",
   "execution_count": 14,
   "metadata": {},
   "outputs": [],
   "source": [
    "txt_folder = \"C:/Users/eng.baris/Desktop/New folder\""
   ]
  },
  {
   "cell_type": "code",
   "execution_count": 5,
   "metadata": {},
   "outputs": [
    {
     "name": "stderr",
     "output_type": "stream",
     "text": [
      "You are using the default legacy behaviour of the <class 'transformers.models.t5.tokenization_t5.T5Tokenizer'>. This is expected, and simply means that the `legacy` (previous) behavior will be used so nothing changes for you. If you want to use the new behaviour, set `legacy=False`. This should only be set if you understand what it means, and thoroughly read the reason why this was added as explained in https://github.com/huggingface/transformers/pull/24565\n"
     ]
    }
   ],
   "source": [
    "# T5 model and tokenizer\n",
    "model_name = \"ramsrigouthamg/t5_squad_v1\"\n",
    "model = T5ForConditionalGeneration.from_pretrained(model_name)\n",
    "tokenizer = T5Tokenizer.from_pretrained(model_name)"
   ]
  },
  {
   "cell_type": "code",
   "execution_count": 15,
   "metadata": {},
   "outputs": [
    {
     "name": "stderr",
     "output_type": "stream",
     "text": [
      "Generating Questions:   0%|          | 0/5827 [00:00<?, ?it/s]"
     ]
    }
   ],
   "source": [
    "def generate_questions_from_text_file(txt_file_path, tokenizer, model, num_questions=20, max_length=512):\n",
    "    with open(txt_file_path, 'r', encoding='utf-8') as f:\n",
    "        text = f.read()\n",
    "\n",
    "    questions = []\n",
    "    text_length = len(text)\n",
    "    \n",
    "    for _ in range(num_questions):\n",
    "        # Randomly select a starting point\n",
    "        if text_length > max_length:\n",
    "            start_idx = random.randint(0, text_length - max_length)\n",
    "        else:\n",
    "            start_idx = 0\n",
    "\n",
    "        input_text = text[start_idx:start_idx + max_length]\n",
    "\n",
    "        # Generator\n",
    "        input_text = f\"generate question: {input_text}\"\n",
    "        if not input_text.endswith(\"</s>\"):\n",
    "            input_text += \" </s>\"\n",
    "\n",
    "        # Creating Questions\n",
    "        input_ids = tokenizer.encode(input_text, return_tensors=\"pt\", max_length=max_length, truncation=True)\n",
    "        output_ids = model.generate(input_ids, max_length=64, num_beams=4, early_stopping=True)\n",
    "        question = tokenizer.decode(output_ids[0], skip_special_tokens=True)\n",
    "\n",
    "        # Remove \"question:\" prefix\n",
    "        question = question.replace(\"question:\", \"\").strip()\n",
    "\n",
    "        questions.append(question)\n",
    "\n",
    "    return questions\n",
    "\n",
    "# Collect data for the CSV file\n",
    "all_questions = []\n",
    "\n",
    "for txt_file in tqdm(os.listdir(txt_folder), desc=\"Generating Questions\"):\n",
    "    if txt_file.endswith(\".txt\"):\n",
    "        txt_file_path = os.path.join(txt_folder, txt_file)\n",
    "        questions = generate_questions_from_text_file(txt_file_path, tokenizer, model, num_questions=20)\n",
    "        for question in questions:\n",
    "            all_questions.append((question, txt_file))\n",
    "\n",
    "# Create and save DataFrame\n",
    "df = pd.DataFrame(all_questions, columns=[\"question\", \"path\"])\n",
    "df.to_csv(\"C:/Users/eng.baris/Desktop/questions2.csv\", index=False)\n",
    "\n",
    "print(\"CSV file created: questions2.csv\")"
   ]
  },
  {
   "cell_type": "code",
   "execution_count": null,
   "metadata": {},
   "outputs": [],
   "source": []
  }
 ],
 "metadata": {
  "kernelspec": {
   "display_name": "Python 3",
   "language": "python",
   "name": "python3"
  },
  "language_info": {
   "codemirror_mode": {
    "name": "ipython",
    "version": 3
   },
   "file_extension": ".py",
   "mimetype": "text/x-python",
   "name": "python",
   "nbconvert_exporter": "python",
   "pygments_lexer": "ipython3",
   "version": "3.11.5"
  }
 },
 "nbformat": 4,
 "nbformat_minor": 2
}

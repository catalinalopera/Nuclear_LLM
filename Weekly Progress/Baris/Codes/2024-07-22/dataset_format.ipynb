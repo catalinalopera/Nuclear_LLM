{
 "cells": [
  {
   "cell_type": "code",
   "execution_count": 1,
   "metadata": {},
   "outputs": [
    {
     "name": "stdout",
     "output_type": "stream",
     "text": [
      "JSON files have been formatted and saved successfully.\n"
     ]
    }
   ],
   "source": [
    "import json\n",
    "\n",
    "def add_questions_key(input_file, output_file):\n",
    "    # Read the JSON file\n",
    "    with open(input_file, 'r') as infile:\n",
    "        data = json.load(infile)\n",
    "        \n",
    "    # Format the data by adding the 'questions' key\n",
    "    formatted_data = {\n",
    "        \"questions\": data\n",
    "    }\n",
    "\n",
    "    # Write the formatted data to a new file\n",
    "    with open(output_file, 'w') as outfile:\n",
    "        json.dump(formatted_data, outfile, indent=4)\n",
    "\n",
    "# File paths for JSON datasets\n",
    "train_input_file = 'qa_pairs.json'\n",
    "train_output_file = 'train_dataset.json'\n",
    "\n",
    "test_input_file = 'test.json'\n",
    "test_output_file = 'test_dataset.json'\n",
    "\n",
    "# Convert training and test datasets to the appropriate format\n",
    "add_questions_key(train_input_file, train_output_file)\n",
    "add_questions_key(test_input_file, test_output_file)\n",
    "\n",
    "print(\"JSON files have been formatted and saved successfully.\")\n"
   ]
  }
 ],
 "metadata": {
  "kernelspec": {
   "display_name": "Python 3",
   "language": "python",
   "name": "python3"
  },
  "language_info": {
   "codemirror_mode": {
    "name": "ipython",
    "version": 3
   },
   "file_extension": ".py",
   "mimetype": "text/x-python",
   "name": "python",
   "nbconvert_exporter": "python",
   "pygments_lexer": "ipython3",
   "version": "3.11.5"
  }
 },
 "nbformat": 4,
 "nbformat_minor": 2
}

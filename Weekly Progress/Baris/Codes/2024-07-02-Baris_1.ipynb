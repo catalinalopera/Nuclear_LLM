{
 "cells": [
  {
   "cell_type": "code",
   "execution_count": null,
   "metadata": {},
   "outputs": [],
   "source": [
    "! pip install PyMuPDF "
   ]
  },
  {
   "cell_type": "code",
   "execution_count": 1,
   "metadata": {},
   "outputs": [],
   "source": [
    "import os\n",
    "import fitz  \n",
    "import math"
   ]
  },
  {
   "cell_type": "code",
   "execution_count": 3,
   "metadata": {},
   "outputs": [],
   "source": [
    "pdf_folder = 'C:/Users/engba/Desktop/dataset'             # there are 2822 pdf document from Zarina and Diana Web Scraping\n",
    "output_path = 'C:/Users/engba/Desktop/New folder'"
   ]
  },
  {
   "cell_type": "code",
   "execution_count": null,
   "metadata": {},
   "outputs": [],
   "source": [
    "def pdf_to_text(pdf_path, output_folder):\n",
    "    # Open the PDF file\n",
    "    pdf_doc = fitz.open(pdf_path)\n",
    "    \n",
    "    # Initialize an empty string for text content\n",
    "    text = \"\"\n",
    "    \n",
    "    # Iterate through each page and extract text\n",
    "    for page_num in range(len(pdf_doc)):\n",
    "        page = pdf_doc.load_page(page_num)\n",
    "        text += page.get_text()\n",
    "    \n",
    "    # Close the PDF document\n",
    "    pdf_doc.close()\n",
    "    \n",
    "    # Define the output file path for text file\n",
    "    txt_filename = os.path.splitext(os.path.basename(pdf_path))[0] + '.txt'\n",
    "    txt_path = os.path.join(output_folder, txt_filename)\n",
    "    \n",
    "    # Write the text content to the text file\n",
    "    with open(txt_path, 'w', encoding='utf-8') as file:\n",
    "        file.write(text)\n",
    "    \n",
    "    print(f'{os.path.basename(pdf_path)} converted to: \"{txt_path}\"')"
   ]
  },
  {
   "cell_type": "code",
   "execution_count": null,
   "metadata": {},
   "outputs": [],
   "source": [
    "def merge_all_text_files(input_folder, output_file):\n",
    "    # Get all text files in the input folder\n",
    "    text_files = [f for f in os.listdir(input_folder) if f.endswith('.txt')]\n",
    "    \n",
    "    # Initialize an empty string for merged text\n",
    "    merged_text = \"\"\n",
    "    \n",
    "    # Process each text file and merge into one\n",
    "    for text_file in text_files:\n",
    "        txt_path = os.path.join(input_folder, text_file)\n",
    "        try:\n",
    "            with open(txt_path, 'r', encoding='utf-8') as file:\n",
    "                merged_text += file.read() + \"\\n\"\n",
    "        except Exception as e:\n",
    "            print(f'Error reading {text_file}: {str(e)}')\n",
    "\n",
    "    # Write the merged text to the output file\n",
    "    with open(output_file, 'w', encoding='utf-8') as file:\n",
    "        file.write(merged_text)\n",
    "    \n",
    "    print(f'All {len(text_files)} text files merged into: \"{output_file}\"')\n",
    "\n",
    "# Convert each PDF file to text\n",
    "pdf_files = [f for f in os.listdir(pdf_folder) if f.endswith('.pdf')]\n",
    "for pdf_file in pdf_files:\n",
    "    pdf_path = os.path.join(pdf_folder, pdf_file)\n",
    "    pdf_to_text(pdf_path, output_path)\n",
    "# Merge all text files into one\n",
    "merge_all_text_files(input_folder, output_file)"
   ]
  },
  {
   "cell_type": "code",
   "execution_count": null,
   "metadata": {},
   "outputs": [],
   "source": [
    "# ---------------------------------------------------------------------------------------------------------"
   ]
  },
  {
   "cell_type": "code",
   "execution_count": null,
   "metadata": {},
   "outputs": [],
   "source": [
    "import os\n",
    "\n",
    "# Folder path where files are located\n",
    "folder_path = r'C:\\Users\\engba\\Desktop\\New folder' \n",
    "\n",
    "# Get all files in the folder ending with .txt\n",
    "files = [file for file in os.listdir(folder_path) if file.endswith('.txt')]\n",
    "\n",
    "# Initialize variable to store merged text\n",
    "merged_text = \"\"\n",
    "\n",
    "# Read and concatenate each file\n",
    "for file_name in files:\n",
    "    file_path = os.path.join(folder_path, file_name)\n",
    "    with open(file_path, 'r', encoding='utf-8') as file:\n",
    "        file_text = file.read()\n",
    "        merged_text += file_text + \"\\n\\n\"  # Add two new lines between each file\n",
    "\n",
    "# Write merged text to a file or print it\n",
    "output_path = r'C:\\Users\\engba\\Desktop\\merged_output.txt'  # Specify your desired output file path\n",
    "with open(output_path, 'w', encoding='utf-8') as output_file:\n",
    "    output_file.write(merged_text)\n",
    "\n",
    "print(f\"All .txt files successfully merged and saved to {output_path}.\")\n"
   ]
  },
  {
   "cell_type": "code",
   "execution_count": null,
   "metadata": {},
   "outputs": [],
   "source": [
    "import os\n",
    "import subprocess\n",
    "\n",
    "file_path = r'C:\\Users\\engba\\Desktop\\merged_output.txt'\n",
    "\n",
    "try:\n",
    "    with open(file_path, 'r', encoding='utf-8') as file:\n",
    "        file_content = file.read()\n",
    "        print(file_content)\n",
    "except FileNotFoundError:\n",
    "    print(f\"Dosya bulunamadı: {file_path}\")\n",
    "except Exception as e:\n",
    "    print(f\"Dosya okunurken bir hata oluştu: {e}\")"
   ]
  },
  {
   "cell_type": "code",
   "execution_count": null,
   "metadata": {},
   "outputs": [],
   "source": []
  },
  {
   "cell_type": "code",
   "execution_count": null,
   "metadata": {},
   "outputs": [],
   "source": []
  },
  {
   "cell_type": "code",
   "execution_count": null,
   "metadata": {},
   "outputs": [],
   "source": []
  }
 ],
 "metadata": {
  "kernelspec": {
   "display_name": "Python 3",
   "language": "python",
   "name": "python3"
  },
  "language_info": {
   "codemirror_mode": {
    "name": "ipython",
    "version": 3
   },
   "file_extension": ".py",
   "mimetype": "text/x-python",
   "name": "python",
   "nbconvert_exporter": "python",
   "pygments_lexer": "ipython3",
   "version": "3.11.5"
  }
 },
 "nbformat": 4,
 "nbformat_minor": 2
}

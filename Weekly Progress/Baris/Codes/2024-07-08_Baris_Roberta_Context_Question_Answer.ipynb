{
 "cells": [
  {
   "cell_type": "markdown",
   "metadata": {},
   "source": [
    "# Roberta"
   ]
  },
  {
   "cell_type": "code",
   "execution_count": 1,
   "metadata": {},
   "outputs": [],
   "source": [
    " !pip install -q torch"
   ]
  },
  {
   "cell_type": "code",
   "execution_count": 2,
   "metadata": {},
   "outputs": [],
   "source": [
    "!pip install -q transformers"
   ]
  },
  {
   "cell_type": "code",
   "execution_count": 10,
   "metadata": {},
   "outputs": [],
   "source": [
    "import pandas as pd\n",
    "from transformers import AutoModelForQuestionAnswering, AutoTokenizer, pipeline\n",
    "import torch"
   ]
  },
  {
   "cell_type": "code",
   "execution_count": 4,
   "metadata": {},
   "outputs": [],
   "source": [
    "QA_input = [ { 'question' : 'What is the statistical distribution of fission products resulting from the fission?',\n",
    "              'context': 'Neutrinos & Non-proliferation in Europe Michel Cribier* APC, Paris CEA/Saclay, DAPNIA/SPP The International Atomic Energy Agency (IAEA) is the United Nations agency in charge of the development of peaceful use of atomic energy. In particular IAEA is the verification authority of the Treaty on the Non-Proliferation of Nuclear Weapons (NPT). To do that jobs inspections of civil nuclear installations and related facilities under safeguards agreements are made in more than 140 states. IAEA uses many different tools for these verifications, like neutron monitor, gamma spectroscopy, but also bookeeping of the isotopic composition at the fuel element level before and after their use in the nuclear power station. In particular it verifie that weapon-origin and other fissile materials that Russia and USA have released from their defense programmes are used for civil application. The existence of an antineutrino signal sensitive to the power and to the isotopic composition of a reactor core, as first proposed by Mikaelian et al. and as demonstrated by the Bugey and Rovno experiments, , could provide a means to address certain safeguards applications. Thus the IAEA recently ask members states to make a feasibility study to determine whether antineutrino detection methods might provide practical safeguards tools for selected applications. If this method proves to be useful, IAEA has the power to decide that any new nuclear power plants built has to include an antineutrino monitor. Within the Double Chooz collaboration, an experiment mainly devoted to study the fundamental properties of neutrinos, we thought that we were in a good position to evaluate the interest of using antineutrino detection to remotely monitor nuclear power station. This effort in Europe, supplemented by the US effort , will constitute the basic answer to IAEA of the neutrino community. * On behalf of a collective work by S. Cormon, M. Fallot, H. Faust, T. Lasserre, A. Letourneau, D. Lhuillier, V. Sinev from DAPNIA, Subatech and ILL. Figure 1 : The statistical distribution of the fission products resulting from the fission of the most important fissile nuclei 235U and 239Pu shows two humps, one centered around masses 100 and the other one centered around 135.'},\n",
    "             {'question': 'The low mass hump is at higher mass in what fission?',\n",
    "              'context':'The low mass hump is at higher mass in 239Pu fission than in 235U, resulting in different nuclei and decays. The high penetration power of antineutrinos and the detection capability might provide a means to make remote, non-intrusive measurements of plutonium content in reactors . The antineutrino flux and energy spectrum depends upon the thermal power and on the fissile isotopic composition of the reactor fuel. Indeed, when a heavy nuclei (Uranium, Plutonium) experience a fission, it produce two unequal fission fragments (and a few free neutrons) ; the statistical distribution of the atomic masses is depicted in figure 1. All these nuclei immediately produced are extremely unstable - they are too rich in neutrons - and thus ÃŸ decay toward stable nuclei with an average of 6 ÃŸ decays. All these process involving several hundreds of unstable nuclei, with their excited states, makes very difficult to understand details of the physics, moreover, the most energetic antineutrinos, which are detected more easily, are produced in the very first decays, involving nuclei with typical lifetime smaller than a second. 235U 239Pu released energy per fission 201.7 MeV 210.0 MeV Mean energy of Î½ 2.94 MeV 2.84 MeV Î½ per fission > 1.8 MeV 1.92 1.45 average inter.'}]"
   ]
  },
  {
   "cell_type": "code",
   "execution_count": 5,
   "metadata": {},
   "outputs": [],
   "source": [
    "model_name = 'deepset/roberta-base-squad2'"
   ]
  },
  {
   "cell_type": "code",
   "execution_count": 6,
   "metadata": {},
   "outputs": [
    {
     "name": "stderr",
     "output_type": "stream",
     "text": [
      "c:\\Users\\engba\\AppData\\Local\\Programs\\Python\\Python311\\Lib\\site-packages\\huggingface_hub\\file_download.py:1132: FutureWarning: `resume_download` is deprecated and will be removed in version 1.0.0. Downloads always resume when possible. If you want to force a new download, use `force_download=True`.\n",
      "  warnings.warn(\n"
     ]
    },
    {
     "data": {
      "application/vnd.jupyter.widget-view+json": {
       "model_id": "d9e42b03e54841379209d9e533ac0185",
       "version_major": 2,
       "version_minor": 0
      },
      "text/plain": [
       "config.json:   0%|          | 0.00/571 [00:00<?, ?B/s]"
      ]
     },
     "metadata": {},
     "output_type": "display_data"
    },
    {
     "data": {
      "application/vnd.jupyter.widget-view+json": {
       "model_id": "452ffa1f3e3548739a05efb3d69bec4b",
       "version_major": 2,
       "version_minor": 0
      },
      "text/plain": [
       "model.safetensors:   0%|          | 0.00/496M [00:00<?, ?B/s]"
      ]
     },
     "metadata": {},
     "output_type": "display_data"
    },
    {
     "data": {
      "application/vnd.jupyter.widget-view+json": {
       "model_id": "8f659d0586714d8e9fdae9e1daba45b6",
       "version_major": 2,
       "version_minor": 0
      },
      "text/plain": [
       "tokenizer_config.json:   0%|          | 0.00/79.0 [00:00<?, ?B/s]"
      ]
     },
     "metadata": {},
     "output_type": "display_data"
    },
    {
     "data": {
      "application/vnd.jupyter.widget-view+json": {
       "model_id": "3406448b20114e94957a625e084722b2",
       "version_major": 2,
       "version_minor": 0
      },
      "text/plain": [
       "vocab.json:   0%|          | 0.00/899k [00:00<?, ?B/s]"
      ]
     },
     "metadata": {},
     "output_type": "display_data"
    },
    {
     "data": {
      "application/vnd.jupyter.widget-view+json": {
       "model_id": "4f14db428593439e86f04f7d7fa562a5",
       "version_major": 2,
       "version_minor": 0
      },
      "text/plain": [
       "merges.txt:   0%|          | 0.00/456k [00:00<?, ?B/s]"
      ]
     },
     "metadata": {},
     "output_type": "display_data"
    },
    {
     "data": {
      "application/vnd.jupyter.widget-view+json": {
       "model_id": "abc00577923f4ab3aa2a40842f62d877",
       "version_major": 2,
       "version_minor": 0
      },
      "text/plain": [
       "special_tokens_map.json:   0%|          | 0.00/772 [00:00<?, ?B/s]"
      ]
     },
     "metadata": {},
     "output_type": "display_data"
    }
   ],
   "source": [
    "model = AutoModelForQuestionAnswering.from_pretrained(model_name)\n",
    "tokenizer = AutoTokenizer.from_pretrained(model_name)"
   ]
  },
  {
   "cell_type": "code",
   "execution_count": null,
   "metadata": {},
   "outputs": [],
   "source": [
    "input0 = tokenizer(QA_input[0]['question'], QA_input[0]['context'], return_tensors='pt')\n",
    "output0 =model(**input0)"
   ]
  },
  {
   "cell_type": "code",
   "execution_count": 12,
   "metadata": {},
   "outputs": [
    {
     "name": "stdout",
     "output_type": "stream",
     "text": [
      "Question: What is the statistical distribution of fission products resulting from the fission?\n",
      "Answer: <s>\n",
      "\n",
      "Question: The low mass hump is at higher mass in what fission?\n",
      "Answer: \n",
      "\n"
     ]
    }
   ],
   "source": [
    "def answer_question(question, context):\n",
    "    inputs = tokenizer(question, context, return_tensors='pt', truncation=True, padding='max_length', max_length=512)\n",
    "    with torch.no_grad():\n",
    "        outputs = model(**inputs)\n",
    "    answer_start_scores = outputs.start_logits\n",
    "    answer_end_scores = outputs.end_logits\n",
    "    answer_start = torch.argmax(answer_start_scores)\n",
    "    answer_end = torch.argmax(answer_end_scores) + 1\n",
    "    answer = tokenizer.convert_tokens_to_string(tokenizer.convert_ids_to_tokens(inputs['input_ids'][0][answer_start:answer_end]))\n",
    "    return answer\n",
    "\n",
    "for qa in QA_input:\n",
    "    question = qa['question']\n",
    "    context = qa['context']\n",
    "    answer = answer_question(question, context)\n",
    "    print(f\"Question: {question}\")\n",
    "    print(f\"Answer: {answer}\\n\")"
   ]
  },
  {
   "cell_type": "code",
   "execution_count": 13,
   "metadata": {},
   "outputs": [
    {
     "name": "stdout",
     "output_type": "stream",
     "text": [
      "Question: What is the statistical distribution of fission products resulting from the fission?\n",
      "Answer: <s>\n",
      "\n",
      "Question: The low mass hump is at higher mass in what fission?\n",
      "Answer: \n",
      "\n"
     ]
    }
   ],
   "source": [
    "def answer_question(question, context):\n",
    "    inputs = tokenizer(question, context, return_tensors='pt', truncation=True, padding='max_length', max_length=512)\n",
    "    input_ids = inputs['input_ids']\n",
    "    attention_mask = inputs['attention_mask']\n",
    "    \n",
    "    with torch.no_grad():\n",
    "        outputs = model(input_ids=input_ids, attention_mask=attention_mask)\n",
    "    \n",
    "    start_scores = outputs.start_logits\n",
    "    end_scores = outputs.end_logits\n",
    "\n",
    "    # Get the most likely beginning and end of answer with the argmax of the score\n",
    "    answer_start = torch.argmax(start_scores)\n",
    "    answer_end = torch.argmax(end_scores) + 1\n",
    "\n",
    "    answer = tokenizer.convert_tokens_to_string(tokenizer.convert_ids_to_tokens(input_ids[0][answer_start:answer_end]))\n",
    "\n",
    "    return answer\n",
    "\n",
    "for qa in QA_input:\n",
    "    question = qa['question']\n",
    "    context = qa['context']\n",
    "    answer = answer_question(question, context)\n",
    "    print(f\"Question: {question}\")\n",
    "    print(f\"Answer: {answer}\\n\")"
   ]
  },
  {
   "cell_type": "markdown",
   "metadata": {},
   "source": [
    "## Second Method"
   ]
  },
  {
   "cell_type": "code",
   "execution_count": 15,
   "metadata": {},
   "outputs": [
    {
     "data": {
      "application/vnd.jupyter.widget-view+json": {
       "model_id": "934b8352e0b845348def2b3b64bb89d6",
       "version_major": 2,
       "version_minor": 0
      },
      "text/plain": [
       "model.safetensors:   0%|          | 0.00/892M [00:00<?, ?B/s]"
      ]
     },
     "metadata": {},
     "output_type": "display_data"
    },
    {
     "data": {
      "application/vnd.jupyter.widget-view+json": {
       "model_id": "94f707bfe1284dc594ffd9b324d7a3da",
       "version_major": 2,
       "version_minor": 0
      },
      "text/plain": [
       "generation_config.json:   0%|          | 0.00/147 [00:00<?, ?B/s]"
      ]
     },
     "metadata": {},
     "output_type": "display_data"
    }
   ],
   "source": [
    "from transformers import AutoTokenizer, AutoModelForSeq2SeqLM, AutoModelForQuestionAnswering\n",
    "# Downloading Model\n",
    "qa_model_name = 'deepset/roberta-base-squad2'\n",
    "qa_model = AutoModelForQuestionAnswering.from_pretrained(qa_model_name)\n",
    "qa_tokenizer = AutoTokenizer.from_pretrained(qa_model_name)\n",
    "\n",
    "t5_model_name = 't5-base'\n",
    "t5_tokenizer = AutoTokenizer.from_pretrained(t5_model_name)\n",
    "t5_model = AutoModelForSeq2SeqLM.from_pretrained(t5_model_name)"
   ]
  },
  {
   "cell_type": "code",
   "execution_count": 16,
   "metadata": {},
   "outputs": [
    {
     "name": "stdout",
     "output_type": "stream",
     "text": [
      "Question: antineutrino signal sensitive to the power and isotopic composition of a reactor core. double Chooz: we thought that we were in a good position to evaluate the interest of using antineutrino detection to remotely monitor nuclear power station. figure 1 : The statistical distribution of the fission products resulting from the fission.\n",
      "Answer: <s>\n",
      "\n",
      "Question: antineutrino signal sensitive to the power and isotopic composition of a reactor core. double Chooz: we thought that we were in a good position to evaluate the interest of using antineutrino detection to remotely monitor nuclear power station. figure 1 : The statistical distribution of the fission products resulting from the fission process.\n",
      "Answer: <s>\n",
      "\n",
      "Question: antineutrino signal sensitive to the power and isotopic composition of a reactor core. double Chooz: we thought that we were in a good position to evaluate the interest of using antineutrino detection to remotely monitor nuclear power station. figure 1 : The statistical distribution of fission products resulting from the fission process.\n",
      "Answer: <s>\n",
      "\n",
      "Question: antineutrino signal sensitive to the power and isotopic composition of a reactor core. double Chooz: we thought that we were in a good position to evaluate the interest of using antineutrino detection to remotely monitor nuclear power station. figure 1 : statistical distribution of the fission products resulting from the fission.\n",
      "Answer: <s>\n",
      "\n",
      "Question: antineutrino signal sensitive to the power and isotopic composition of a reactor core. double Chooz: we thought that we were in a good position to evaluate the interest of using antineutrino detection to remotely monitor nuclear power station. figure 1 : The statistical distribution of fission products resulting from the fission.\n",
      "Answer: <s>\n",
      "\n"
     ]
    }
   ],
   "source": [
    "# Question Generator\n",
    "def generate_questions(context):\n",
    "    input_text = f\"generate questions: {context}\"\n",
    "    inputs = t5_tokenizer(input_text, return_tensors='pt', max_length=512, truncation=True)\n",
    "    outputs = t5_model.generate(inputs['input_ids'], max_length=512, num_return_sequences=5, num_beams=5)\n",
    "    questions = [t5_tokenizer.decode(output, skip_special_tokens=True) for output in outputs]\n",
    "    return questions\n",
    "\n",
    "# Answer Generator\n",
    "def answer_question(question, context):\n",
    "    inputs = qa_tokenizer(question, context, return_tensors='pt', truncation=True, padding='max_length', max_length=512)\n",
    "    input_ids = inputs['input_ids']\n",
    "    attention_mask = inputs['attention_mask']\n",
    "    \n",
    "    with torch.no_grad():\n",
    "        outputs = qa_model(input_ids=input_ids, attention_mask=attention_mask)\n",
    "    \n",
    "    start_scores = outputs.start_logits\n",
    "    end_scores = outputs.end_logits\n",
    "    \n",
    "    answer_start = torch.argmax(start_scores)\n",
    "    answer_end = torch.argmax(end_scores) + 1\n",
    "\n",
    "    answer = qa_tokenizer.convert_tokens_to_string(qa_tokenizer.convert_ids_to_tokens(input_ids[0][answer_start:answer_end]))\n",
    "\n",
    "    return answer\n",
    "\n",
    "def generate_qas(context):\n",
    "    questions = generate_questions(context)\n",
    "    qa_pairs = []\n",
    "    for question in questions:\n",
    "        answer = answer_question(question, context)\n",
    "        qa_pairs.append({'question': question, 'answer': answer})\n",
    "    return qa_pairs\n",
    "\n",
    "# Example Context\n",
    "context = \"\"\"\n",
    "Neutrinos & Non-proliferation in Europe Michel Cribier* APC, Paris CEA/Saclay, DAPNIA/SPP The International Atomic Energy Agency (IAEA) is the United Nations agency in charge of the development of peaceful use of atomic energy. In particular IAEA is the verification authority of the Treaty on the Non-Proliferation of Nuclear Weapons (NPT). To do that jobs inspections of civil nuclear installations and related facilities under safeguards agreements are made in more than 140 states. IAEA uses many different tools for these verifications, like neutron monitor, gamma spectroscopy, but also bookeeping of the isotopic composition at the fuel element level before and after their use in the nuclear power station. In particular it verifie that weapon-origin and other fissile materials that Russia and USA have released from their defense programmes are used for civil application. The existence of an antineutrino signal sensitive to the power and to the isotopic composition of a reactor core, as first proposed by Mikaelian et al. and as demonstrated by the Bugey and Rovno experiments, , could provide a means to address certain safeguards applications. Thus the IAEA recently ask members states to make a feasibility study to determine whether antineutrino detection methods might provide practical safeguards tools for selected applications. If this method proves to be useful, IAEA has the power to decide that any new nuclear power plants built has to include an antineutrino monitor. Within the Double Chooz collaboration, an experiment mainly devoted to study the fundamental properties of neutrinos, we thought that we were in a good position to evaluate the interest of using antineutrino detection to remotely monitor nuclear power station. This effort in Europe, supplemented by the US effort , will constitute the basic answer to IAEA of the neutrino community. * On behalf of a collective work by S. Cormon, M. Fallot, H. Faust, T. Lasserre, A. Letourneau, D. Lhuillier, V. Sinev from DAPNIA, Subatech and ILL. Figure 1 : The statistical distribution of the fission products resulting from the fission of the most important fissile nuclei 235U and 239Pu shows two humps, one centered around masses 100 and the other one centered around 135.\n",
    "\"\"\"\n",
    "\n",
    "# QA \n",
    "qa_pairs = generate_qas(context)\n",
    "for qa in qa_pairs:\n",
    "    print(f\"Question: {qa['question']}\")\n",
    "    print(f\"Answer: {qa['answer']}\\n\")"
   ]
  },
  {
   "cell_type": "code",
   "execution_count": null,
   "metadata": {},
   "outputs": [],
   "source": []
  },
  {
   "cell_type": "code",
   "execution_count": null,
   "metadata": {},
   "outputs": [],
   "source": []
  }
 ],
 "metadata": {
  "kernelspec": {
   "display_name": "Python 3",
   "language": "python",
   "name": "python3"
  },
  "language_info": {
   "codemirror_mode": {
    "name": "ipython",
    "version": 3
   },
   "file_extension": ".py",
   "mimetype": "text/x-python",
   "name": "python",
   "nbconvert_exporter": "python",
   "pygments_lexer": "ipython3",
   "version": "3.11.5"
  }
 },
 "nbformat": 4,
 "nbformat_minor": 2
}

{
  "cells": [
    {
      "cell_type": "markdown",
      "metadata": {
        "id": "5VZI5i_cxuX1"
      },
      "source": [
        "## DOCUMENT"
      ]
    },
    {
      "cell_type": "code",
      "execution_count": 27,
      "metadata": {
        "colab": {
          "base_uri": "https://localhost:8080/"
        },
        "id": "o1kRjPU73SYA",
        "outputId": "162aac0a-0b73-48a0-e2d5-6a91f3a2857a"
      },
      "outputs": [
        {
          "name": "stdout",
          "output_type": "stream",
          "text": [
            "Requirement already satisfied: faiss-cpu in /usr/local/lib/python3.10/dist-packages (1.8.0.post1)\n",
            "Requirement already satisfied: numpy<2.0,>=1.0 in /usr/local/lib/python3.10/dist-packages (from faiss-cpu) (1.25.2)\n",
            "Requirement already satisfied: packaging in /usr/local/lib/python3.10/dist-packages (from faiss-cpu) (24.1)\n"
          ]
        }
      ],
      "source": [
        "!pip install faiss-cpu"
      ]
    },
    {
      "cell_type": "code",
      "execution_count": 1,
      "metadata": {
        "colab": {
          "base_uri": "https://localhost:8080/"
        },
        "id": "0nP-Vfzqdco2",
        "outputId": "dd279bd9-2e07-4fe2-f96e-f99bc0536d0c"
      },
      "outputs": [
        {
          "name": "stderr",
          "output_type": "stream",
          "text": [
            "Downloading...\n",
            "From: https://drive.google.com/uc?id=1QeYz4v_CNfRF6x8cyowrj7FW9UfLazTm\n",
            "To: /content/Nuclear.zip\n",
            "100%|██████████| 22.6k/22.6k [00:00<00:00, 6.90MB/s]"
          ]
        },
        {
          "name": "stdout",
          "output_type": "stream",
          "text": [
            "DONE\n",
            "ZIP was opened succesfully.\n"
          ]
        },
        {
          "name": "stderr",
          "output_type": "stream",
          "text": [
            "\n"
          ]
        }
      ],
      "source": [
        "import gdown\n",
        "# Output file name and Google Drive file ID\n",
        "output = 'Nuclear.zip'\n",
        "file_id = '1QeYz4v_CNfRF6x8cyowrj7FW9UfLazTm'\n",
        "\n",
        "# The file is downloaded from Google Drive\n",
        "gdown.download(id=file_id, output=output, quiet=False)\n",
        "print('DONE')\n",
        "\n",
        "import zipfile\n",
        "\n",
        "zip_file = 'Nuclear.zip'\n",
        "\n",
        "with zipfile.ZipFile(zip_file, 'r') as zip_ref:\n",
        "    zip_ref.extractall('./extracted_articles')\n",
        "\n",
        "print('ZIP was opened succesfully.')"
      ]
    },
    {
      "cell_type": "code",
      "execution_count": 2,
      "metadata": {
        "colab": {
          "base_uri": "https://localhost:8080/"
        },
        "id": "kp7ncOYZ5TaP",
        "outputId": "ba1826cd-9224-46a1-b32b-02912b197b2d"
      },
      "outputs": [
        {
          "name": "stdout",
          "output_type": "stream",
          "text": [
            "Reading titles...\n",
            "DONE.\n",
            "\n",
            "There are 3 articles.\n"
          ]
        }
      ],
      "source": [
        "import os\n",
        "import zipfile\n",
        "import urllib.parse\n",
        "\n",
        "# folder name to create in Colab\n",
        "extract_folder = '/content/extracted_articles/New folder'\n",
        "\n",
        "# Create if the folder does not exist\n",
        "if not os.path.exists(extract_folder):\n",
        "    os.makedirs(extract_folder)\n",
        "\n",
        "# Name of the downloaded ZIP file\n",
        "zip_file = '/content/Nuclear.zip'\n",
        "\n",
        "# Open ZIP file\n",
        "with zipfile.ZipFile(zip_file, 'r') as zip_ref:\n",
        "    zip_ref.extractall(extract_folder)\n",
        "\n",
        "# Title and article lists\n",
        "titles = []\n",
        "articles = []\n",
        "\n",
        "print('Reading titles...')\n",
        "\n",
        "i = 0\n",
        "\n",
        "# Navigating the extracted file folder\n",
        "for filename in os.listdir(extract_folder):\n",
        "    if not filename.endswith('.txt'):\n",
        "        continue\n",
        "\n",
        "    file_path = os.path.join(extract_folder, filename)\n",
        "\n",
        "    with open(file_path, 'rb') as f:\n",
        "        title = urllib.parse.unquote(filename[:-4])\n",
        "        title = title.replace('_', ' ')\n",
        "\n",
        "        if len(title) == 0 or len(title.strip()) == 0:\n",
        "            print('Empty title for', filename)\n",
        "            continue\n",
        "\n",
        "        titles.append(title)\n",
        "        articles.append(f.read().decode('utf-8'))  # changed to 'utf-8'\n",
        "        i += 1\n",
        "\n",
        "        if i % 500 == 0:\n",
        "            print('Processed {:,}'.format(i))\n",
        "\n",
        "print('DONE.\\n')\n",
        "print('There are {:,} articles.'.format(len(articles)))\n"
      ]
    },
    {
      "cell_type": "code",
      "execution_count": 3,
      "metadata": {
        "colab": {
          "base_uri": "https://localhost:8080/"
        },
        "id": "t7Zw3zd06sIm",
        "outputId": "dafb9dd8-6044-4f8d-97c7-e0cef80dd219"
      },
      "outputs": [
        {
          "data": {
            "text/plain": [
              "['wiki boiling water reactor History of nuclear power',\n",
              " 'wiki boiling water reactor Horizon Nuclear Power',\n",
              " 'wiki boiling water reactor Light-water reactor']"
            ]
          },
          "execution_count": 3,
          "metadata": {},
          "output_type": "execute_result"
        }
      ],
      "source": [
        "titles[0:4]"
      ]
    },
    {
      "cell_type": "code",
      "execution_count": 4,
      "metadata": {
        "colab": {
          "base_uri": "https://localhost:8080/",
          "height": 174
        },
        "id": "WOva1zcl6sLK",
        "outputId": "7941f05c-d639-4a31-9758-077296bd63af"
      },
      "outputs": [
        {
          "data": {
            "application/vnd.google.colaboratory.intrinsic+json": {
              "type": "string"
            },
            "text/plain": [
              "'This is a history of nuclear power as realized through the first artificial fission of atoms that would lead to the Manhattan Project and, eventually, to using nuclear fission to generate electricity.  \\n\\n\\n== Origins ==\\n\\nIn 1932, physicists John Cockcroft, Ernest Walton, and Ernest Rutherford discovered that when lithium atoms were \"split\" by protons from a proton accelerator, immense amounts of energy were released in accordance with the principle of mass–energy equivalence. However, they and other nuclear physics pioneers Niels Bohr and Albert Einstein believed harnessing the power of the atom for practical purposes anytime in the near future was unlikely. The same year, Rutherford\\'s doctoral student James Chadwick discovered the neutron. Experiments bombarding materials with neutrons led Frédéric and Irène Joliot-Curie to discover induced radioactivity in 1934, which allowed the creation of radium-like elements. Further work by Enrico Fermi in the 1930s focused on using slow neutrons to increase the effectiveness of induced radioactivity. Experiments bombarding uranium with neutrons led Fermi to believe he had created a new transuranic element, which was dubbed hesperium.\\nIn 1938, German chemists Otto Hahn and Fritz Strassmann, along with Austrian physicist Lise Meitner and Meitner\\'s nephew, Otto Robert Frisch, conducted experiments with the products of neutron-bombarded uranium, as a means of further investigating Fermi\\'s claims. They determined that the relatively tiny neutron split the nucleus of the massive uranium atoms into two roughly equal pieces, contradicting Fermi. This was an extremely surprising result; all other forms of nuclear decay involved only small changes to the mass of the nucleus, whereas this process—dubbed \"fission\" as a reference to biology—involved a complete rupture of the nucleus. Numerous scientists, including Leó Szilárd, who was one of the first, recognized that if fission reactions released additional neutrons, a self-sustaining nuclear chain reaction could result. Once this was experimentally confirmed and announced by Frédéric Joliot-Curie in 1939, scientists in many countries (including the United States, the United Kingdom, France, Germany, and the Soviet Union) petitioned their governments for support of nuclear fission research, just on the cusp of World War II, for the development of a nuclear weapon.\\n\\n\\n== First nuclear reactor ==\\n\\nIn the United States, where Fermi and Szilárd had both emigrated, the discovery of the nuclear chain reaction led to the creation of the first man-made reactor, the research reactor known as Chicago Pile-1, which achieved criticality on 2 December 1942. The reactor\\'s development was part of the Manhattan Project, the Allied effort to create atomic bombs during World War II. It led to the building of larger single-purpose production reactors, such as the X-10 Pile, for the production of weapons-grade plutonium for use in the first nuclear weapons. The United States tested the first nuclear weapon in July 1945, the Trinity test, with the atomic bombings of Hiroshima and Nagasaki taking place one month later.\\nIn August 1945, the first widely distributed account of nuclear energy, the pocketbook The Atomic Age, was released. It discussed the peaceful future uses of nuclear energy and depicted a future where fossil fuels would go unused. Nobel laureate Glenn Seaborg, who later chaired the United States Atomic Energy Commission, is quoted as saying \"there will be nuclear powered earth-to-moon shuttles, nuclear powered artificial hearts, plutonium heated swimming pools for SCUBA divers, and much more\".\\nIn the same month, with the end of the war, Seaborg and others would file hundreds of initially classified patents, most notably Eugene Wigner and Alvin Weinberg\\'s Patent #2,736,696, on a conceptual light water reactor (LWR) that would later become the United States\\' primary reactor for naval propulsion and later take up the greatest share of the commercial fission-electric landscape.\\nThe United Kingdom, Canada, and the USSR proceeded to research and develop nuclear energy over the course of the late 1940s and early 1950s.\\nElectricity was generated for the first time by a nuclear reactor on 20 December 1951, at the EBR-I experimental station near Arco, Idaho, which initially produced about 100 kW.\\nIn 1953, American President Dwight Eisenhower gave his \"Atoms for Peace\" speech at the United Nations, emphasizing the need to develop \"peaceful\" uses of nuclear power quickly. This was followed by the Atomic Energy Act of 1954 which allowed rapid declassification of U.S. reactor technology and encouraged development by the private sector.\\nThe F-1 (from \"First Physical Reactor\") was a research reactor operated by the Kurchatov Institute in Moscow, USSR.  When started on 25 December 1946, it became the first nuclear reactor in Europe to achieve a self-sustaining nuclear chain reaction.\\n\\n\\n== Early years ==\\n\\nThe first organization to develop nuclear power was the U.S. Navy, with the S1W reactor for the purpose of propelling submarines and aircraft carriers. The first nuclear-powered submarine, USS Nautilus, was put to sea in January 1954. The S1W reactor was a Pressurized Water Reactor. This design was chosen because it was simpler, more compact, and easier to operate compared to alternative designs, thus more suitable to be used in submarines. This decision would result in the PWR being the reactor of choice also for power generation, thus having a lasting impact on the civilian electricity market in the years to come. \\nThe United States Navy Nuclear Propulsion design and operation community, under Rickover\\'s style\\nOn 27 June 1954, the Obninsk Nuclear Power Plant in the USSR became the world\\'s first nuclear power plant to generate electricity for a power grid, producing around 5 megawatts of electric power. \\nThe world\\'s first commercial nuclear power station, Calder Hall at Windscale, England was connected to the national power grid on 27 August 1956. In common with a number of other generation I reactors, the plant had the dual purpose of producing electricity and plutonium-239, the latter for the nascent nuclear weapons program in Britain. It had an initial capacity of 50 MW per reactor (200 MW total), it was the first of a fleet of dual-purpose MAGNOX reactors.\\nThe U.S. Army Nuclear Power Program formally commenced in 1954. Under its management, the 2 megawatt SM-1, at Fort Belvoir, Virginia, was the first in the United States to supply electricity in an industrial capacity to the commercial grid (VEPCO), in April 1957.\\nThe first commercial nuclear station to become operational in the United States was the 60 MW Shippingport Reactor (Pennsylvania), in December 1957.\\nOriginating from a cancelled nuclear-powered aircraft carrier contract, the plant used a PWR reactor design. Its early adoption, technological lock-in, and familiarity among retired naval personnel, established the PWR as the predominant civilian reactor design, that it still retains today in the United States.\\nIn 1957 EURATOM was launched alongside the European Economic Community (the latter is now the European Union). The same year also saw the launch of the International Atomic Energy Agency (IAEA).\\nThe first major accident at a nuclear reactor occurred at the 3 MW SL-1, a U.S. Army experimental nuclear power reactor at the National Reactor Testing Station, Idaho National Laboratory. It was derived from the Borax Boiling water reactor (BWR) design and it first achieved operational criticality and connection to the grid in 1958. \\nFor reasons unknown, in 1961 a technician removed a control rod about 22 inches farther than the prescribed 4 inches. This resulted in a steam explosion which killed the three crew members and caused a meltdown. The event was eventually rated at 4 on the seven-level INES scale. On 16 September 1967, the Pathfinder Nuclear Station near Sioux Falls, South Dakota, open for about a year, suffered an accident which caused the one year old plant to be retired permanently when an operator opened a valve too fast.\\nAnother serious accident happened in 1968, when one of the two liquid-metal-cooled reactors on board the Soviet submarine K-27 underwent a fuel element failure, with the emission of gaseous fission products into the surrounding air. This resulted in 9 crew fatalities and 83 injuries.\\n\\n\\n== Development and early opposition to nuclear power ==\\n\\nThe total global installed nuclear capacity initially rose relatively quickly, rising from less than 1 gigawatt (GW) in 1960 to 100 GW in the late 1970s, and 300 GW in the late 1980s. Since the late 1980s worldwide capacity has risen much more slowly, reaching 366 GW in 2005. Between around 1970 and 1990, more than 50 GW of capacity was under construction (peaking at over 150 GW in the late 1970s and early 1980s)—in 2005, around 25 GW of new capacity was planned. More than two-thirds of all nuclear plants ordered after January 1970 were eventually cancelled. A total of 63 nuclear units were canceled in the United States between 1975 and 1980.\\nIn 1972 Alvin Weinberg, co-inventor of the light water reactor design (the most common nuclear reactors today) was fired from his job at Oak Ridge National Laboratory by the Nixon administration, \"at least in part\" over his raising of concerns about the safety and wisdom of ever larger scaling-up of his design, especially above a power rating of ~500 MWe, as in a loss of coolant accident scenario, the decay heat generated from such large compact solid-fuel cores was thought to be beyond the capabilities of passive/natural convection cooling to prevent a rapid fuel rod melt-down and resulting in then, potential far reaching fission product pluming. While considering the LWR, well suited at sea for the submarine and naval fleet, Weinberg did not show complete support for its use by utilities on land at the power output that they were interested in for supply scale reasons, and would request for a greater share of AEC research funding to evolve his team\\'s demonstrated, Molten-Salt Reactor Experiment, a design with greater inherent safety in this scenario and with that an envisioned greater economic growth potential in the market of large-scale civilian electricity generation.\\nSimilar to the earlier BORAX reactor safety experiments, conducted by Argonne National Laboratory, in 1976 Idaho National Laboratory began a test program focused on LWR reactors under various accident scenarios, with the aim of understanding the event progression and mitigating steps necessary to respond to a failure of one or more of the disparate systems, with much of the redundant back-up safety equipment and nuclear regulations drawing from these series of destructive testing investigations.\\nDuring the 1970s and 1980s rising economic costs (related to extended construction times largely due to regulatory changes and pressure-group litigation) and falling fossil fuel prices made nuclear power plants then under construction less attractive. In the 1980s in the U.S. and 1990s in Europe, the flat electric grid growth and electricity liberalization also made the addition of large new baseload energy generators economically unattractive.\\n\\nThe 1973 oil crisis had a significant effect on countries, such as France and Japan, which had relied more heavily on oil for electric generation (39% and 73% respectively) to invest in nuclear power.\\nThe French plan, known as the Messmer plan, was for the complete independence from oil, with an envisaged construction of 80 reactors by 1985 and 170 by 2000.\\nFrance would construct 25 fission-electric stations, installing 56 mostly PWR design reactors over the next 15 years, though foregoing the 100 reactors initially charted in 1973, for the 1990s. \\nIn 2019, 71% of French electricity was generated by 58 reactors, the highest percentage by any nation in the world.\\nSome local opposition to nuclear power emerged in the U.S. in the early 1960s, beginning with the proposed Bodega Bay station in California, in 1958, which produced conflict with local citizens and by 1964 the concept was ultimately abandoned. In the late 1960s some members of the scientific community began to express pointed concerns. These anti-nuclear concerns related to nuclear accidents, nuclear proliferation, nuclear terrorism and radioactive waste disposal. In the early 1970s, there were large protests about a proposed nuclear power plant in Wyhl, Germany, and the project was cancelled in 1975. The anti-nuclear success at Wyhl inspired opposition to nuclear power in other parts of Europe and North America. By the mid-1970s, anti-nuclear activism had gained a wider appeal and influence, and nuclear power began to become an issue of major public protest. In some countries, the nuclear power conflict \"reached an intensity unprecedented in the history of technology controversies\". In May 1979, an estimated 70,000 people, including then governor of California Jerry Brown, attended a march against nuclear power in Washington, D.C. Anti-nuclear power groups emerged in every country that had a nuclear power programme.\\nGlobally during the 1980s one new nuclear reactor started up every 17 days on average.\\n\\n\\n== Regulations, pricing and accidents ==\\nIn the early 1970s, the increased public hostility to nuclear power in the United States lead the United States Atomic Energy Commission and later the Nuclear Regulatory Commission to lengthen the license procurement process, tighten engineering regulations and increase the requirements for safety equipment. Together with relatively minor percentage increases in the total quantity of steel, piping, cabling and concrete per unit of installed nameplate capacity, the more notable changes to the regulatory open public hearing-response cycle for the granting of construction licenses, had the effect of what was once an initial 16 months for project initiation to the pouring of first concrete in 1967, escalating to 32 months in 1972 and finally 54 months in 1980, which ultimately, quadrupled the price of power reactors.\\nUtility proposals in the U.S for nuclear generating stations, peaked at 52 in 1974, fell to 12 in 1976 and have never recovered, in large part due to the pressure-group litigation strategy, of launching lawsuits against each proposed U.S construction proposal,  keeping private utilities tied up in court for years, one of which having reached the supreme court in 1978 (see Vermont Yankee Nuclear Power Corp. v. Natural Resources Defense Council, Inc. With permission to build a nuclear station in the U.S. eventually taking longer than in any other industrial country, the spectre facing utilities of having to pay interest on large construction loans while the anti-nuclear movement used the legal system to produce delays, increasingly made the viability of financing construction, less certain. As the 1970s came to a close, it became clear that nuclear power would not grow nearly as dramatically as once believed.\\nOver 120 reactor proposals in the United States were ultimately cancelled and the construction of new reactors ground to a halt. A cover story in the 11 February 1985, issue of Forbes magazine commented on the overall failure of the U.S. nuclear power program, saying it \"ranks as the largest managerial disaster in business history\".\\nAccording to some commentators, the 1979 accident at Three Mile Island played a major part in the reduction in the number of new plant constructions in many other countries. According to the Nuclear Regulatory Commission (NRC), the Three Mile Island accident was the most serious accident in \"U.S. commercial nuclear power plant operating history, even though it led to no deaths or injuries to plant workers or members of the nearby community.\" The regulatory uncertainty and delays eventually resulted in an escalation of construction related debt that led to the bankruptcy of Seabrook\\'s major utility owner, Public Service Company of New Hampshire. At the time, it was the fourth largest bankruptcy in United States corporate history.\\nAmong American engineers, the cost increases from implementing the regulatory changes that resulted from the TMI accident were, when eventually finalized, only a few percent of total construction costs for new reactors, primarily relating to the prevention of safety systems from being turned off. With the most significant engineering result of the TMI accident, the recognition that better operator training was needed and that the existing emergency core cooling system of PWRs worked better in a real-world emergency than members of the anti-nuclear movement had routinely claimed.\\nThe already slowing rate of new construction along with the shutdown in the 1980s of two existing demonstration nuclear power stations in the Tennessee Valley, United States, when they could not economically meet the NRC\\'s new tightened standards, shifted electricity generation to coal-fired power plants. In 1977, following the first oil shock, U.S. President Jimmy Carter made a speech calling the energy crisis the \"moral equivalent of war\" and prominently supporting nuclear power.  However, nuclear power could not compete with cheap oil and gas, particularly after public opposition and regulatory hurdles made new nuclear prohibitively expensive.\\nIn 1982, amongst a backdrop of ongoing protests directed at the construction of the first commercial scale breeder reactor in France, a later member of the Swiss Green Party fired five RPG-7 rocket-propelled grenades at the still under construction containment building of the Superphenix reactor. Two grenades hit and caused minor damage to the reinforced concrete outer shell. It was the first time protests reached such heights. After examination of the superficial damage, the prototype fast breeder reactor started and operated for over a decade.\\n\\n\\n== Chernobyl disaster ==\\n\\nThe Chernobyl disaster occurred on Saturday 26 April 1986, at the No. 4 reactor in the Chernobyl Nuclear Power Plant, near the city of Pripyat in the north of the Ukrainian SSR. It is considered as the worst nuclear disaster in history both in terms of cost and casualties. The initial emergency response, together with later decontamination of the environment, ultimately involved more than 500,000 personnel and cost an estimated 18 billion Soviet rubles—roughly US$68 billion in 2019, adjusted for inflation.\\nAccording to some commentators, the Chernobyl disaster played a major part in the reduction in the number of new plant constructions in many other countries.\\nUnlike the Three Mile Island accident the much more serious Chernobyl accident did not increase regulations or engineering changes affecting Western reactors; because the RBMK design, which lacks safety features such as \"robust\" containment buildings, was only used in the Soviet Union. Over 10 RBMK reactors are still in use today. However, changes were made in both the RBMK reactors themselves (use of a safer enrichment of uranium) and in the control system (preventing safety systems being disabled), amongst other things, to reduce the possibility of a similar accident. \\nRussia now largely relies upon, builds and exports a variant of the PWR, the VVER, with over 20 in use today.\\nAn international organization to promote safety awareness and the professional development of operators in nuclear facilities, the World Association of Nuclear Operators (WANO), was created as a direct outcome of the 1986 Chernobyl accident. The organization was created with the intent to share and grow the adoption of nuclear safety culture, technology and community, where before there was an atmosphere of cold war secrecy.\\nNumerous countries, including Austria (1978), Sweden (1980) and Italy (1987) (influenced by Chernobyl) have voted in referendums to oppose or phase out nuclear power.\\n\\n\\n== Nuclear renaissance ==\\n\\nIn the early 2000s, the nuclear industry was expecting a nuclear renaissance, an increase in the construction of new reactors, due to concerns about carbon dioxide emissions. However, in 2009, Petteri Tiippana, the director of nuclear power plant division in the Finnish Radiation and Nuclear Safety Authority, told the BBC that it was difficult to deliver a Generation III reactor project on schedule because builders were not used to working to the exacting standards required on nuclear construction sites, since so few new reactors had been built in recent years.\\nThe Olkiluoto 3 was the first EPR, a modernized PWR design, to start construction. Problems with workmanship and supervision have created costly delays. The reactor is estimated to cost three times the initial estimate and will be delivered over 10 years behind schedule.\\nIn 2018 the MIT Energy Initiative study on the future of nuclear energy concluded that, together with the strong suggestion that government should financially support development and demonstration of new Generation IV nuclear technologies, for a worldwide renaissance to commence, a global standardization of regulations needs to take place, with a move towards serial manufacturing of standardized units akin to the other complex engineering field of aircraft and aviation. At present it is common for each country to demand bespoke changes to the design to satisfy varying national regulatory bodies, often to the benefit of domestic engineering supply firms. The report goes on to note that the most cost-effective projects have been built with multiple (up to six) reactors per site using a standardized design, with the same component suppliers and construction crews working on each unit, in a continuous work flow.\\n\\n\\n== Fukushima Daiichi disaster ==\\n\\nFollowing the Tōhoku earthquake on 11 March 2011, one of the largest earthquakes ever recorded, and a subsequent tsunami off the coast of Japan, the Fukushima Daiichi Nuclear Power Plant suffered three core meltdowns due to failure of the emergency cooling system for lack of electricity supply. This resulted in the most serious nuclear accident since the Chernobyl disaster.\\nThe Fukushima Daiichi nuclear accident prompted a re-examination of nuclear safety and nuclear energy policy in many countries and raised questions among some commentators over the future of the renaissance.\\nGermany approved plans to close all its reactors by 2022 (Following the energy crisis caused by the Russian invasion of Ukraine, Germany now plans to keep reactors running until April 2023). Italian nuclear energy plans ended when Italy banned the generation, but not consumption, of nuclear electricity in a June 2011 referendum.\\nChina, Switzerland, Israel, Malaysia, Thailand, United Kingdom, and the Philippines reviewed their nuclear power programs.\\nIn 2011 the International Energy Agency halved its prior estimate of new generating capacity to be built by 2035.\\nNuclear power generation had the biggest ever fall year-on-year in 2012, with nuclear power plants globally producing 2,346 TWh of electricity, a drop of 7% from 2011.\\nThis was caused primarily by the majority of Japanese reactors remaining offline that year and the permanent closure of eight reactors in Germany.\\n\\n\\n== Post-Fukushima ==\\n\\nThe Associated Press and Reuters reported in 2011 the suggestion that the safety and survival of the younger Onagawa Nuclear Power Plant, the closest reactor facility to the epicenter and on the coast, demonstrate that it is possible for nuclear facilities to withstand the greatest natural disasters. The Onagawa plant was also said to show that nuclear power can retain public trust, with the surviving residents of the town of Onagawa taking refuge in the gymnasium of the nuclear facility following the destruction of their town.\\nIn February 2012, the U.S. NRC approved the construction of 2 reactors at the Vogtle Electric Generating Plant, the first approval in 30 years.\\nIn August 2015, following 4 years of near zero fission-electricity generation, Japan began restarting its nuclear reactors, after safety upgrades were completed, beginning with Sendai Nuclear Power Plant.\\nBy 2015, the IAEA\\'s outlook for nuclear energy had become more promising.\\n\"Nuclear power is a critical element in limiting greenhouse gas emissions,\" the agency noted, and \"the prospects for nuclear energy remain positive in the medium to long term despite a negative impact in some countries in the aftermath of the [Fukushima-Daiichi] accident...it is still the second-largest source worldwide of low-carbon electricity.\\nAnd the 72 reactors under construction at the start of last year were the most in 25 years.\"\\nAs of 2015, the global trend was for new nuclear power stations coming online to be balanced by the number of old plants being retired. Eight new grid connections were completed by China in 2015.\\nIn 2016, the BN-800 sodium cooled fast reactor in Russia, began commercial electricity generation, while plans for a BN-1200 were initially conceived the future of the fast reactor program in Russia awaits the results from MBIR, an under construction multi-loop Generation research facility for testing the chemically more inert lead, lead-bismuth and gas coolants, it will similarly run on recycled MOX (mixed uranium and plutonium oxide) fuel. An on-site pyrochemical processing, closed fuel-cycle facility, is planned, to recycle the spent fuel/\"waste\" and reduce the necessity for a growth in uranium mining and exploration. In 2017 the manufacture program for the reactor commenced with the facility open to collaboration under the \"International Project on Innovative Nuclear Reactors and Fuel Cycle\", it has a construction schedule, that includes an operational start in 2020. As planned, it will be the world\\'s most-powerful research reactor.\\nIn 2015, the Japanese government committed to the aim of restarting its fleet of 40 reactors by 2030 after safety upgrades, and to finish the construction of the Generation III Ōma Nuclear Power Plant.\\nThis would mean that approximately 20% of electricity would come from nuclear power by 2030. As of 2018, some reactors have restarted commercial operation following inspections and upgrades with new regulations. While South Korea has a large nuclear power industry, the new government in 2017,  influenced by a vocal anti-nuclear movement, committed to halting nuclear development after the completion of the facilities presently under construction.\\nThe bankruptcy of Westinghouse in March 2017 due to US$9 billion of losses from the halting of construction at Virgil C. Summer Nuclear Generating Station, in the U.S. is considered an advantage for eastern companies, for the future export and design of nuclear fuel and reactors.\\nIn 2016, the U.S. Energy Information Administration projected for its \"base case\" that world nuclear power generation would increase from 2,344 terawatt hours (TWh) in 2012 to 4,500 TWh in 2040. Most of the predicted increase was expected to be in Asia. As of 2018, there are over 150 nuclear reactors planned including 50 under construction. In January 2019, China had 45 reactors in operation, 13 under construction, and plans to build 43 more, which would make it the world\\'s largest generator of nuclear electricity.\\n\\n\\n== Current prospects ==\\n\\nZero-emission nuclear power is an important part of the climate change mitigation effort. Under IEA Sustainable Development Scenario by 2030 nuclear power and CCUS would have generated 3900 TWh globally while wind and solar 8100 TWh with the ambition to achieve net-zero CO2 emissions by 2070. In order to achieve this goal on average 15 GWe of nuclear power should have been added annually on average. As of 2019 over 60 GW in new nuclear power plants was in construction, mostly in China, Russia, Korea, India and UAE. Many countries in the world are considering Small Modular Reactors with one in Russia connected to the grid in 2020.\\nCountries with at least one nuclear power plant in planning phase include Argentina, Brazil, Bulgaria, the Czech Republic, Egypt, Finland, Hungary, India, Kazakhstan, Poland, Saudi Arabia and Uzbekistan.\\nThe future of nuclear power varies greatly between countries, depending on government policies. Some countries, most notably, Germany, have adopted policies of nuclear power phase-out. At the same time, some Asian countries, such as China and India, have committed to rapid expansion of nuclear power. In other countries, such as the United Kingdom and the United States, nuclear power is planned to be part of the energy mix together with renewable energy.\\nNuclear energy may be one solution to providing clean power while also reversing the impact fossil fuels have had on our climate. These plants would capture carbon dioxide and create a clean energy source with zero emissions, making a carbon-negative process. Scientists propose that 1.8 million lives have already been saved by replacing fossil fuel sources with nuclear power.\\nAs of 2019 the cost of extending plant lifetimes is competitive with other electricity generation technologies, including new solar and wind projects. In the United States, licenses of almost half of the operating nuclear reactors have been extended to 60 years.\\nThe U.S. NRC and the U.S. Department of Energy have initiated research into light water reactor sustainability which is hoped will lead to allowing extensions of reactor licenses beyond 60 years, provided that safety can be maintained, to increase energy security and preserve low-carbon generation sources.  Research into nuclear reactors that can last 100 years, known as Centurion Reactors, is being conducted.\\nAs of 2020, a number of US nuclear power plants were cleared by Nuclear Regulatory Commission for operations up to 80 years.\\nFollowing the 2022 Russian invasion of Ukraine, the situation has changed. With the Versailles declaration agreed in March 2022, the EU leaders of the 27 member states agreed to phase out the EU’s dependence on Russian fossil fuels as soon as possible.\\nThe World Economic Forum has published energy policy changes, following the Russian Invasion. \\nKorea is planning to \"increase renewables in electricity [...] [and] nuclear power to over 30%\". Japan has decided to \"restart nuclear power plants aligned with the 6th Strategic Energy Plan [...]\". \\nGermany decided to postpone the shutdown of its three remaining nuclear power plants until April 2023.\\n\\n\\n== References =='"
            ]
          },
          "execution_count": 4,
          "metadata": {},
          "output_type": "execute_result"
        }
      ],
      "source": [
        "articles[0]"
      ]
    },
    {
      "cell_type": "markdown",
      "metadata": {
        "id": "jb-kT3Ho7e4u"
      },
      "source": [
        "## CHUNK ARTICLES\n"
      ]
    },
    {
      "cell_type": "code",
      "execution_count": 5,
      "metadata": {
        "colab": {
          "base_uri": "https://localhost:8080/"
        },
        "id": "c3PLCYus6sOa",
        "outputId": "9e90cf68-4bf8-4cab-a726-dec7d08efeb8"
      },
      "outputs": [
        {
          "name": "stdout",
          "output_type": "stream",
          "text": [
            "Before splitting, 3 articles.\n",
            "\n",
            "Splitting...\n",
            "DONE.\n",
            "\n",
            "Processed 90 passages.\n"
          ]
        }
      ],
      "source": [
        "print('Before splitting, {:,} articles.\\n'.format(len(titles)))\n",
        "\n",
        "passage_titles = []\n",
        "passages = []\n",
        "\n",
        "print('Splitting...')\n",
        "\n",
        "for i in range(len(titles)):\n",
        "    title = titles[i]\n",
        "    article = articles[i]\n",
        "\n",
        "    if len(article) == 0:\n",
        "        print('Empty article for', title)\n",
        "        continue\n",
        "\n",
        "    words = article.split()\n",
        "\n",
        "    for j in range(0, len(words), 100):\n",
        "        chunk_words = words[j:j+100]\n",
        "        chunk = \" \".join(chunk_words).strip()\n",
        "\n",
        "        if len(chunk) == 0:\n",
        "            continue\n",
        "\n",
        "        passage_titles.append(title)\n",
        "        passages.append(chunk)\n",
        "\n",
        "print('DONE.\\n')\n",
        "\n",
        "chunked_corpus = {'title': passage_titles, 'text': passages}\n",
        "\n",
        "print('Processed {:,} passages.'.format(len(chunked_corpus['title'])))\n"
      ]
    },
    {
      "cell_type": "markdown",
      "metadata": {
        "id": "rX8mTc5q7u90"
      },
      "source": [
        "## Create DPR Embeddings"
      ]
    },
    {
      "cell_type": "code",
      "execution_count": 6,
      "metadata": {
        "colab": {
          "base_uri": "https://localhost:8080/"
        },
        "id": "rcM2RWuLHPbS",
        "outputId": "c90e8c53-0f91-47f5-998c-e4e930d5ff9a"
      },
      "outputs": [
        {
          "name": "stderr",
          "output_type": "stream",
          "text": [
            "/usr/local/lib/python3.10/dist-packages/huggingface_hub/utils/_token.py:89: UserWarning: \n",
            "The secret `HF_TOKEN` does not exist in your Colab secrets.\n",
            "To authenticate with the Hugging Face Hub, create a token in your settings tab (https://huggingface.co/settings/tokens), set it as secret in your Google Colab and restart your session.\n",
            "You will be able to reuse this secret in all of your notebooks.\n",
            "Please note that authentication is recommended but still optional to access public models or datasets.\n",
            "  warnings.warn(\n",
            "Some weights of the model checkpoint at facebook/dpr-ctx_encoder-multiset-base were not used when initializing DPRContextEncoder: ['ctx_encoder.bert_model.pooler.dense.bias', 'ctx_encoder.bert_model.pooler.dense.weight']\n",
            "- This IS expected if you are initializing DPRContextEncoder from the checkpoint of a model trained on another task or with another architecture (e.g. initializing a BertForSequenceClassification model from a BertForPreTraining model).\n",
            "- This IS NOT expected if you are initializing DPRContextEncoder from the checkpoint of a model that you expect to be exactly identical (initializing a BertForSequenceClassification model from a BertForSequenceClassification model).\n",
            "The tokenizer class you load from this checkpoint is not the same type as the class this function is called from. It may result in unexpected tokenization. \n",
            "The tokenizer class you load from this checkpoint is 'DPRQuestionEncoderTokenizer'. \n",
            "The class this function is called from is 'DPRContextEncoderTokenizerFast'.\n"
          ]
        },
        {
          "name": "stdout",
          "output_type": "stream",
          "text": [
            "Tokenizing 90 passages for DPR...\n",
            "DONE\n",
            "Processing 90 batches...\n",
            "torch.Size([90, 166])\n",
            "DONE.\n",
            "Size of dataset embeddings: (90, 768)\n"
          ]
        }
      ],
      "source": [
        "from transformers import DPRContextEncoder, DPRContextEncoderTokenizerFast\n",
        "import torch\n",
        "import time\n",
        "import datetime\n",
        "import math\n",
        "import numpy as np\n",
        "\n",
        "# Model and tokeniser loading\n",
        "ctx_encoder = DPRContextEncoder.from_pretrained(\"facebook/dpr-ctx_encoder-multiset-base\")\n",
        "ctx_tokenizer = DPRContextEncoderTokenizerFast.from_pretrained(\"facebook/dpr-ctx_encoder-multiset-base\")\n",
        "\n",
        "# Device\n",
        "device = torch.device('cuda' if torch.cuda.is_available() else 'cpu')\n",
        "\n",
        "# Moving the model to the device\n",
        "ctx_encoder = ctx_encoder.to(device=device)\n",
        "\n",
        "# Tokenize \n",
        "num_passages = len(chunked_corpus['title'])\n",
        "print('Tokenizing {:,} passages for DPR...'.format(num_passages))\n",
        "\n",
        "outputs = ctx_tokenizer(\n",
        "    chunked_corpus['title'],\n",
        "    chunked_corpus['text'],\n",
        "    truncation=True,\n",
        "    padding='longest',\n",
        "    max_length=512,\n",
        "    return_tensors='pt'\n",
        ")\n",
        "\n",
        "print(\"DONE\")\n",
        "\n",
        "input_ids = outputs['input_ids']\n",
        "\n",
        "# Vectorisation\n",
        "torch.set_grad_enabled(False)\n",
        "t0 = time.time()\n",
        "step = 0\n",
        "batch_size = 16\n",
        "num_batches = math.ceil(num_passages / batch_size)\n",
        "embeds_batches = []\n",
        "print('Processing {:,} batches...'.format(num_passages))\n",
        "print(input_ids.shape)\n",
        "\n",
        "for i in range(0, num_passages, batch_size):\n",
        "    if step % 100 == 0 and not step == 0:\n",
        "        elapsed = time.time() - t0\n",
        "        print('  Batch {:>5} of {:>5} Elapsed {:}'.format(step, num_batches, format_time(elapsed)))\n",
        "\n",
        "    batch_ids = input_ids[i:i + batch_size].to(device=device)\n",
        "\n",
        "    outputs = ctx_encoder(\n",
        "        batch_ids,\n",
        "        return_dict=True\n",
        "    )\n",
        "\n",
        "    embeddings = outputs[\"pooler_output\"]\n",
        "    embeddings = embeddings.detach().cpu().numpy()\n",
        "    embeds_batches.append(embeddings)\n",
        "    step += 1\n",
        "\n",
        "print('DONE.')\n",
        "\n",
        "embeddings = np.concatenate(embeds_batches, axis=0)\n",
        "print('Size of dataset embeddings:', embeddings.shape)\n"
      ]
    },
    {
      "cell_type": "markdown",
      "metadata": {
        "id": "eSBST3GwPbdN"
      },
      "source": [
        "## FAISS Index(Facebook Al Similarity Search)\n"
      ]
    },
    {
      "cell_type": "code",
      "execution_count": 7,
      "metadata": {
        "colab": {
          "base_uri": "https://localhost:8080/"
        },
        "id": "BFtnE-4aPXOw",
        "outputId": "d1c3fab4-4779-4dbd-9dae-7bf7e360097e"
      },
      "outputs": [
        {
          "name": "stdout",
          "output_type": "stream",
          "text": [
            "Done.\n",
            "Adding embeddings to index took: 0:00:00\n"
          ]
        }
      ],
      "source": [
        "# FAISS Index\n",
        "import faiss\n",
        "import time\n",
        "\n",
        "import datetime\n",
        "\n",
        "def format_time(elapsed):\n",
        "    '''\n",
        "    Verilen süreyi saniye cinsinden alır ve hh:mm:ss biçiminde döndürür.\n",
        "    '''\n",
        "    elapsed_rounded = int(round(elapsed))\n",
        "    return str(datetime.timedelta(seconds=elapsed_rounded))\n",
        "\n",
        "\n",
        "# FAISS index settings\n",
        "dim = 768  # Embedding size\n",
        "m = 128    # HNSW parameter\n",
        "\n",
        "# Creating a FAISS index\n",
        "index = faiss.IndexHNSWFlat(dim, m, faiss.METRIC_INNER_PRODUCT)\n",
        "\n",
        "# Time measurement\n",
        "t0 = time.time()\n",
        "\n",
        "# Training and indexing embeddings\n",
        "index.train(embeddings)\n",
        "index.add(embeddings)\n",
        "\n",
        "# Calculating elapsed time\n",
        "elapsed = time.time() - t0\n",
        "print('Done.')\n",
        "print('Adding embeddings to index took:', format_time(elapsed))\n"
      ]
    },
    {
      "cell_type": "code",
      "execution_count": 8,
      "metadata": {
        "colab": {
          "base_uri": "https://localhost:8080/"
        },
        "id": "H33G3hwVP-0g",
        "outputId": "961937a1-2f96-4040-be80-f6c4d140f91b"
      },
      "outputs": [
        {
          "name": "stderr",
          "output_type": "stream",
          "text": [
            "Some weights of the model checkpoint at facebook/dpr-question_encoder-multiset-base were not used when initializing DPRQuestionEncoder: ['question_encoder.bert_model.pooler.dense.bias', 'question_encoder.bert_model.pooler.dense.weight']\n",
            "- This IS expected if you are initializing DPRQuestionEncoder from the checkpoint of a model trained on another task or with another architecture (e.g. initializing a BertForSequenceClassification model from a BertForPreTraining model).\n",
            "- This IS NOT expected if you are initializing DPRQuestionEncoder from the checkpoint of a model that you expect to be exactly identical (initializing a BertForSequenceClassification model from a BertForSequenceClassification model).\n"
          ]
        },
        {
          "name": "stdout",
          "output_type": "stream",
          "text": [
            "Query embedding: (1, 768)\n",
            "Closest matching indices: [[4 7 0]]\n",
            "Inner Products: [[72.76705  72.637665 69.93948 ]]\n"
          ]
        }
      ],
      "source": [
        "# Question Encoder Installation and Interrogation\n",
        "from transformers import DPRQuestionEncoder, DPRQuestionEncoderTokenizerFast\n",
        "\n",
        "# Question encoder and tokeniser installation\n",
        "q_encoder = DPRQuestionEncoder.from_pretrained(\"facebook/dpr-question_encoder-multiset-base\")\n",
        "q_encoder = q_encoder.to(device=device)\n",
        "\n",
        "q_tokenizer = DPRQuestionEncoderTokenizerFast.from_pretrained(\"facebook/dpr-question_encoder-multiset-base\")\n",
        "\n",
        "# Create query embedding\n",
        "input_ids = q_tokenizer.encode(\"When the United States tested the first nuclear weapon?\", return_tensors=\"pt\")\n",
        "input_ids = input_ids.to(device)\n",
        "\n",
        "outputs = q_encoder(input_ids)\n",
        "q_embed = outputs['pooler_output']\n",
        "q_embed = q_embed.detach().cpu().numpy()\n",
        "\n",
        "print(\"Query embedding:\", q_embed.shape)\n",
        "\n",
        "# Search on the FAISS index\n",
        "k = 3  # Number of nearest neighbours to rotate\n",
        "D, I = index.search(q_embed, k=k)\n",
        "\n",
        "print(\"Closest matching indices:\", I)\n",
        "print(\"Inner Products:\", D)"
      ]
    },
    {
      "cell_type": "code",
      "execution_count": 12,
      "metadata": {
        "colab": {
          "base_uri": "https://localhost:8080/"
        },
        "id": "UDrZnkOnE9iC",
        "outputId": "d6f34316-5f1a-497a-eeb0-94bb6a4c5e8f"
      },
      "outputs": [
        {
          "name": "stdout",
          "output_type": "stream",
          "text": [
            "Index: 4\n",
            "Article Title: wiki boiling water reactor History of nuclear power \n",
            "\n",
            "Passage:\n",
            "part of the Manhattan Project, the Allied effort to create atomic bombs during\n",
            "World War II. It led to the building of larger single-purpose production\n",
            "reactors, such as the X-10 Pile, for the production of weapons-grade plutonium\n",
            "for use in the first nuclear weapons. The United States tested the first nuclear\n",
            "weapon in July 1945, the Trinity test, with the atomic bombings of Hiroshima and\n",
            "Nagasaki taking place one month later. In August 1945, the first widely\n",
            "distributed account of nuclear energy, the pocketbook The Atomic Age, was\n",
            "released. It discussed the peaceful future uses of nuclear energy and depicted\n",
            " \n",
            "Index: 7\n",
            "Article Title: wiki boiling water reactor History of nuclear power \n",
            "\n",
            "Passage:\n",
            "of U.S. reactor technology and encouraged development by the private sector. The\n",
            "F-1 (from \"First Physical Reactor\") was a research reactor operated by the\n",
            "Kurchatov Institute in Moscow, USSR. When started on 25 December 1946, it became\n",
            "the first nuclear reactor in Europe to achieve a self-sustaining nuclear chain\n",
            "reaction. == Early years == The first organization to develop nuclear power was\n",
            "the U.S. Navy, with the S1W reactor for the purpose of propelling submarines and\n",
            "aircraft carriers. The first nuclear-powered submarine, USS Nautilus, was put to\n",
            "sea in January 1954. The S1W reactor was a Pressurized Water Reactor. This\n",
            " \n",
            "Index: 0\n",
            "Article Title: wiki boiling water reactor History of nuclear power \n",
            "\n",
            "Passage:\n",
            "This is a history of nuclear power as realized through the first artificial\n",
            "fission of atoms that would lead to the Manhattan Project and, eventually, to\n",
            "using nuclear fission to generate electricity. == Origins == In 1932, physicists\n",
            "John Cockcroft, Ernest Walton, and Ernest Rutherford discovered that when\n",
            "lithium atoms were \"split\" by protons from a proton accelerator, immense amounts\n",
            "of energy were released in accordance with the principle of mass–energy\n",
            "equivalence. However, they and other nuclear physics pioneers Niels Bohr and\n",
            "Albert Einstein believed harnessing the power of the atom for practical purposes\n",
            "anytime in the near future was\n",
            " \n"
          ]
        }
      ],
      "source": [
        "import textwrap\n",
        "\n",
        "# Wrap text to fit 80 characters\n",
        "wrapper = textwrap.TextWrapper(width=80)\n",
        "\n",
        "# For the nearest 'k' result\n",
        "retrieved_texts = []\n",
        "for i in I[0]:\n",
        "    title = chunked_corpus['title'][i]\n",
        "    passage = chunked_corpus['text'][i]\n",
        "    retrieved_texts.append(passage)\n",
        "\n",
        "    print('Index:', i)\n",
        "    print('Article Title:', title, '\\n')\n",
        "    print('Passage:')\n",
        "    print(wrapper.fill(passage))\n",
        "    print(' ')\n"
      ]
    },
    {
      "cell_type": "markdown",
      "metadata": {
        "id": "5_AlD0iSRWWd"
      },
      "source": [
        "## Ask Questions"
      ]
    },
    {
      "cell_type": "code",
      "execution_count": 10,
      "metadata": {
        "colab": {
          "base_uri": "https://localhost:8080/"
        },
        "id": "k5QUequp4OB2",
        "outputId": "8dbfe888-f677-4804-8e75-4173781fea1f"
      },
      "outputs": [
        {
          "name": "stderr",
          "output_type": "stream",
          "text": [
            "You are using the default legacy behaviour of the <class 'transformers.models.t5.tokenization_t5.T5Tokenizer'>. This is expected, and simply means that the `legacy` (previous) behavior will be used so nothing changes for you. If you want to use the new behaviour, set `legacy=False`. This should only be set if you understand what it means, and thoroughly read the reason why this was added as explained in https://github.com/huggingface/transformers/pull/24565\n",
            "Special tokens have been added in the vocabulary, make sure the associated word embeddings are fine-tuned or trained.\n"
          ]
        }
      ],
      "source": [
        "from transformers import T5ForConditionalGeneration, T5Tokenizer\n",
        "\n",
        "# Model and tokeniser loading\n",
        "t5_model = T5ForConditionalGeneration.from_pretrained('t5-base')\n",
        "t5_tokenizer = T5Tokenizer.from_pretrained('t5-base')\n",
        "\n",
        "# Moving the model to the device\n",
        "t5_model = t5_model.to(device)\n"
      ]
    },
    {
      "cell_type": "code",
      "execution_count": 17,
      "metadata": {
        "colab": {
          "base_uri": "https://localhost:8080/"
        },
        "id": "C62JZHNz4mUD",
        "outputId": "a7958fd9-720e-4c63-8097-01cbfbb03789"
      },
      "outputs": [
        {
          "name": "stdout",
          "output_type": "stream",
          "text": [
            "Question: What groundbreaking discovery did John Cockcroft, Ernest Walton, and Ernest Rutherford make in 1932 regarding lithium atoms?\n",
            "Generated Answer: lithium atoms were \"split\" by protons from a proton accelerator\n",
            "==================================================\n",
            "Question: When the United States tested the first nuclear weapon?\n",
            "Generated Answer: July 1945\n",
            "==================================================\n",
            "Question: Who discovered the neutron in the same year that induced radioactivity was first observed?\n",
            "Generated Answer: John Cockcroft, Ernest Walton, and Ernest Rutherford\n",
            "==================================================\n",
            "Question: What did Otto Hahn, Fritz Strassmann, Lise Meitner, and Otto Robert Frisch discover in their experiments with neutron-bombarded uranium in 1938?\n",
            "Generated Answer: immense amounts of energy were released\n",
            "==================================================\n",
            "Question: What did Enrico Fermi focus on in the 1930s to enhance induced radioactivity?\n",
            "Generated Answer: a proton accelerator\n",
            "==================================================\n",
            "Question: Why did scientists worldwide seek government support for nuclear fission research just before World War II?\n",
            "Generated Answer: Manhattan Project\n",
            "==================================================\n"
          ]
        }
      ],
      "source": [
        "# Merge undeleted texts\n",
        "context = \" \".join(retrieved_texts)\n",
        "\n",
        "# Question List\n",
        "questions = [\n",
        "    \"What groundbreaking discovery did John Cockcroft, Ernest Walton, and Ernest Rutherford make in 1932 regarding lithium atoms?\",\n",
        "    \"When the United States tested the first nuclear weapon?\",\n",
        "    \"Who discovered the neutron in the same year that induced radioactivity was first observed?\",\n",
        "    \"What did Otto Hahn, Fritz Strassmann, Lise Meitner, and Otto Robert Frisch discover in their experiments with neutron-bombarded uranium in 1938?\",\n",
        "    \"What did Enrico Fermi focus on in the 1930s to enhance induced radioactivity?\",\n",
        "    \"Why did scientists worldwide seek government support for nuclear fission research just before World War II?\"\n",
        "]\n",
        "\n",
        "# Answer retrieval loop\n",
        "for question in questions:\n",
        "    # Combining query and context\n",
        "    input_text = \"question: {} context: {}\".format(question, context)\n",
        "\n",
        "    # Processing input text with tokeniser\n",
        "    input_ids = t5_tokenizer.encode(input_text, return_tensors='pt').to(device)\n",
        "\n",
        "    # Creating an answer with the model\n",
        "    outputs = t5_model.generate(input_ids)\n",
        "    answer = t5_tokenizer.decode(outputs[0], skip_special_tokens=True)\n",
        "\n",
        "    print(\"Question:\", question)\n",
        "    print(\"Generated Answer:\", answer)\n",
        "    print(\"=\"*50)  # We add a line to separate questions and answers"
      ]
    },
    {
      "cell_type": "code",
      "execution_count": 18,
      "metadata": {
        "id": "13sI4o0Q4mX9"
      },
      "outputs": [],
      "source": [
        "# Merge undeleted texts\n",
        "context = \" \".join(retrieved_texts)\n",
        "\n",
        "# Question List\n",
        "questions = [\n",
        "    \"Who were the physicists involved in the first artificial fission of atoms?\",\n",
        "    \"What discovery led to the Manhattan Project?\",\n",
        "    \"When did John Cockcroft, Ernest Walton, and Ernest Rutherford discover the energy release from splitting lithium atoms?\",\n",
        "    \"Who discovered the neutron in 1932?\",\n",
        "    \"What did Frédéric and Irène Joliot-Curie discover in 1934?\",\n",
        "    \"What did experiments with slow neutrons lead Enrico Fermi to believe he had created?\",\n",
        "    \"Who conducted experiments with neutron-bombarded uranium in 1938?\",\n",
        "    \"What surprising discovery did Otto Hahn and Fritz Strassmann make in 1938?\",\n",
        "    \"Who first recognized the potential of fission reactions for a chain reaction?\",\n",
        "    \"When did Frédéric Joliot-Curie announce the experimental confirmation of a self-sustaining nuclear chain reaction?\",\n",
        "    \"What was the purpose of the Chicago Pile-1 reactor?\",\n",
        "    \"When did Chicago Pile-1 achieve criticality?\",\n",
        "    \"What was the goal of the Manhattan Project?\",\n",
        "    \"When was the first nuclear weapon tested by the United States?\",\n",
        "    \"Who authored the pocketbook 'The Atomic Age' in August 1945?\",\n",
        "    \"What did Glenn Seaborg envision for the future of nuclear energy?\",\n",
        "    \"What did Eugene Wigner and Alvin Weinberg patent in August 1945?\",\n",
        "    \"When was the EBR-I experimental station in Arco, Idaho, first used to generate electricity?\",\n",
        "    \"What did Dwight Eisenhower emphasize in his 'Atoms for Peace' speech?\",\n",
        "    \"What did the Atomic Energy Act of 1954 enable in the United States?\",\n",
        "    \"When did the Obninsk Nuclear Power Plant become the world's first nuclear power plant to generate electricity for a power grid?\",\n",
        "    \"Where was the world's first commercial nuclear power station located?\",\n",
        "    \"What were the initial capacities of the Calder Hall reactors?\",\n",
        "    \"When did the U.S. Army Nuclear Power Program formally commence?\",\n",
        "    \"What was the first commercial nuclear station to become operational in the United States?\",\n",
        "    \"What impact did the cancellation of a nuclear-powered aircraft carrier contract have on nuclear reactor design adoption?\",\n",
        "    \"When was EURATOM launched?\",\n",
        "    \"What organization was launched alongside the European Economic Community in 1957?\",\n",
        "    \"Where did the first major nuclear reactor accident occur?\",\n",
        "    \"What caused the accident at the 3 MW SL-1 reactor?\",\n",
        "    \"How many crew fatalities resulted from the accident on the Soviet submarine K-27 in 1968?\",\n",
        "    \"How did the global installed nuclear capacity rise from 1960 to the late 1980s?\",\n",
        "    \"What was the peak of global nuclear capacity under construction in the late 1970s and early 1980s?\",\n",
        "    \"How many nuclear units were cancelled in the United States between 1975 and 1980?\",\n",
        "    \"Why was Alvin Weinberg fired from Oak Ridge National Laboratory in 1972?\",\n",
        "    \"What was the goal of the test program initiated by Idaho National Laboratory in the late 1970s?\",\n",
        "    \"What factors contributed to rising economic costs in nuclear power plant construction during the 1970s and 1980s?\",\n",
        "    \"What effect did the 1973 oil crisis have on nuclear power development in France and Japan?\",\n",
        "    \"How did the French plan, known as the Messmer plan, aim to reduce dependence on oil?\",\n",
        "    \"What role did local opposition play in the cancellation of the proposed Bodega Bay nuclear power station?\",\n",
        "    \"When did the first significant anti-nuclear protests emerge in Germany?\",\n",
        "    \"What was the significance of the 'Atoms for Peace' speech by Dwight Eisenhower in 1953?\",\n",
        "    \"What regulations were implemented in the United States following increased public hostility to nuclear power in the early 1970s?\",\n",
        "    \"How did the regulatory changes in the United States affect the license procurement process for nuclear power plants?\",\n",
        "    \"How did utility proposals for nuclear generating stations change in the United States between 1974 and 1976?\",\n",
        "    \"What was the outcome of the Vermont Yankee Nuclear Power Corp. v. Natural Resources Defense Council, Inc. case?\",\n",
        "    \"What was the main consequence of the Three Mile Island accident according to the Nuclear Regulatory Commission?\",\n",
        "    \"How did the bankruptcy of Public Service Company of New Hampshire affect the nuclear power industry?\",\n",
        "    \"What factors contributed to the shift in electricity generation to coal-fired power plants in the 1980s?\",\n",
        "    \"What did President Jimmy Carter call the energy crisis in 1977?\",\n",
        "    \"What was the significance of the construction of the first commercial-scale breeder reactor in France?\",\n",
        "    \"What was the result of the attack on the Superphenix reactor in France in 1982?\",\n",
        "    \"When did the Chernobyl disaster occur?\",\n",
        "    \"Where was the Chernobyl Nuclear Power Plant located?\",\n",
        "    \"What is considered the worst nuclear disaster in history?\",\n",
        "    \"How many personnel were involved in the initial emergency response and decontamination of Chernobyl?\",\n",
        "    \"How much did the Chernobyl disaster cost in adjusted inflation terms?\",\n",
        "    \"How did the Chernobyl disaster affect the regulation of Western reactors?\",\n",
        "    \"What changes were made to the RBMK reactors after the Chernobyl accident?\",\n",
        "    \"How many RBMK reactors are still in use today?\",\n",
        "    \"What were the primary reasons for the slowdown in global nuclear capacity growth after the late 1980s?\",\n",
        "    \"How many nuclear units were cancelled in the United States ultimately?\",\n",
        "    \"Who authored the cover story in the 11 February 1985 issue of Forbes magazine criticizing the U.S. nuclear power program?\",\n",
        "    \"How did the Three Mile Island accident affect new plant constructions in many countries?\",\n",
        "    \"What was the primary cost of implementing regulatory changes after the Three Mile Island accident?\",\n",
        "    \"What was the significance of the shutdown of two nuclear power stations in the Tennessee Valley in the 1980s?\",\n",
        "    \"What did the anti-nuclear protests in the late 1960s and early 1970s in Europe and North America lead to?\",\n",
        "    \"What was the frequency of new nuclear reactor startups globally during the 1980s?\",\n",
        "    \"When did utility proposals for nuclear generating stations peak in the United States?\",\n",
        "    \"What was the impact of the 1979 oil crisis on countries heavily reliant on oil for electric generation?\"\n",
        "]"
      ]
    },
    {
      "cell_type": "code",
      "execution_count": 19,
      "metadata": {
        "colab": {
          "base_uri": "https://localhost:8080/",
          "height": 1000
        },
        "id": "hhQ0jUDO4mbd",
        "outputId": "2f7e9d1a-f963-4f73-8831-5c56773fbf94"
      },
      "outputs": [
        {
          "name": "stdout",
          "output_type": "stream",
          "text": [
            "Question: Who were the physicists involved in the first artificial fission of atoms?\n",
            "Generated Answer: John Cockcroft, Ernest Walton, and Ernest Rutherford\n",
            "==================================================\n",
            "Question: What discovery led to the Manhattan Project?\n",
            "Generated Answer: artificial fission of atoms\n",
            "==================================================\n",
            "Question: When did John Cockcroft, Ernest Walton, and Ernest Rutherford discover the energy release from splitting lithium atoms?\n",
            "Generated Answer: 1932\n",
            "==================================================\n",
            "Question: Who discovered the neutron in 1932?\n",
            "Generated Answer: John Cockcroft, Ernest Walton, and Ernest Rutherford\n",
            "==================================================\n",
            "Question: What did Frédéric and Irène Joliot-Curie discover in 1934?\n",
            "Generated Answer: lithium atoms were \"split\" by protons from a proton accelerator\n",
            "==================================================\n",
            "Question: What did experiments with slow neutrons lead Enrico Fermi to believe he had created?\n",
            "Generated Answer: a self-sustaining nuclear chain reaction\n",
            "==================================================\n",
            "Question: Who conducted experiments with neutron-bombarded uranium in 1938?\n",
            "Generated Answer: Niels Bohr and Albert Einstein\n",
            "==================================================\n",
            "Question: What surprising discovery did Otto Hahn and Fritz Strassmann make in 1938?\n",
            "Generated Answer: lithium atoms were \"split\" by protons from a proton accelerator\n",
            "==================================================\n",
            "Question: Who first recognized the potential of fission reactions for a chain reaction?\n",
            "Generated Answer: Niels Bohr and Albert Einstein\n",
            "==================================================\n",
            "Question: When did Frédéric Joliot-Curie announce the experimental confirmation of a self-sustaining nuclear chain reaction?\n",
            "Generated Answer: 25 December 1946\n",
            "==================================================\n",
            "Question: What was the purpose of the Chicago Pile-1 reactor?\n",
            "Generated Answer: production of weapons-grade plutonium for use in the first nuclear weapons\n",
            "==================================================\n",
            "Question: When did Chicago Pile-1 achieve criticality?\n",
            "Generated Answer: 25 December 1946\n",
            "==================================================\n",
            "Question: What was the goal of the Manhattan Project?\n",
            "Generated Answer: create atomic bombs\n",
            "==================================================\n",
            "Question: When was the first nuclear weapon tested by the United States?\n",
            "Generated Answer: July 1945\n",
            "==================================================\n",
            "Question: Who authored the pocketbook 'The Atomic Age' in August 1945?\n",
            "Generated Answer: Niels Bohr and Albert Einstein\n",
            "==================================================\n",
            "Question: What did Glenn Seaborg envision for the future of nuclear energy?\n",
            "Generated Answer: peaceful\n",
            "==================================================\n",
            "Question: What did Eugene Wigner and Alvin Weinberg patent in August 1945?\n",
            "Generated Answer: The Atomic Age\n",
            "==================================================\n",
            "Question: When was the EBR-I experimental station in Arco, Idaho, first used to generate electricity?\n",
            "Generated Answer: 1932\n",
            "==================================================\n",
            "Question: What did Dwight Eisenhower emphasize in his 'Atoms for Peace' speech?\n",
            "Generated Answer: peaceful future uses of nuclear energy\n",
            "==================================================\n",
            "Question: What did the Atomic Energy Act of 1954 enable in the United States?\n",
            "Generated Answer: development by the private sector\n",
            "==================================================\n",
            "Question: When did the Obninsk Nuclear Power Plant become the world's first nuclear power plant to generate electricity for a power grid?\n",
            "Generated Answer: 25 December 1946\n",
            "==================================================\n",
            "Question: Where was the world's first commercial nuclear power station located?\n",
            "Generated Answer: Moscow, USSR\n",
            "==================================================\n",
            "Question: What were the initial capacities of the Calder Hall reactors?\n",
            "Generated Answer: X-10 Pile\n",
            "==================================================\n",
            "Question: When did the U.S. Army Nuclear Power Program formally commence?\n",
            "Generated Answer: 25 December 1946\n",
            "==================================================\n",
            "Question: What was the first commercial nuclear station to become operational in the United States?\n",
            "Generated Answer: Trinity test\n",
            "==================================================\n",
            "Question: What impact did the cancellation of a nuclear-powered aircraft carrier contract have on nuclear reactor design adoption?\n",
            "Generated Answer: The first organization to develop nuclear power was the U.S. Navy\n",
            "==================================================\n",
            "Question: When was EURATOM launched?\n",
            "Generated Answer: 25 December 1946\n",
            "==================================================\n",
            "Question: What organization was launched alongside the European Economic Community in 1957?\n",
            "Generated Answer: the U.S. Navy\n",
            "==================================================\n",
            "Question: Where did the first major nuclear reactor accident occur?\n",
            "Generated Answer: Hiroshima and Nagasaki\n",
            "==================================================\n",
            "Question: What caused the accident at the 3 MW SL-1 reactor?\n",
            "Generated Answer: artificial fission of atoms\n",
            "==================================================\n",
            "Question: How many crew fatalities resulted from the accident on the Soviet submarine K-27 in 1968?\n",
            "Generated Answer: 2\n",
            "==================================================\n",
            "Question: How did the global installed nuclear capacity rise from 1960 to the late 1980s?\n",
            "Generated Answer: increased\n",
            "==================================================\n",
            "Question: What was the peak of global nuclear capacity under construction in the late 1970s and early 1980s?\n",
            "Generated Answer: X-10 Pile\n",
            "==================================================\n",
            "Question: How many nuclear units were cancelled in the United States between 1975 and 1980?\n",
            "Generated Answer: 7\n",
            "==================================================\n",
            "Question: Why was Alvin Weinberg fired from Oak Ridge National Laboratory in 1972?\n",
            "Generated Answer: the Manhattan Project\n",
            "==================================================\n",
            "Question: What was the goal of the test program initiated by Idaho National Laboratory in the late 1970s?\n",
            "Generated Answer: to achieve a self-sustaining nuclear chain reaction\n",
            "==================================================\n",
            "Question: What factors contributed to rising economic costs in nuclear power plant construction during the 1970s and 1980s?\n",
            "Generated Answer: the Allied effort to create atomic bombs during World War II\n",
            "==================================================\n",
            "Question: What effect did the 1973 oil crisis have on nuclear power development in France and Japan?\n",
            "Generated Answer: the private sector\n",
            "==================================================\n",
            "Question: How did the French plan, known as the Messmer plan, aim to reduce dependence on oil?\n",
            "Generated Answer: reduce dependence on oil\n",
            "==================================================\n",
            "Question: What role did local opposition play in the cancellation of the proposed Bodega Bay nuclear power station?\n",
            "Generated Answer: the first organization to develop nuclear power\n",
            "==================================================\n",
            "Question: When did the first significant anti-nuclear protests emerge in Germany?\n",
            "Generated Answer: 25 December 1946\n",
            "==================================================\n",
            "Question: What was the significance of the 'Atoms for Peace' speech by Dwight Eisenhower in 1953?\n",
            "Generated Answer: peaceful future uses of nuclear energy\n",
            "==================================================\n",
            "Question: What regulations were implemented in the United States following increased public hostility to nuclear power in the early 1970s?\n",
            "Generated Answer: mass–energy equivalence\n",
            "==================================================\n",
            "Question: How did the regulatory changes in the United States affect the license procurement process for nuclear power plants?\n",
            "Generated Answer: encouraged development by the private sector\n",
            "==================================================\n",
            "Question: How did utility proposals for nuclear generating stations change in the United States between 1974 and 1976?\n",
            "Generated Answer: encouraged development by the private sector\n",
            "==================================================\n",
            "Question: What was the outcome of the Vermont Yankee Nuclear Power Corp. v. Natural Resources Defense Council, Inc. case?\n",
            "Generated Answer: The United States tested the first nuclear weapon in July 1945, the Trinity test, with the\n",
            "==================================================\n",
            "Question: What was the main consequence of the Three Mile Island accident according to the Nuclear Regulatory Commission?\n",
            "Generated Answer: atomic bombings\n",
            "==================================================\n",
            "Question: How did the bankruptcy of Public Service Company of New Hampshire affect the nuclear power industry?\n",
            "Generated Answer: encouraged development by the private sector\n",
            "==================================================\n",
            "Question: What factors contributed to the shift in electricity generation to coal-fired power plants in the 1980s?\n",
            "Generated Answer: artificial fission of atoms\n",
            "==================================================\n",
            "Question: What did President Jimmy Carter call the energy crisis in 1977?\n",
            "Generated Answer: the nuclear energy crisis\n",
            "==================================================\n",
            "Question: What was the significance of the construction of the first commercial-scale breeder reactor in France?\n",
            "Generated Answer: to achieve a self-sustaining nuclear chain reaction\n",
            "==================================================\n",
            "Question: What was the result of the attack on the Superphenix reactor in France in 1982?\n",
            "Generated Answer: a self-sustaining nuclear chain reaction\n",
            "==================================================\n",
            "Question: When did the Chernobyl disaster occur?\n",
            "Generated Answer: one month later\n",
            "==================================================\n",
            "Question: Where was the Chernobyl Nuclear Power Plant located?\n",
            "Generated Answer: Chernobyl\n",
            "==================================================\n",
            "Question: What is considered the worst nuclear disaster in history?\n",
            "Generated Answer: Hiroshima\n",
            "==================================================\n"
          ]
        },
        {
          "ename": "KeyboardInterrupt",
          "evalue": "",
          "output_type": "error",
          "traceback": [
            "\u001b[0;31m---------------------------------------------------------------------------\u001b[0m",
            "\u001b[0;31mKeyboardInterrupt\u001b[0m                         Traceback (most recent call last)",
            "\u001b[0;32m<ipython-input-19-a4b36e99924c>\u001b[0m in \u001b[0;36m<cell line: 2>\u001b[0;34m()\u001b[0m\n\u001b[1;32m      8\u001b[0m \u001b[0;34m\u001b[0m\u001b[0m\n\u001b[1;32m      9\u001b[0m     \u001b[0;31m# Model ile cevap oluşturma\u001b[0m\u001b[0;34m\u001b[0m\u001b[0;34m\u001b[0m\u001b[0m\n\u001b[0;32m---> 10\u001b[0;31m     \u001b[0moutputs\u001b[0m \u001b[0;34m=\u001b[0m \u001b[0mt5_model\u001b[0m\u001b[0;34m.\u001b[0m\u001b[0mgenerate\u001b[0m\u001b[0;34m(\u001b[0m\u001b[0minput_ids\u001b[0m\u001b[0;34m)\u001b[0m\u001b[0;34m\u001b[0m\u001b[0;34m\u001b[0m\u001b[0m\n\u001b[0m\u001b[1;32m     11\u001b[0m     \u001b[0manswer\u001b[0m \u001b[0;34m=\u001b[0m \u001b[0mt5_tokenizer\u001b[0m\u001b[0;34m.\u001b[0m\u001b[0mdecode\u001b[0m\u001b[0;34m(\u001b[0m\u001b[0moutputs\u001b[0m\u001b[0;34m[\u001b[0m\u001b[0;36m0\u001b[0m\u001b[0;34m]\u001b[0m\u001b[0;34m,\u001b[0m \u001b[0mskip_special_tokens\u001b[0m\u001b[0;34m=\u001b[0m\u001b[0;32mTrue\u001b[0m\u001b[0;34m)\u001b[0m\u001b[0;34m\u001b[0m\u001b[0;34m\u001b[0m\u001b[0m\n\u001b[1;32m     12\u001b[0m \u001b[0;34m\u001b[0m\u001b[0m\n",
            "\u001b[0;32m/usr/local/lib/python3.10/dist-packages/torch/utils/_contextlib.py\u001b[0m in \u001b[0;36mdecorate_context\u001b[0;34m(*args, **kwargs)\u001b[0m\n\u001b[1;32m    113\u001b[0m     \u001b[0;32mdef\u001b[0m \u001b[0mdecorate_context\u001b[0m\u001b[0;34m(\u001b[0m\u001b[0;34m*\u001b[0m\u001b[0margs\u001b[0m\u001b[0;34m,\u001b[0m \u001b[0;34m**\u001b[0m\u001b[0mkwargs\u001b[0m\u001b[0;34m)\u001b[0m\u001b[0;34m:\u001b[0m\u001b[0;34m\u001b[0m\u001b[0;34m\u001b[0m\u001b[0m\n\u001b[1;32m    114\u001b[0m         \u001b[0;32mwith\u001b[0m \u001b[0mctx_factory\u001b[0m\u001b[0;34m(\u001b[0m\u001b[0;34m)\u001b[0m\u001b[0;34m:\u001b[0m\u001b[0;34m\u001b[0m\u001b[0;34m\u001b[0m\u001b[0m\n\u001b[0;32m--> 115\u001b[0;31m             \u001b[0;32mreturn\u001b[0m \u001b[0mfunc\u001b[0m\u001b[0;34m(\u001b[0m\u001b[0;34m*\u001b[0m\u001b[0margs\u001b[0m\u001b[0;34m,\u001b[0m \u001b[0;34m**\u001b[0m\u001b[0mkwargs\u001b[0m\u001b[0;34m)\u001b[0m\u001b[0;34m\u001b[0m\u001b[0;34m\u001b[0m\u001b[0m\n\u001b[0m\u001b[1;32m    116\u001b[0m \u001b[0;34m\u001b[0m\u001b[0m\n\u001b[1;32m    117\u001b[0m     \u001b[0;32mreturn\u001b[0m \u001b[0mdecorate_context\u001b[0m\u001b[0;34m\u001b[0m\u001b[0;34m\u001b[0m\u001b[0m\n",
            "\u001b[0;32m/usr/local/lib/python3.10/dist-packages/transformers/generation/utils.py\u001b[0m in \u001b[0;36mgenerate\u001b[0;34m(self, inputs, generation_config, logits_processor, stopping_criteria, prefix_allowed_tokens_fn, synced_gpus, assistant_model, streamer, negative_prompt_ids, negative_prompt_attention_mask, **kwargs)\u001b[0m\n\u001b[1;32m   1595\u001b[0m         \u001b[0;32mif\u001b[0m \u001b[0mself\u001b[0m\u001b[0;34m.\u001b[0m\u001b[0mconfig\u001b[0m\u001b[0;34m.\u001b[0m\u001b[0mis_encoder_decoder\u001b[0m \u001b[0;32mand\u001b[0m \u001b[0;34m\"encoder_outputs\"\u001b[0m \u001b[0;32mnot\u001b[0m \u001b[0;32min\u001b[0m \u001b[0mmodel_kwargs\u001b[0m\u001b[0;34m:\u001b[0m\u001b[0;34m\u001b[0m\u001b[0;34m\u001b[0m\u001b[0m\n\u001b[1;32m   1596\u001b[0m             \u001b[0;31m# if model is encoder decoder encoder_outputs are created and added to `model_kwargs`\u001b[0m\u001b[0;34m\u001b[0m\u001b[0;34m\u001b[0m\u001b[0m\n\u001b[0;32m-> 1597\u001b[0;31m             model_kwargs = self._prepare_encoder_decoder_kwargs_for_generation(\n\u001b[0m\u001b[1;32m   1598\u001b[0m                 \u001b[0minputs_tensor\u001b[0m\u001b[0;34m,\u001b[0m \u001b[0mmodel_kwargs\u001b[0m\u001b[0;34m,\u001b[0m \u001b[0mmodel_input_name\u001b[0m\u001b[0;34m,\u001b[0m \u001b[0mgeneration_config\u001b[0m\u001b[0;34m\u001b[0m\u001b[0;34m\u001b[0m\u001b[0m\n\u001b[1;32m   1599\u001b[0m             )\n",
            "\u001b[0;32m/usr/local/lib/python3.10/dist-packages/transformers/generation/utils.py\u001b[0m in \u001b[0;36m_prepare_encoder_decoder_kwargs_for_generation\u001b[0;34m(self, inputs_tensor, model_kwargs, model_input_name, generation_config)\u001b[0m\n\u001b[1;32m    521\u001b[0m         \u001b[0mencoder_kwargs\u001b[0m\u001b[0;34m[\u001b[0m\u001b[0;34m\"return_dict\"\u001b[0m\u001b[0;34m]\u001b[0m \u001b[0;34m=\u001b[0m \u001b[0;32mTrue\u001b[0m\u001b[0;34m\u001b[0m\u001b[0;34m\u001b[0m\u001b[0m\n\u001b[1;32m    522\u001b[0m         \u001b[0mencoder_kwargs\u001b[0m\u001b[0;34m[\u001b[0m\u001b[0mmodel_input_name\u001b[0m\u001b[0;34m]\u001b[0m \u001b[0;34m=\u001b[0m \u001b[0minputs_tensor\u001b[0m\u001b[0;34m\u001b[0m\u001b[0;34m\u001b[0m\u001b[0m\n\u001b[0;32m--> 523\u001b[0;31m         \u001b[0mmodel_kwargs\u001b[0m\u001b[0;34m[\u001b[0m\u001b[0;34m\"encoder_outputs\"\u001b[0m\u001b[0;34m]\u001b[0m\u001b[0;34m:\u001b[0m \u001b[0mModelOutput\u001b[0m \u001b[0;34m=\u001b[0m \u001b[0mencoder\u001b[0m\u001b[0;34m(\u001b[0m\u001b[0;34m**\u001b[0m\u001b[0mencoder_kwargs\u001b[0m\u001b[0;34m)\u001b[0m\u001b[0;34m\u001b[0m\u001b[0;34m\u001b[0m\u001b[0m\n\u001b[0m\u001b[1;32m    524\u001b[0m \u001b[0;34m\u001b[0m\u001b[0m\n\u001b[1;32m    525\u001b[0m         \u001b[0;32mreturn\u001b[0m \u001b[0mmodel_kwargs\u001b[0m\u001b[0;34m\u001b[0m\u001b[0;34m\u001b[0m\u001b[0m\n",
            "\u001b[0;32m/usr/local/lib/python3.10/dist-packages/torch/nn/modules/module.py\u001b[0m in \u001b[0;36m_wrapped_call_impl\u001b[0;34m(self, *args, **kwargs)\u001b[0m\n\u001b[1;32m   1530\u001b[0m             \u001b[0;32mreturn\u001b[0m \u001b[0mself\u001b[0m\u001b[0;34m.\u001b[0m\u001b[0m_compiled_call_impl\u001b[0m\u001b[0;34m(\u001b[0m\u001b[0;34m*\u001b[0m\u001b[0margs\u001b[0m\u001b[0;34m,\u001b[0m \u001b[0;34m**\u001b[0m\u001b[0mkwargs\u001b[0m\u001b[0;34m)\u001b[0m  \u001b[0;31m# type: ignore[misc]\u001b[0m\u001b[0;34m\u001b[0m\u001b[0;34m\u001b[0m\u001b[0m\n\u001b[1;32m   1531\u001b[0m         \u001b[0;32melse\u001b[0m\u001b[0;34m:\u001b[0m\u001b[0;34m\u001b[0m\u001b[0;34m\u001b[0m\u001b[0m\n\u001b[0;32m-> 1532\u001b[0;31m             \u001b[0;32mreturn\u001b[0m \u001b[0mself\u001b[0m\u001b[0;34m.\u001b[0m\u001b[0m_call_impl\u001b[0m\u001b[0;34m(\u001b[0m\u001b[0;34m*\u001b[0m\u001b[0margs\u001b[0m\u001b[0;34m,\u001b[0m \u001b[0;34m**\u001b[0m\u001b[0mkwargs\u001b[0m\u001b[0;34m)\u001b[0m\u001b[0;34m\u001b[0m\u001b[0;34m\u001b[0m\u001b[0m\n\u001b[0m\u001b[1;32m   1533\u001b[0m \u001b[0;34m\u001b[0m\u001b[0m\n\u001b[1;32m   1534\u001b[0m     \u001b[0;32mdef\u001b[0m \u001b[0m_call_impl\u001b[0m\u001b[0;34m(\u001b[0m\u001b[0mself\u001b[0m\u001b[0;34m,\u001b[0m \u001b[0;34m*\u001b[0m\u001b[0margs\u001b[0m\u001b[0;34m,\u001b[0m \u001b[0;34m**\u001b[0m\u001b[0mkwargs\u001b[0m\u001b[0;34m)\u001b[0m\u001b[0;34m:\u001b[0m\u001b[0;34m\u001b[0m\u001b[0;34m\u001b[0m\u001b[0m\n",
            "\u001b[0;32m/usr/local/lib/python3.10/dist-packages/torch/nn/modules/module.py\u001b[0m in \u001b[0;36m_call_impl\u001b[0;34m(self, *args, **kwargs)\u001b[0m\n\u001b[1;32m   1539\u001b[0m                 \u001b[0;32mor\u001b[0m \u001b[0m_global_backward_pre_hooks\u001b[0m \u001b[0;32mor\u001b[0m \u001b[0m_global_backward_hooks\u001b[0m\u001b[0;34m\u001b[0m\u001b[0;34m\u001b[0m\u001b[0m\n\u001b[1;32m   1540\u001b[0m                 or _global_forward_hooks or _global_forward_pre_hooks):\n\u001b[0;32m-> 1541\u001b[0;31m             \u001b[0;32mreturn\u001b[0m \u001b[0mforward_call\u001b[0m\u001b[0;34m(\u001b[0m\u001b[0;34m*\u001b[0m\u001b[0margs\u001b[0m\u001b[0;34m,\u001b[0m \u001b[0;34m**\u001b[0m\u001b[0mkwargs\u001b[0m\u001b[0;34m)\u001b[0m\u001b[0;34m\u001b[0m\u001b[0;34m\u001b[0m\u001b[0m\n\u001b[0m\u001b[1;32m   1542\u001b[0m \u001b[0;34m\u001b[0m\u001b[0m\n\u001b[1;32m   1543\u001b[0m         \u001b[0;32mtry\u001b[0m\u001b[0;34m:\u001b[0m\u001b[0;34m\u001b[0m\u001b[0;34m\u001b[0m\u001b[0m\n",
            "\u001b[0;32m/usr/local/lib/python3.10/dist-packages/transformers/models/t5/modeling_t5.py\u001b[0m in \u001b[0;36mforward\u001b[0;34m(self, input_ids, attention_mask, encoder_hidden_states, encoder_attention_mask, inputs_embeds, head_mask, cross_attn_head_mask, past_key_values, use_cache, output_attentions, output_hidden_states, return_dict)\u001b[0m\n\u001b[1;32m   1105\u001b[0m                 )\n\u001b[1;32m   1106\u001b[0m             \u001b[0;32melse\u001b[0m\u001b[0;34m:\u001b[0m\u001b[0;34m\u001b[0m\u001b[0;34m\u001b[0m\u001b[0m\n\u001b[0;32m-> 1107\u001b[0;31m                 layer_outputs = layer_module(\n\u001b[0m\u001b[1;32m   1108\u001b[0m                     \u001b[0mhidden_states\u001b[0m\u001b[0;34m,\u001b[0m\u001b[0;34m\u001b[0m\u001b[0;34m\u001b[0m\u001b[0m\n\u001b[1;32m   1109\u001b[0m                     \u001b[0mattention_mask\u001b[0m\u001b[0;34m=\u001b[0m\u001b[0mextended_attention_mask\u001b[0m\u001b[0;34m,\u001b[0m\u001b[0;34m\u001b[0m\u001b[0;34m\u001b[0m\u001b[0m\n",
            "\u001b[0;32m/usr/local/lib/python3.10/dist-packages/torch/nn/modules/module.py\u001b[0m in \u001b[0;36m_wrapped_call_impl\u001b[0;34m(self, *args, **kwargs)\u001b[0m\n\u001b[1;32m   1530\u001b[0m             \u001b[0;32mreturn\u001b[0m \u001b[0mself\u001b[0m\u001b[0;34m.\u001b[0m\u001b[0m_compiled_call_impl\u001b[0m\u001b[0;34m(\u001b[0m\u001b[0;34m*\u001b[0m\u001b[0margs\u001b[0m\u001b[0;34m,\u001b[0m \u001b[0;34m**\u001b[0m\u001b[0mkwargs\u001b[0m\u001b[0;34m)\u001b[0m  \u001b[0;31m# type: ignore[misc]\u001b[0m\u001b[0;34m\u001b[0m\u001b[0;34m\u001b[0m\u001b[0m\n\u001b[1;32m   1531\u001b[0m         \u001b[0;32melse\u001b[0m\u001b[0;34m:\u001b[0m\u001b[0;34m\u001b[0m\u001b[0;34m\u001b[0m\u001b[0m\n\u001b[0;32m-> 1532\u001b[0;31m             \u001b[0;32mreturn\u001b[0m \u001b[0mself\u001b[0m\u001b[0;34m.\u001b[0m\u001b[0m_call_impl\u001b[0m\u001b[0;34m(\u001b[0m\u001b[0;34m*\u001b[0m\u001b[0margs\u001b[0m\u001b[0;34m,\u001b[0m \u001b[0;34m**\u001b[0m\u001b[0mkwargs\u001b[0m\u001b[0;34m)\u001b[0m\u001b[0;34m\u001b[0m\u001b[0;34m\u001b[0m\u001b[0m\n\u001b[0m\u001b[1;32m   1533\u001b[0m \u001b[0;34m\u001b[0m\u001b[0m\n\u001b[1;32m   1534\u001b[0m     \u001b[0;32mdef\u001b[0m \u001b[0m_call_impl\u001b[0m\u001b[0;34m(\u001b[0m\u001b[0mself\u001b[0m\u001b[0;34m,\u001b[0m \u001b[0;34m*\u001b[0m\u001b[0margs\u001b[0m\u001b[0;34m,\u001b[0m \u001b[0;34m**\u001b[0m\u001b[0mkwargs\u001b[0m\u001b[0;34m)\u001b[0m\u001b[0;34m:\u001b[0m\u001b[0;34m\u001b[0m\u001b[0;34m\u001b[0m\u001b[0m\n",
            "\u001b[0;32m/usr/local/lib/python3.10/dist-packages/torch/nn/modules/module.py\u001b[0m in \u001b[0;36m_call_impl\u001b[0;34m(self, *args, **kwargs)\u001b[0m\n\u001b[1;32m   1539\u001b[0m                 \u001b[0;32mor\u001b[0m \u001b[0m_global_backward_pre_hooks\u001b[0m \u001b[0;32mor\u001b[0m \u001b[0m_global_backward_hooks\u001b[0m\u001b[0;34m\u001b[0m\u001b[0;34m\u001b[0m\u001b[0m\n\u001b[1;32m   1540\u001b[0m                 or _global_forward_hooks or _global_forward_pre_hooks):\n\u001b[0;32m-> 1541\u001b[0;31m             \u001b[0;32mreturn\u001b[0m \u001b[0mforward_call\u001b[0m\u001b[0;34m(\u001b[0m\u001b[0;34m*\u001b[0m\u001b[0margs\u001b[0m\u001b[0;34m,\u001b[0m \u001b[0;34m**\u001b[0m\u001b[0mkwargs\u001b[0m\u001b[0;34m)\u001b[0m\u001b[0;34m\u001b[0m\u001b[0;34m\u001b[0m\u001b[0m\n\u001b[0m\u001b[1;32m   1542\u001b[0m \u001b[0;34m\u001b[0m\u001b[0m\n\u001b[1;32m   1543\u001b[0m         \u001b[0;32mtry\u001b[0m\u001b[0;34m:\u001b[0m\u001b[0;34m\u001b[0m\u001b[0;34m\u001b[0m\u001b[0m\n",
            "\u001b[0;32m/usr/local/lib/python3.10/dist-packages/transformers/models/t5/modeling_t5.py\u001b[0m in \u001b[0;36mforward\u001b[0;34m(self, hidden_states, attention_mask, position_bias, encoder_hidden_states, encoder_attention_mask, encoder_decoder_position_bias, layer_head_mask, cross_attn_layer_head_mask, past_key_value, use_cache, output_attentions, return_dict)\u001b[0m\n\u001b[1;32m    685\u001b[0m             \u001b[0mself_attn_past_key_value\u001b[0m\u001b[0;34m,\u001b[0m \u001b[0mcross_attn_past_key_value\u001b[0m \u001b[0;34m=\u001b[0m \u001b[0;32mNone\u001b[0m\u001b[0;34m,\u001b[0m \u001b[0;32mNone\u001b[0m\u001b[0;34m\u001b[0m\u001b[0;34m\u001b[0m\u001b[0m\n\u001b[1;32m    686\u001b[0m \u001b[0;34m\u001b[0m\u001b[0m\n\u001b[0;32m--> 687\u001b[0;31m         self_attention_outputs = self.layer[0](\n\u001b[0m\u001b[1;32m    688\u001b[0m             \u001b[0mhidden_states\u001b[0m\u001b[0;34m,\u001b[0m\u001b[0;34m\u001b[0m\u001b[0;34m\u001b[0m\u001b[0m\n\u001b[1;32m    689\u001b[0m             \u001b[0mattention_mask\u001b[0m\u001b[0;34m=\u001b[0m\u001b[0mattention_mask\u001b[0m\u001b[0;34m,\u001b[0m\u001b[0;34m\u001b[0m\u001b[0;34m\u001b[0m\u001b[0m\n",
            "\u001b[0;32m/usr/local/lib/python3.10/dist-packages/torch/nn/modules/module.py\u001b[0m in \u001b[0;36m_wrapped_call_impl\u001b[0;34m(self, *args, **kwargs)\u001b[0m\n\u001b[1;32m   1530\u001b[0m             \u001b[0;32mreturn\u001b[0m \u001b[0mself\u001b[0m\u001b[0;34m.\u001b[0m\u001b[0m_compiled_call_impl\u001b[0m\u001b[0;34m(\u001b[0m\u001b[0;34m*\u001b[0m\u001b[0margs\u001b[0m\u001b[0;34m,\u001b[0m \u001b[0;34m**\u001b[0m\u001b[0mkwargs\u001b[0m\u001b[0;34m)\u001b[0m  \u001b[0;31m# type: ignore[misc]\u001b[0m\u001b[0;34m\u001b[0m\u001b[0;34m\u001b[0m\u001b[0m\n\u001b[1;32m   1531\u001b[0m         \u001b[0;32melse\u001b[0m\u001b[0;34m:\u001b[0m\u001b[0;34m\u001b[0m\u001b[0;34m\u001b[0m\u001b[0m\n\u001b[0;32m-> 1532\u001b[0;31m             \u001b[0;32mreturn\u001b[0m \u001b[0mself\u001b[0m\u001b[0;34m.\u001b[0m\u001b[0m_call_impl\u001b[0m\u001b[0;34m(\u001b[0m\u001b[0;34m*\u001b[0m\u001b[0margs\u001b[0m\u001b[0;34m,\u001b[0m \u001b[0;34m**\u001b[0m\u001b[0mkwargs\u001b[0m\u001b[0;34m)\u001b[0m\u001b[0;34m\u001b[0m\u001b[0;34m\u001b[0m\u001b[0m\n\u001b[0m\u001b[1;32m   1533\u001b[0m \u001b[0;34m\u001b[0m\u001b[0m\n\u001b[1;32m   1534\u001b[0m     \u001b[0;32mdef\u001b[0m \u001b[0m_call_impl\u001b[0m\u001b[0;34m(\u001b[0m\u001b[0mself\u001b[0m\u001b[0;34m,\u001b[0m \u001b[0;34m*\u001b[0m\u001b[0margs\u001b[0m\u001b[0;34m,\u001b[0m \u001b[0;34m**\u001b[0m\u001b[0mkwargs\u001b[0m\u001b[0;34m)\u001b[0m\u001b[0;34m:\u001b[0m\u001b[0;34m\u001b[0m\u001b[0;34m\u001b[0m\u001b[0m\n",
            "\u001b[0;32m/usr/local/lib/python3.10/dist-packages/torch/nn/modules/module.py\u001b[0m in \u001b[0;36m_call_impl\u001b[0;34m(self, *args, **kwargs)\u001b[0m\n\u001b[1;32m   1539\u001b[0m                 \u001b[0;32mor\u001b[0m \u001b[0m_global_backward_pre_hooks\u001b[0m \u001b[0;32mor\u001b[0m \u001b[0m_global_backward_hooks\u001b[0m\u001b[0;34m\u001b[0m\u001b[0;34m\u001b[0m\u001b[0m\n\u001b[1;32m   1540\u001b[0m                 or _global_forward_hooks or _global_forward_pre_hooks):\n\u001b[0;32m-> 1541\u001b[0;31m             \u001b[0;32mreturn\u001b[0m \u001b[0mforward_call\u001b[0m\u001b[0;34m(\u001b[0m\u001b[0;34m*\u001b[0m\u001b[0margs\u001b[0m\u001b[0;34m,\u001b[0m \u001b[0;34m**\u001b[0m\u001b[0mkwargs\u001b[0m\u001b[0;34m)\u001b[0m\u001b[0;34m\u001b[0m\u001b[0;34m\u001b[0m\u001b[0m\n\u001b[0m\u001b[1;32m   1542\u001b[0m \u001b[0;34m\u001b[0m\u001b[0m\n\u001b[1;32m   1543\u001b[0m         \u001b[0;32mtry\u001b[0m\u001b[0;34m:\u001b[0m\u001b[0;34m\u001b[0m\u001b[0;34m\u001b[0m\u001b[0m\n",
            "\u001b[0;32m/usr/local/lib/python3.10/dist-packages/transformers/models/t5/modeling_t5.py\u001b[0m in \u001b[0;36mforward\u001b[0;34m(self, hidden_states, attention_mask, position_bias, layer_head_mask, past_key_value, use_cache, output_attentions)\u001b[0m\n\u001b[1;32m    592\u001b[0m     ):\n\u001b[1;32m    593\u001b[0m         \u001b[0mnormed_hidden_states\u001b[0m \u001b[0;34m=\u001b[0m \u001b[0mself\u001b[0m\u001b[0;34m.\u001b[0m\u001b[0mlayer_norm\u001b[0m\u001b[0;34m(\u001b[0m\u001b[0mhidden_states\u001b[0m\u001b[0;34m)\u001b[0m\u001b[0;34m\u001b[0m\u001b[0;34m\u001b[0m\u001b[0m\n\u001b[0;32m--> 594\u001b[0;31m         attention_output = self.SelfAttention(\n\u001b[0m\u001b[1;32m    595\u001b[0m             \u001b[0mnormed_hidden_states\u001b[0m\u001b[0;34m,\u001b[0m\u001b[0;34m\u001b[0m\u001b[0;34m\u001b[0m\u001b[0m\n\u001b[1;32m    596\u001b[0m             \u001b[0mmask\u001b[0m\u001b[0;34m=\u001b[0m\u001b[0mattention_mask\u001b[0m\u001b[0;34m,\u001b[0m\u001b[0;34m\u001b[0m\u001b[0;34m\u001b[0m\u001b[0m\n",
            "\u001b[0;32m/usr/local/lib/python3.10/dist-packages/torch/nn/modules/module.py\u001b[0m in \u001b[0;36m_wrapped_call_impl\u001b[0;34m(self, *args, **kwargs)\u001b[0m\n\u001b[1;32m   1530\u001b[0m             \u001b[0;32mreturn\u001b[0m \u001b[0mself\u001b[0m\u001b[0;34m.\u001b[0m\u001b[0m_compiled_call_impl\u001b[0m\u001b[0;34m(\u001b[0m\u001b[0;34m*\u001b[0m\u001b[0margs\u001b[0m\u001b[0;34m,\u001b[0m \u001b[0;34m**\u001b[0m\u001b[0mkwargs\u001b[0m\u001b[0;34m)\u001b[0m  \u001b[0;31m# type: ignore[misc]\u001b[0m\u001b[0;34m\u001b[0m\u001b[0;34m\u001b[0m\u001b[0m\n\u001b[1;32m   1531\u001b[0m         \u001b[0;32melse\u001b[0m\u001b[0;34m:\u001b[0m\u001b[0;34m\u001b[0m\u001b[0;34m\u001b[0m\u001b[0m\n\u001b[0;32m-> 1532\u001b[0;31m             \u001b[0;32mreturn\u001b[0m \u001b[0mself\u001b[0m\u001b[0;34m.\u001b[0m\u001b[0m_call_impl\u001b[0m\u001b[0;34m(\u001b[0m\u001b[0;34m*\u001b[0m\u001b[0margs\u001b[0m\u001b[0;34m,\u001b[0m \u001b[0;34m**\u001b[0m\u001b[0mkwargs\u001b[0m\u001b[0;34m)\u001b[0m\u001b[0;34m\u001b[0m\u001b[0;34m\u001b[0m\u001b[0m\n\u001b[0m\u001b[1;32m   1533\u001b[0m \u001b[0;34m\u001b[0m\u001b[0m\n\u001b[1;32m   1534\u001b[0m     \u001b[0;32mdef\u001b[0m \u001b[0m_call_impl\u001b[0m\u001b[0;34m(\u001b[0m\u001b[0mself\u001b[0m\u001b[0;34m,\u001b[0m \u001b[0;34m*\u001b[0m\u001b[0margs\u001b[0m\u001b[0;34m,\u001b[0m \u001b[0;34m**\u001b[0m\u001b[0mkwargs\u001b[0m\u001b[0;34m)\u001b[0m\u001b[0;34m:\u001b[0m\u001b[0;34m\u001b[0m\u001b[0;34m\u001b[0m\u001b[0m\n",
            "\u001b[0;32m/usr/local/lib/python3.10/dist-packages/torch/nn/modules/module.py\u001b[0m in \u001b[0;36m_call_impl\u001b[0;34m(self, *args, **kwargs)\u001b[0m\n\u001b[1;32m   1539\u001b[0m                 \u001b[0;32mor\u001b[0m \u001b[0m_global_backward_pre_hooks\u001b[0m \u001b[0;32mor\u001b[0m \u001b[0m_global_backward_hooks\u001b[0m\u001b[0;34m\u001b[0m\u001b[0;34m\u001b[0m\u001b[0m\n\u001b[1;32m   1540\u001b[0m                 or _global_forward_hooks or _global_forward_pre_hooks):\n\u001b[0;32m-> 1541\u001b[0;31m             \u001b[0;32mreturn\u001b[0m \u001b[0mforward_call\u001b[0m\u001b[0;34m(\u001b[0m\u001b[0;34m*\u001b[0m\u001b[0margs\u001b[0m\u001b[0;34m,\u001b[0m \u001b[0;34m**\u001b[0m\u001b[0mkwargs\u001b[0m\u001b[0;34m)\u001b[0m\u001b[0;34m\u001b[0m\u001b[0;34m\u001b[0m\u001b[0m\n\u001b[0m\u001b[1;32m   1542\u001b[0m \u001b[0;34m\u001b[0m\u001b[0m\n\u001b[1;32m   1543\u001b[0m         \u001b[0;32mtry\u001b[0m\u001b[0;34m:\u001b[0m\u001b[0;34m\u001b[0m\u001b[0;34m\u001b[0m\u001b[0m\n",
            "\u001b[0;32m/usr/local/lib/python3.10/dist-packages/transformers/models/t5/modeling_t5.py\u001b[0m in \u001b[0;36mforward\u001b[0;34m(self, hidden_states, mask, key_value_states, position_bias, past_key_value, layer_head_mask, query_length, use_cache, output_attentions)\u001b[0m\n\u001b[1;32m    564\u001b[0m \u001b[0;34m\u001b[0m\u001b[0m\n\u001b[1;32m    565\u001b[0m         \u001b[0mattn_output\u001b[0m \u001b[0;34m=\u001b[0m \u001b[0munshape\u001b[0m\u001b[0;34m(\u001b[0m\u001b[0mtorch\u001b[0m\u001b[0;34m.\u001b[0m\u001b[0mmatmul\u001b[0m\u001b[0;34m(\u001b[0m\u001b[0mattn_weights\u001b[0m\u001b[0;34m,\u001b[0m \u001b[0mvalue_states\u001b[0m\u001b[0;34m)\u001b[0m\u001b[0;34m)\u001b[0m  \u001b[0;31m# (batch_size, seq_length, dim)\u001b[0m\u001b[0;34m\u001b[0m\u001b[0;34m\u001b[0m\u001b[0m\n\u001b[0;32m--> 566\u001b[0;31m         \u001b[0mattn_output\u001b[0m \u001b[0;34m=\u001b[0m \u001b[0mself\u001b[0m\u001b[0;34m.\u001b[0m\u001b[0mo\u001b[0m\u001b[0;34m(\u001b[0m\u001b[0mattn_output\u001b[0m\u001b[0;34m)\u001b[0m\u001b[0;34m\u001b[0m\u001b[0;34m\u001b[0m\u001b[0m\n\u001b[0m\u001b[1;32m    567\u001b[0m \u001b[0;34m\u001b[0m\u001b[0m\n\u001b[1;32m    568\u001b[0m         \u001b[0mpresent_key_value_state\u001b[0m \u001b[0;34m=\u001b[0m \u001b[0;34m(\u001b[0m\u001b[0mkey_states\u001b[0m\u001b[0;34m,\u001b[0m \u001b[0mvalue_states\u001b[0m\u001b[0;34m)\u001b[0m \u001b[0;32mif\u001b[0m \u001b[0;34m(\u001b[0m\u001b[0mself\u001b[0m\u001b[0;34m.\u001b[0m\u001b[0mis_decoder\u001b[0m \u001b[0;32mand\u001b[0m \u001b[0muse_cache\u001b[0m\u001b[0;34m)\u001b[0m \u001b[0;32melse\u001b[0m \u001b[0;32mNone\u001b[0m\u001b[0;34m\u001b[0m\u001b[0;34m\u001b[0m\u001b[0m\n",
            "\u001b[0;32m/usr/local/lib/python3.10/dist-packages/torch/nn/modules/module.py\u001b[0m in \u001b[0;36m_wrapped_call_impl\u001b[0;34m(self, *args, **kwargs)\u001b[0m\n\u001b[1;32m   1530\u001b[0m             \u001b[0;32mreturn\u001b[0m \u001b[0mself\u001b[0m\u001b[0;34m.\u001b[0m\u001b[0m_compiled_call_impl\u001b[0m\u001b[0;34m(\u001b[0m\u001b[0;34m*\u001b[0m\u001b[0margs\u001b[0m\u001b[0;34m,\u001b[0m \u001b[0;34m**\u001b[0m\u001b[0mkwargs\u001b[0m\u001b[0;34m)\u001b[0m  \u001b[0;31m# type: ignore[misc]\u001b[0m\u001b[0;34m\u001b[0m\u001b[0;34m\u001b[0m\u001b[0m\n\u001b[1;32m   1531\u001b[0m         \u001b[0;32melse\u001b[0m\u001b[0;34m:\u001b[0m\u001b[0;34m\u001b[0m\u001b[0;34m\u001b[0m\u001b[0m\n\u001b[0;32m-> 1532\u001b[0;31m             \u001b[0;32mreturn\u001b[0m \u001b[0mself\u001b[0m\u001b[0;34m.\u001b[0m\u001b[0m_call_impl\u001b[0m\u001b[0;34m(\u001b[0m\u001b[0;34m*\u001b[0m\u001b[0margs\u001b[0m\u001b[0;34m,\u001b[0m \u001b[0;34m**\u001b[0m\u001b[0mkwargs\u001b[0m\u001b[0;34m)\u001b[0m\u001b[0;34m\u001b[0m\u001b[0;34m\u001b[0m\u001b[0m\n\u001b[0m\u001b[1;32m   1533\u001b[0m \u001b[0;34m\u001b[0m\u001b[0m\n\u001b[1;32m   1534\u001b[0m     \u001b[0;32mdef\u001b[0m \u001b[0m_call_impl\u001b[0m\u001b[0;34m(\u001b[0m\u001b[0mself\u001b[0m\u001b[0;34m,\u001b[0m \u001b[0;34m*\u001b[0m\u001b[0margs\u001b[0m\u001b[0;34m,\u001b[0m \u001b[0;34m**\u001b[0m\u001b[0mkwargs\u001b[0m\u001b[0;34m)\u001b[0m\u001b[0;34m:\u001b[0m\u001b[0;34m\u001b[0m\u001b[0;34m\u001b[0m\u001b[0m\n",
            "\u001b[0;32m/usr/local/lib/python3.10/dist-packages/torch/nn/modules/module.py\u001b[0m in \u001b[0;36m_call_impl\u001b[0;34m(self, *args, **kwargs)\u001b[0m\n\u001b[1;32m   1539\u001b[0m                 \u001b[0;32mor\u001b[0m \u001b[0m_global_backward_pre_hooks\u001b[0m \u001b[0;32mor\u001b[0m \u001b[0m_global_backward_hooks\u001b[0m\u001b[0;34m\u001b[0m\u001b[0;34m\u001b[0m\u001b[0m\n\u001b[1;32m   1540\u001b[0m                 or _global_forward_hooks or _global_forward_pre_hooks):\n\u001b[0;32m-> 1541\u001b[0;31m             \u001b[0;32mreturn\u001b[0m \u001b[0mforward_call\u001b[0m\u001b[0;34m(\u001b[0m\u001b[0;34m*\u001b[0m\u001b[0margs\u001b[0m\u001b[0;34m,\u001b[0m \u001b[0;34m**\u001b[0m\u001b[0mkwargs\u001b[0m\u001b[0;34m)\u001b[0m\u001b[0;34m\u001b[0m\u001b[0;34m\u001b[0m\u001b[0m\n\u001b[0m\u001b[1;32m   1542\u001b[0m \u001b[0;34m\u001b[0m\u001b[0m\n\u001b[1;32m   1543\u001b[0m         \u001b[0;32mtry\u001b[0m\u001b[0;34m:\u001b[0m\u001b[0;34m\u001b[0m\u001b[0;34m\u001b[0m\u001b[0m\n",
            "\u001b[0;32m/usr/local/lib/python3.10/dist-packages/torch/nn/modules/linear.py\u001b[0m in \u001b[0;36mforward\u001b[0;34m(self, input)\u001b[0m\n\u001b[1;32m    114\u001b[0m \u001b[0;34m\u001b[0m\u001b[0m\n\u001b[1;32m    115\u001b[0m     \u001b[0;32mdef\u001b[0m \u001b[0mforward\u001b[0m\u001b[0;34m(\u001b[0m\u001b[0mself\u001b[0m\u001b[0;34m,\u001b[0m \u001b[0minput\u001b[0m\u001b[0;34m:\u001b[0m \u001b[0mTensor\u001b[0m\u001b[0;34m)\u001b[0m \u001b[0;34m->\u001b[0m \u001b[0mTensor\u001b[0m\u001b[0;34m:\u001b[0m\u001b[0;34m\u001b[0m\u001b[0;34m\u001b[0m\u001b[0m\n\u001b[0;32m--> 116\u001b[0;31m         \u001b[0;32mreturn\u001b[0m \u001b[0mF\u001b[0m\u001b[0;34m.\u001b[0m\u001b[0mlinear\u001b[0m\u001b[0;34m(\u001b[0m\u001b[0minput\u001b[0m\u001b[0;34m,\u001b[0m \u001b[0mself\u001b[0m\u001b[0;34m.\u001b[0m\u001b[0mweight\u001b[0m\u001b[0;34m,\u001b[0m \u001b[0mself\u001b[0m\u001b[0;34m.\u001b[0m\u001b[0mbias\u001b[0m\u001b[0;34m)\u001b[0m\u001b[0;34m\u001b[0m\u001b[0;34m\u001b[0m\u001b[0m\n\u001b[0m\u001b[1;32m    117\u001b[0m \u001b[0;34m\u001b[0m\u001b[0m\n\u001b[1;32m    118\u001b[0m     \u001b[0;32mdef\u001b[0m \u001b[0mextra_repr\u001b[0m\u001b[0;34m(\u001b[0m\u001b[0mself\u001b[0m\u001b[0;34m)\u001b[0m \u001b[0;34m->\u001b[0m \u001b[0mstr\u001b[0m\u001b[0;34m:\u001b[0m\u001b[0;34m\u001b[0m\u001b[0;34m\u001b[0m\u001b[0m\n",
            "\u001b[0;31mKeyboardInterrupt\u001b[0m: "
          ]
        }
      ],
      "source": [
        "# Answer retrieval loop\n",
        "for question in questions:\n",
        "    # Combining query and context\n",
        "    input_text = \"question: {} context: {}\".format(question, context)\n",
        "\n",
        "    # Processing input text with tokeniser\n",
        "    input_ids = t5_tokenizer.encode(input_text, return_tensors='pt').to(device)\n",
        "\n",
        "    # Creating an answer with the model\n",
        "    outputs = t5_model.generate(input_ids)\n",
        "    answer = t5_tokenizer.decode(outputs[0], skip_special_tokens=True)\n",
        "\n",
        "    print(\"Question:\", question)\n",
        "    print(\"Generated Answer:\", answer)\n",
        "    print(\"=\"*50)  # We add a line to separate questions and answers"
      ]
    },
    {
      "cell_type": "code",
      "execution_count": 21,
      "metadata": {
        "colab": {
          "base_uri": "https://localhost:8080/"
        },
        "id": "s_YwkAPi4OLG",
        "outputId": "24589f80-63df-40f7-a458-eb843d9c77e1"
      },
      "outputs": [
        {
          "name": "stderr",
          "output_type": "stream",
          "text": [
            "Progress:   1%|▏         | 1/70 [00:04<05:12,  4.53s/it]"
          ]
        },
        {
          "name": "stdout",
          "output_type": "stream",
          "text": [
            "Question: Who were the physicists involved in the first artificial fission of atoms?\n",
            "Generated Answer: John Cockcroft, Ernest Walton, and Ernest Rutherford\n",
            "Time taken: 4.508236885070801 seconds\n",
            "==================================================\n"
          ]
        },
        {
          "name": "stderr",
          "output_type": "stream",
          "text": [
            "\rProgress:   3%|▎         | 2/70 [00:08<04:49,  4.26s/it]"
          ]
        },
        {
          "name": "stdout",
          "output_type": "stream",
          "text": [
            "Question: What discovery led to the Manhattan Project?\n",
            "Generated Answer: artificial fission of atoms\n",
            "Time taken: 4.053751468658447 seconds\n",
            "==================================================\n"
          ]
        },
        {
          "name": "stderr",
          "output_type": "stream",
          "text": [
            "\rProgress:   4%|▍         | 3/70 [00:11<03:57,  3.55s/it]"
          ]
        },
        {
          "name": "stdout",
          "output_type": "stream",
          "text": [
            "Question: When did John Cockcroft, Ernest Walton, and Ernest Rutherford discover the energy release from splitting lithium atoms?\n",
            "Generated Answer: 1932\n",
            "Time taken: 2.6867258548736572 seconds\n",
            "==================================================\n"
          ]
        },
        {
          "name": "stderr",
          "output_type": "stream",
          "text": [
            "\rProgress:   6%|▌         | 4/70 [00:14<03:44,  3.40s/it]"
          ]
        },
        {
          "name": "stdout",
          "output_type": "stream",
          "text": [
            "Question: Who discovered the neutron in 1932?\n",
            "Generated Answer: John Cockcroft, Ernest Walton, and Ernest Rutherford\n",
            "Time taken: 3.1342568397521973 seconds\n",
            "==================================================\n"
          ]
        },
        {
          "name": "stderr",
          "output_type": "stream",
          "text": [
            "\rProgress:   7%|▋         | 5/70 [00:19<04:21,  4.02s/it]"
          ]
        },
        {
          "name": "stdout",
          "output_type": "stream",
          "text": [
            "Question: What did Frédéric and Irène Joliot-Curie discover in 1934?\n",
            "Generated Answer: lithium atoms were \"split\" by protons from a proton accelerator\n",
            "Time taken: 5.096675634384155 seconds\n",
            "==================================================\n"
          ]
        },
        {
          "name": "stderr",
          "output_type": "stream",
          "text": [
            "\rProgress:   9%|▊         | 6/70 [00:24<04:46,  4.48s/it]"
          ]
        },
        {
          "name": "stdout",
          "output_type": "stream",
          "text": [
            "Question: What did experiments with slow neutrons lead Enrico Fermi to believe he had created?\n",
            "Generated Answer: a self-sustaining nuclear chain reaction\n",
            "Time taken: 5.359829902648926 seconds\n",
            "==================================================\n"
          ]
        },
        {
          "name": "stderr",
          "output_type": "stream",
          "text": [
            "\rProgress:  10%|█         | 7/70 [00:27<04:04,  3.88s/it]"
          ]
        },
        {
          "name": "stdout",
          "output_type": "stream",
          "text": [
            "Question: Who conducted experiments with neutron-bombarded uranium in 1938?\n",
            "Generated Answer: Niels Bohr and Albert Einstein\n",
            "Time taken: 2.619101047515869 seconds\n",
            "==================================================\n"
          ]
        },
        {
          "name": "stderr",
          "output_type": "stream",
          "text": [
            "\rProgress:  11%|█▏        | 8/70 [00:30<03:48,  3.69s/it]"
          ]
        },
        {
          "name": "stdout",
          "output_type": "stream",
          "text": [
            "Question: What surprising discovery did Otto Hahn and Fritz Strassmann make in 1938?\n",
            "Generated Answer: lithium atoms were \"split\" by protons from a proton accelerator\n",
            "Time taken: 3.289038896560669 seconds\n",
            "==================================================\n"
          ]
        },
        {
          "name": "stderr",
          "output_type": "stream",
          "text": [
            "\rProgress:  13%|█▎        | 9/70 [00:33<03:24,  3.36s/it]"
          ]
        },
        {
          "name": "stdout",
          "output_type": "stream",
          "text": [
            "Question: Who first recognized the potential of fission reactions for a chain reaction?\n",
            "Generated Answer: Niels Bohr and Albert Einstein\n",
            "Time taken: 2.613449811935425 seconds\n",
            "==================================================\n"
          ]
        },
        {
          "name": "stderr",
          "output_type": "stream",
          "text": [
            "\rProgress:  14%|█▍        | 10/70 [00:36<03:21,  3.36s/it]"
          ]
        },
        {
          "name": "stdout",
          "output_type": "stream",
          "text": [
            "Question: When did Frédéric Joliot-Curie announce the experimental confirmation of a self-sustaining nuclear chain reaction?\n",
            "Generated Answer: 25 December 1946\n",
            "Time taken: 3.349984645843506 seconds\n",
            "==================================================\n"
          ]
        },
        {
          "name": "stderr",
          "output_type": "stream",
          "text": [
            "\rProgress:  16%|█▌        | 11/70 [00:40<03:14,  3.29s/it]"
          ]
        },
        {
          "name": "stdout",
          "output_type": "stream",
          "text": [
            "Question: What was the purpose of the Chicago Pile-1 reactor?\n",
            "Generated Answer: production of weapons-grade plutonium for use in the first nuclear weapons\n",
            "Time taken: 3.1296615600585938 seconds\n",
            "==================================================\n"
          ]
        },
        {
          "name": "stderr",
          "output_type": "stream",
          "text": [
            "\rProgress:  17%|█▋        | 12/70 [00:42<02:51,  2.95s/it]"
          ]
        },
        {
          "name": "stdout",
          "output_type": "stream",
          "text": [
            "Question: When did Chicago Pile-1 achieve criticality?\n",
            "Generated Answer: 25 December 1946\n",
            "Time taken: 2.147427797317505 seconds\n",
            "==================================================\n"
          ]
        },
        {
          "name": "stderr",
          "output_type": "stream",
          "text": [
            "\rProgress:  19%|█▊        | 13/70 [00:44<02:37,  2.77s/it]"
          ]
        },
        {
          "name": "stdout",
          "output_type": "stream",
          "text": [
            "Question: What was the goal of the Manhattan Project?\n",
            "Generated Answer: create atomic bombs\n",
            "Time taken: 2.3420236110687256 seconds\n",
            "==================================================\n"
          ]
        },
        {
          "name": "stderr",
          "output_type": "stream",
          "text": [
            "\rProgress:  20%|██        | 14/70 [00:46<02:24,  2.58s/it]"
          ]
        },
        {
          "name": "stdout",
          "output_type": "stream",
          "text": [
            "Question: When was the first nuclear weapon tested by the United States?\n",
            "Generated Answer: July 1945\n",
            "Time taken: 2.140385866165161 seconds\n",
            "==================================================\n"
          ]
        },
        {
          "name": "stderr",
          "output_type": "stream",
          "text": [
            "\rProgress:  21%|██▏       | 15/70 [00:50<02:40,  2.92s/it]"
          ]
        },
        {
          "name": "stdout",
          "output_type": "stream",
          "text": [
            "Question: Who authored the pocketbook 'The Atomic Age' in August 1945?\n",
            "Generated Answer: Niels Bohr and Albert Einstein\n",
            "Time taken: 3.6992287635803223 seconds\n",
            "==================================================\n"
          ]
        },
        {
          "name": "stderr",
          "output_type": "stream",
          "text": [
            "\rProgress:  23%|██▎       | 16/70 [00:52<02:23,  2.66s/it]"
          ]
        },
        {
          "name": "stdout",
          "output_type": "stream",
          "text": [
            "Question: What did Glenn Seaborg envision for the future of nuclear energy?\n",
            "Generated Answer: peaceful\n",
            "Time taken: 2.037545919418335 seconds\n",
            "==================================================\n"
          ]
        },
        {
          "name": "stderr",
          "output_type": "stream",
          "text": [
            "\rProgress:  24%|██▍       | 17/70 [00:54<02:14,  2.54s/it]"
          ]
        },
        {
          "name": "stdout",
          "output_type": "stream",
          "text": [
            "Question: What did Eugene Wigner and Alvin Weinberg patent in August 1945?\n",
            "Generated Answer: The Atomic Age\n",
            "Time taken: 2.2586352825164795 seconds\n",
            "==================================================\n"
          ]
        },
        {
          "name": "stderr",
          "output_type": "stream",
          "text": [
            "\rProgress:  26%|██▌       | 18/70 [00:56<02:05,  2.41s/it]"
          ]
        },
        {
          "name": "stdout",
          "output_type": "stream",
          "text": [
            "Question: When was the EBR-I experimental station in Arco, Idaho, first used to generate electricity?\n",
            "Generated Answer: 1932\n",
            "Time taken: 2.103231430053711 seconds\n",
            "==================================================\n"
          ]
        },
        {
          "name": "stderr",
          "output_type": "stream",
          "text": [
            "\rProgress:  27%|██▋       | 19/70 [00:59<02:03,  2.42s/it]"
          ]
        },
        {
          "name": "stdout",
          "output_type": "stream",
          "text": [
            "Question: What did Dwight Eisenhower emphasize in his 'Atoms for Peace' speech?\n",
            "Generated Answer: peaceful future uses of nuclear energy\n",
            "Time taken: 2.416818380355835 seconds\n",
            "==================================================\n"
          ]
        },
        {
          "name": "stderr",
          "output_type": "stream",
          "text": [
            "\rProgress:  29%|██▊       | 20/70 [01:02<02:15,  2.71s/it]"
          ]
        },
        {
          "name": "stdout",
          "output_type": "stream",
          "text": [
            "Question: What did the Atomic Energy Act of 1954 enable in the United States?\n",
            "Generated Answer: development by the private sector\n",
            "Time taken: 3.3867907524108887 seconds\n",
            "==================================================\n"
          ]
        },
        {
          "name": "stderr",
          "output_type": "stream",
          "text": [
            "\rProgress:  30%|███       | 21/70 [01:04<02:05,  2.57s/it]"
          ]
        },
        {
          "name": "stdout",
          "output_type": "stream",
          "text": [
            "Question: When did the Obninsk Nuclear Power Plant become the world's first nuclear power plant to generate electricity for a power grid?\n",
            "Generated Answer: 25 December 1946\n",
            "Time taken: 2.213231086730957 seconds\n",
            "==================================================\n"
          ]
        },
        {
          "name": "stderr",
          "output_type": "stream",
          "text": [
            "\rProgress:  31%|███▏      | 22/70 [01:07<02:10,  2.73s/it]"
          ]
        },
        {
          "name": "stdout",
          "output_type": "stream",
          "text": [
            "Question: Where was the world's first commercial nuclear power station located?\n",
            "Generated Answer: Moscow, USSR\n",
            "Time taken: 3.089134693145752 seconds\n",
            "==================================================\n"
          ]
        },
        {
          "name": "stderr",
          "output_type": "stream",
          "text": [
            "\rProgress:  33%|███▎      | 23/70 [01:11<02:18,  2.95s/it]"
          ]
        },
        {
          "name": "stdout",
          "output_type": "stream",
          "text": [
            "Question: What were the initial capacities of the Calder Hall reactors?\n",
            "Generated Answer: X-10 Pile\n",
            "Time taken: 3.4415276050567627 seconds\n",
            "==================================================\n"
          ]
        },
        {
          "name": "stderr",
          "output_type": "stream",
          "text": [
            "\rProgress:  34%|███▍      | 24/70 [01:16<02:39,  3.46s/it]"
          ]
        },
        {
          "name": "stdout",
          "output_type": "stream",
          "text": [
            "Question: When did the U.S. Army Nuclear Power Program formally commence?\n",
            "Generated Answer: 25 December 1946\n",
            "Time taken: 4.630265712738037 seconds\n",
            "==================================================\n"
          ]
        },
        {
          "name": "stderr",
          "output_type": "stream",
          "text": [
            "\rProgress:  36%|███▌      | 25/70 [01:18<02:17,  3.06s/it]"
          ]
        },
        {
          "name": "stdout",
          "output_type": "stream",
          "text": [
            "Question: What was the first commercial nuclear station to become operational in the United States?\n",
            "Generated Answer: Trinity test\n",
            "Time taken: 2.1062023639678955 seconds\n",
            "==================================================\n"
          ]
        },
        {
          "name": "stderr",
          "output_type": "stream",
          "text": [
            "\rProgress:  37%|███▋      | 26/70 [01:21<02:13,  3.03s/it]"
          ]
        },
        {
          "name": "stdout",
          "output_type": "stream",
          "text": [
            "Question: What impact did the cancellation of a nuclear-powered aircraft carrier contract have on nuclear reactor design adoption?\n",
            "Generated Answer: The first organization to develop nuclear power was the U.S. Navy\n",
            "Time taken: 2.942477226257324 seconds\n",
            "==================================================\n"
          ]
        },
        {
          "name": "stderr",
          "output_type": "stream",
          "text": [
            "\rProgress:  39%|███▊      | 27/70 [01:23<01:58,  2.75s/it]"
          ]
        },
        {
          "name": "stdout",
          "output_type": "stream",
          "text": [
            "Question: When was EURATOM launched?\n",
            "Generated Answer: 25 December 1946\n",
            "Time taken: 2.112621307373047 seconds\n",
            "==================================================\n"
          ]
        },
        {
          "name": "stderr",
          "output_type": "stream",
          "text": [
            "\rProgress:  40%|████      | 28/70 [01:25<01:51,  2.64s/it]"
          ]
        },
        {
          "name": "stdout",
          "output_type": "stream",
          "text": [
            "Question: What organization was launched alongside the European Economic Community in 1957?\n",
            "Generated Answer: the U.S. Navy\n",
            "Time taken: 2.3707773685455322 seconds\n",
            "==================================================\n"
          ]
        },
        {
          "name": "stderr",
          "output_type": "stream",
          "text": [
            "\rProgress:  41%|████▏     | 29/70 [01:29<02:00,  2.94s/it]"
          ]
        },
        {
          "name": "stdout",
          "output_type": "stream",
          "text": [
            "Question: Where did the first major nuclear reactor accident occur?\n",
            "Generated Answer: Hiroshima and Nagasaki\n",
            "Time taken: 3.6196093559265137 seconds\n",
            "==================================================\n"
          ]
        },
        {
          "name": "stderr",
          "output_type": "stream",
          "text": [
            "\rProgress:  43%|████▎     | 30/70 [01:31<01:53,  2.83s/it]"
          ]
        },
        {
          "name": "stdout",
          "output_type": "stream",
          "text": [
            "Question: What caused the accident at the 3 MW SL-1 reactor?\n",
            "Generated Answer: artificial fission of atoms\n",
            "Time taken: 2.5545170307159424 seconds\n",
            "==================================================\n"
          ]
        },
        {
          "name": "stderr",
          "output_type": "stream",
          "text": [
            "\rProgress:  44%|████▍     | 31/70 [01:33<01:41,  2.60s/it]"
          ]
        },
        {
          "name": "stdout",
          "output_type": "stream",
          "text": [
            "Question: How many crew fatalities resulted from the accident on the Soviet submarine K-27 in 1968?\n",
            "Generated Answer: 2\n",
            "Time taken: 2.0410759449005127 seconds\n",
            "==================================================\n"
          ]
        },
        {
          "name": "stderr",
          "output_type": "stream",
          "text": [
            "\rProgress:  46%|████▌     | 32/70 [01:35<01:32,  2.43s/it]"
          ]
        },
        {
          "name": "stdout",
          "output_type": "stream",
          "text": [
            "Question: How did the global installed nuclear capacity rise from 1960 to the late 1980s?\n",
            "Generated Answer: increased\n",
            "Time taken: 2.0523521900177 seconds\n",
            "==================================================\n"
          ]
        },
        {
          "name": "stderr",
          "output_type": "stream",
          "text": [
            "\rProgress:  47%|████▋     | 33/70 [01:38<01:29,  2.42s/it]"
          ]
        },
        {
          "name": "stdout",
          "output_type": "stream",
          "text": [
            "Question: What was the peak of global nuclear capacity under construction in the late 1970s and early 1980s?\n",
            "Generated Answer: X-10 Pile\n",
            "Time taken: 2.3769896030426025 seconds\n",
            "==================================================\n"
          ]
        },
        {
          "name": "stderr",
          "output_type": "stream",
          "text": [
            "\rProgress:  49%|████▊     | 34/70 [01:41<01:33,  2.59s/it]"
          ]
        },
        {
          "name": "stdout",
          "output_type": "stream",
          "text": [
            "Question: How many nuclear units were cancelled in the United States between 1975 and 1980?\n",
            "Generated Answer: 7\n",
            "Time taken: 2.9729197025299072 seconds\n",
            "==================================================\n"
          ]
        },
        {
          "name": "stderr",
          "output_type": "stream",
          "text": [
            "\rProgress:  50%|█████     | 35/70 [01:43<01:27,  2.50s/it]"
          ]
        },
        {
          "name": "stdout",
          "output_type": "stream",
          "text": [
            "Question: Why was Alvin Weinberg fired from Oak Ridge National Laboratory in 1972?\n",
            "Generated Answer: the Manhattan Project\n",
            "Time taken: 2.2930164337158203 seconds\n",
            "==================================================\n"
          ]
        },
        {
          "name": "stderr",
          "output_type": "stream",
          "text": [
            "\rProgress:  51%|█████▏    | 36/70 [01:46<01:27,  2.58s/it]"
          ]
        },
        {
          "name": "stdout",
          "output_type": "stream",
          "text": [
            "Question: What was the goal of the test program initiated by Idaho National Laboratory in the late 1970s?\n",
            "Generated Answer: to achieve a self-sustaining nuclear chain reaction\n",
            "Time taken: 2.7357985973358154 seconds\n",
            "==================================================\n"
          ]
        },
        {
          "name": "stderr",
          "output_type": "stream",
          "text": [
            "\rProgress:  53%|█████▎    | 37/70 [01:49<01:28,  2.70s/it]"
          ]
        },
        {
          "name": "stdout",
          "output_type": "stream",
          "text": [
            "Question: What factors contributed to rising economic costs in nuclear power plant construction during the 1970s and 1980s?\n",
            "Generated Answer: the Allied effort to create atomic bombs during World War II\n",
            "Time taken: 2.9624440670013428 seconds\n",
            "==================================================\n"
          ]
        },
        {
          "name": "stderr",
          "output_type": "stream",
          "text": [
            "\rProgress:  54%|█████▍    | 38/70 [01:51<01:20,  2.53s/it]"
          ]
        },
        {
          "name": "stdout",
          "output_type": "stream",
          "text": [
            "Question: What effect did the 1973 oil crisis have on nuclear power development in France and Japan?\n",
            "Generated Answer: the private sector\n",
            "Time taken: 2.1259982585906982 seconds\n",
            "==================================================\n"
          ]
        },
        {
          "name": "stderr",
          "output_type": "stream",
          "text": [
            "\rProgress:  56%|█████▌    | 39/70 [01:54<01:25,  2.77s/it]"
          ]
        },
        {
          "name": "stdout",
          "output_type": "stream",
          "text": [
            "Question: How did the French plan, known as the Messmer plan, aim to reduce dependence on oil?\n",
            "Generated Answer: reduce dependence on oil\n",
            "Time taken: 3.318732261657715 seconds\n",
            "==================================================\n"
          ]
        },
        {
          "name": "stderr",
          "output_type": "stream",
          "text": [
            "\rProgress:  57%|█████▋    | 40/70 [01:57<01:20,  2.68s/it]"
          ]
        },
        {
          "name": "stdout",
          "output_type": "stream",
          "text": [
            "Question: What role did local opposition play in the cancellation of the proposed Bodega Bay nuclear power station?\n",
            "Generated Answer: the first organization to develop nuclear power\n",
            "Time taken: 2.4563229084014893 seconds\n",
            "==================================================\n"
          ]
        },
        {
          "name": "stderr",
          "output_type": "stream",
          "text": [
            "\rProgress:  59%|█████▊    | 41/70 [01:59<01:13,  2.53s/it]"
          ]
        },
        {
          "name": "stdout",
          "output_type": "stream",
          "text": [
            "Question: When did the first significant anti-nuclear protests emerge in Germany?\n",
            "Generated Answer: 25 December 1946\n",
            "Time taken: 2.1607930660247803 seconds\n",
            "==================================================\n"
          ]
        },
        {
          "name": "stderr",
          "output_type": "stream",
          "text": [
            "\rProgress:  60%|██████    | 42/70 [02:01<01:10,  2.51s/it]"
          ]
        },
        {
          "name": "stdout",
          "output_type": "stream",
          "text": [
            "Question: What was the significance of the 'Atoms for Peace' speech by Dwight Eisenhower in 1953?\n",
            "Generated Answer: peaceful future uses of nuclear energy\n",
            "Time taken: 2.446439504623413 seconds\n",
            "==================================================\n"
          ]
        },
        {
          "name": "stderr",
          "output_type": "stream",
          "text": [
            "\rProgress:  61%|██████▏   | 43/70 [02:04<01:08,  2.52s/it]"
          ]
        },
        {
          "name": "stdout",
          "output_type": "stream",
          "text": [
            "Question: What regulations were implemented in the United States following increased public hostility to nuclear power in the early 1970s?\n",
            "Generated Answer: mass–energy equivalence\n",
            "Time taken: 2.546633005142212 seconds\n",
            "==================================================\n"
          ]
        },
        {
          "name": "stderr",
          "output_type": "stream",
          "text": [
            "\rProgress:  63%|██████▎   | 44/70 [02:08<01:13,  2.83s/it]"
          ]
        },
        {
          "name": "stdout",
          "output_type": "stream",
          "text": [
            "Question: How did the regulatory changes in the United States affect the license procurement process for nuclear power plants?\n",
            "Generated Answer: encouraged development by the private sector\n",
            "Time taken: 3.5321717262268066 seconds\n",
            "==================================================\n"
          ]
        },
        {
          "name": "stderr",
          "output_type": "stream",
          "text": [
            "\rProgress:  64%|██████▍   | 45/70 [02:10<01:07,  2.71s/it]"
          ]
        },
        {
          "name": "stdout",
          "output_type": "stream",
          "text": [
            "Question: How did utility proposals for nuclear generating stations change in the United States between 1974 and 1976?\n",
            "Generated Answer: encouraged development by the private sector\n",
            "Time taken: 2.4221813678741455 seconds\n",
            "==================================================\n"
          ]
        },
        {
          "name": "stderr",
          "output_type": "stream",
          "text": [
            "\rProgress:  66%|██████▌   | 46/70 [02:13<01:09,  2.89s/it]"
          ]
        },
        {
          "name": "stdout",
          "output_type": "stream",
          "text": [
            "Question: What was the outcome of the Vermont Yankee Nuclear Power Corp. v. Natural Resources Defense Council, Inc. case?\n",
            "Generated Answer: The United States tested the first nuclear weapon in July 1945, the Trinity test, with the\n",
            "Time taken: 3.2885682582855225 seconds\n",
            "==================================================\n"
          ]
        },
        {
          "name": "stderr",
          "output_type": "stream",
          "text": [
            "\rProgress:  67%|██████▋   | 47/70 [02:16<01:02,  2.72s/it]"
          ]
        },
        {
          "name": "stdout",
          "output_type": "stream",
          "text": [
            "Question: What was the main consequence of the Three Mile Island accident according to the Nuclear Regulatory Commission?\n",
            "Generated Answer: atomic bombings\n",
            "Time taken: 2.3237380981445312 seconds\n",
            "==================================================\n"
          ]
        },
        {
          "name": "stderr",
          "output_type": "stream",
          "text": [
            "\rProgress:  69%|██████▊   | 48/70 [02:18<01:00,  2.73s/it]"
          ]
        },
        {
          "name": "stdout",
          "output_type": "stream",
          "text": [
            "Question: How did the bankruptcy of Public Service Company of New Hampshire affect the nuclear power industry?\n",
            "Generated Answer: encouraged development by the private sector\n",
            "Time taken: 2.7245044708251953 seconds\n",
            "==================================================\n"
          ]
        },
        {
          "name": "stderr",
          "output_type": "stream",
          "text": [
            "\rProgress:  70%|███████   | 49/70 [02:21<00:59,  2.84s/it]"
          ]
        },
        {
          "name": "stdout",
          "output_type": "stream",
          "text": [
            "Question: What factors contributed to the shift in electricity generation to coal-fired power plants in the 1980s?\n",
            "Generated Answer: artificial fission of atoms\n",
            "Time taken: 3.1022443771362305 seconds\n",
            "==================================================\n"
          ]
        },
        {
          "name": "stderr",
          "output_type": "stream",
          "text": [
            "\rProgress:  71%|███████▏  | 50/70 [02:24<00:53,  2.65s/it]"
          ]
        },
        {
          "name": "stdout",
          "output_type": "stream",
          "text": [
            "Question: What did President Jimmy Carter call the energy crisis in 1977?\n",
            "Generated Answer: the nuclear energy crisis\n",
            "Time taken: 2.192485809326172 seconds\n",
            "==================================================\n"
          ]
        },
        {
          "name": "stderr",
          "output_type": "stream",
          "text": [
            "\rProgress:  73%|███████▎  | 51/70 [02:26<00:50,  2.66s/it]"
          ]
        },
        {
          "name": "stdout",
          "output_type": "stream",
          "text": [
            "Question: What was the significance of the construction of the first commercial-scale breeder reactor in France?\n",
            "Generated Answer: to achieve a self-sustaining nuclear chain reaction\n",
            "Time taken: 2.6577742099761963 seconds\n",
            "==================================================\n"
          ]
        },
        {
          "name": "stderr",
          "output_type": "stream",
          "text": [
            "\rProgress:  74%|███████▍  | 52/70 [02:29<00:47,  2.62s/it]"
          ]
        },
        {
          "name": "stdout",
          "output_type": "stream",
          "text": [
            "Question: What was the result of the attack on the Superphenix reactor in France in 1982?\n",
            "Generated Answer: a self-sustaining nuclear chain reaction\n",
            "Time taken: 2.5035881996154785 seconds\n",
            "==================================================\n"
          ]
        },
        {
          "name": "stderr",
          "output_type": "stream",
          "text": [
            "\rProgress:  76%|███████▌  | 53/70 [02:32<00:45,  2.65s/it]"
          ]
        },
        {
          "name": "stdout",
          "output_type": "stream",
          "text": [
            "Question: When did the Chernobyl disaster occur?\n",
            "Generated Answer: one month later\n",
            "Time taken: 2.732508420944214 seconds\n",
            "==================================================\n"
          ]
        },
        {
          "name": "stderr",
          "output_type": "stream",
          "text": [
            "\rProgress:  77%|███████▋  | 54/70 [02:35<00:47,  2.99s/it]"
          ]
        },
        {
          "name": "stdout",
          "output_type": "stream",
          "text": [
            "Question: Where was the Chernobyl Nuclear Power Plant located?\n",
            "Generated Answer: Chernobyl\n",
            "Time taken: 3.7499282360076904 seconds\n",
            "==================================================\n"
          ]
        },
        {
          "name": "stderr",
          "output_type": "stream",
          "text": [
            "\rProgress:  79%|███████▊  | 55/70 [02:39<00:46,  3.08s/it]"
          ]
        },
        {
          "name": "stdout",
          "output_type": "stream",
          "text": [
            "Question: What is considered the worst nuclear disaster in history?\n",
            "Generated Answer: Hiroshima\n",
            "Time taken: 3.2935631275177 seconds\n",
            "==================================================\n"
          ]
        },
        {
          "name": "stderr",
          "output_type": "stream",
          "text": [
            "\rProgress:  80%|████████  | 56/70 [02:42<00:43,  3.09s/it]"
          ]
        },
        {
          "name": "stdout",
          "output_type": "stream",
          "text": [
            "Question: How many personnel were involved in the initial emergency response and decontamination of Chernobyl?\n",
            "Generated Answer: ten\n",
            "Time taken: 3.10298228263855 seconds\n",
            "==================================================\n"
          ]
        },
        {
          "name": "stderr",
          "output_type": "stream",
          "text": [
            "\rProgress:  81%|████████▏ | 57/70 [02:45<00:41,  3.20s/it]"
          ]
        },
        {
          "name": "stdout",
          "output_type": "stream",
          "text": [
            "Question: How much did the Chernobyl disaster cost in adjusted inflation terms?\n",
            "Generated Answer: $\n",
            "Time taken: 3.4440183639526367 seconds\n",
            "==================================================\n"
          ]
        },
        {
          "name": "stderr",
          "output_type": "stream",
          "text": [
            "\rProgress:  83%|████████▎ | 58/70 [02:48<00:36,  3.05s/it]"
          ]
        },
        {
          "name": "stdout",
          "output_type": "stream",
          "text": [
            "Question: How did the Chernobyl disaster affect the regulation of Western reactors?\n",
            "Generated Answer: encouraged development by the private sector\n",
            "Time taken: 2.682119131088257 seconds\n",
            "==================================================\n"
          ]
        },
        {
          "name": "stderr",
          "output_type": "stream",
          "text": [
            "\rProgress:  84%|████████▍ | 59/70 [02:51<00:34,  3.12s/it]"
          ]
        },
        {
          "name": "stdout",
          "output_type": "stream",
          "text": [
            "Question: What changes were made to the RBMK reactors after the Chernobyl accident?\n",
            "Generated Answer: building of larger single-purpose production reactors, such as the X-10 Pile,\n",
            "Time taken: 3.2609188556671143 seconds\n",
            "==================================================\n"
          ]
        },
        {
          "name": "stderr",
          "output_type": "stream",
          "text": [
            "\rProgress:  86%|████████▌ | 60/70 [02:54<00:28,  2.87s/it]"
          ]
        },
        {
          "name": "stdout",
          "output_type": "stream",
          "text": [
            "Question: How many RBMK reactors are still in use today?\n",
            "Generated Answer: X-10 Pile\n",
            "Time taken: 2.2623918056488037 seconds\n",
            "==================================================\n"
          ]
        },
        {
          "name": "stderr",
          "output_type": "stream",
          "text": [
            "\rProgress:  87%|████████▋ | 61/70 [02:57<00:27,  3.02s/it]"
          ]
        },
        {
          "name": "stdout",
          "output_type": "stream",
          "text": [
            "Question: What were the primary reasons for the slowdown in global nuclear capacity growth after the late 1980s?\n",
            "Generated Answer: atoms were \"split\" by protons from a proton accelerator\n",
            "Time taken: 3.367335557937622 seconds\n",
            "==================================================\n"
          ]
        },
        {
          "name": "stderr",
          "output_type": "stream",
          "text": [
            "\rProgress:  89%|████████▊ | 62/70 [03:00<00:23,  2.99s/it]"
          ]
        },
        {
          "name": "stdout",
          "output_type": "stream",
          "text": [
            "Question: How many nuclear units were cancelled in the United States ultimately?\n",
            "Generated Answer: one month\n",
            "Time taken: 2.9058737754821777 seconds\n",
            "==================================================\n"
          ]
        },
        {
          "name": "stderr",
          "output_type": "stream",
          "text": [
            "\rProgress:  90%|█████████ | 63/70 [03:02<00:20,  2.88s/it]"
          ]
        },
        {
          "name": "stdout",
          "output_type": "stream",
          "text": [
            "Question: Who authored the cover story in the 11 February 1985 issue of Forbes magazine criticizing the U.S. nuclear power program?\n",
            "Generated Answer: Niels Bohr and Albert Einstein\n",
            "Time taken: 2.6272451877593994 seconds\n",
            "==================================================\n"
          ]
        },
        {
          "name": "stderr",
          "output_type": "stream",
          "text": [
            "\rProgress:  91%|█████████▏| 64/70 [03:06<00:17,  3.00s/it]"
          ]
        },
        {
          "name": "stdout",
          "output_type": "stream",
          "text": [
            "Question: How did the Three Mile Island accident affect new plant constructions in many countries?\n",
            "Generated Answer: led to the building of larger single-purpose production reactors, such as the X-10\n",
            "Time taken: 3.236867904663086 seconds\n",
            "==================================================\n"
          ]
        },
        {
          "name": "stderr",
          "output_type": "stream",
          "text": [
            "\rProgress:  93%|█████████▎| 65/70 [03:08<00:13,  2.72s/it]"
          ]
        },
        {
          "name": "stdout",
          "output_type": "stream",
          "text": [
            "Question: What was the primary cost of implementing regulatory changes after the Three Mile Island accident?\n",
            "Generated Answer: cost\n",
            "Time taken: 2.0589656829833984 seconds\n",
            "==================================================\n"
          ]
        },
        {
          "name": "stderr",
          "output_type": "stream",
          "text": [
            "\rProgress:  94%|█████████▍| 66/70 [03:14<00:14,  3.74s/it]"
          ]
        },
        {
          "name": "stdout",
          "output_type": "stream",
          "text": [
            "Question: What was the significance of the shutdown of two nuclear power stations in the Tennessee Valley in the 1980s?\n",
            "Generated Answer: the atomic bombings of Hiroshima and Nagasaki taking place one\n",
            "Time taken: 6.093811988830566 seconds\n",
            "==================================================\n"
          ]
        },
        {
          "name": "stderr",
          "output_type": "stream",
          "text": [
            "\rProgress:  96%|█████████▌| 67/70 [03:18<00:11,  3.93s/it]"
          ]
        },
        {
          "name": "stdout",
          "output_type": "stream",
          "text": [
            "Question: What did the anti-nuclear protests in the late 1960s and early 1970s in Europe and North America lead to?\n",
            "Generated Answer: building of larger single-purpose production reactors, such as the X-10 Pile,\n",
            "Time taken: 4.360486030578613 seconds\n",
            "==================================================\n"
          ]
        },
        {
          "name": "stderr",
          "output_type": "stream",
          "text": [
            "\rProgress:  97%|█████████▋| 68/70 [03:21<00:06,  3.42s/it]"
          ]
        },
        {
          "name": "stdout",
          "output_type": "stream",
          "text": [
            "Question: What was the frequency of new nuclear reactor startups globally during the 1980s?\n",
            "Generated Answer: a high rate\n",
            "Time taken: 2.2181081771850586 seconds\n",
            "==================================================\n"
          ]
        },
        {
          "name": "stderr",
          "output_type": "stream",
          "text": [
            "\rProgress:  99%|█████████▊| 69/70 [03:23<00:03,  3.06s/it]"
          ]
        },
        {
          "name": "stdout",
          "output_type": "stream",
          "text": [
            "Question: When did utility proposals for nuclear generating stations peak in the United States?\n",
            "Generated Answer: World War II\n",
            "Time taken: 2.190495252609253 seconds\n",
            "==================================================\n"
          ]
        },
        {
          "name": "stderr",
          "output_type": "stream",
          "text": [
            "Progress: 100%|██████████| 70/70 [03:26<00:00,  2.95s/it]"
          ]
        },
        {
          "name": "stdout",
          "output_type": "stream",
          "text": [
            "Question: What was the impact of the 1979 oil crisis on countries heavily reliant on oil for electric generation?\n",
            "Generated Answer: the private sector\n",
            "Time taken: 3.127873182296753 seconds\n",
            "==================================================\n",
            "Total Execution Time: 206.37408351898193 seconds\n"
          ]
        },
        {
          "name": "stderr",
          "output_type": "stream",
          "text": [
            "\n"
          ]
        }
      ],
      "source": [
        "import time\n",
        "from tqdm import tqdm  # We add the tqdm library for the progress bar\n",
        "\n",
        "total_time_start = time.time()  # Start time for total time calculation\n",
        "total_questions = len(questions)\n",
        "progress_bar = tqdm(total=total_questions, desc=\"Progress\", position=0)\n",
        "\n",
        "# Answer retrieval loop\n",
        "for question in questions:\n",
        "    # Combining query and context\n",
        "    input_text = \"question: {} context: {}\".format(question, context)\n",
        "\n",
        "    # Processing input text with tokeniser\n",
        "    input_ids = t5_tokenizer.encode(input_text, return_tensors='pt').to(device)\n",
        "\n",
        "    # Creating an answer with the model\n",
        "    start_time = time.time()\n",
        "    outputs = t5_model.generate(input_ids)\n",
        "    end_time = time.time()\n",
        "    answer = t5_tokenizer.decode(outputs[0], skip_special_tokens=True)\n",
        "\n",
        "    # Printing results\n",
        "    print(\"Question:\", question)\n",
        "    print(\"Generated Answer:\", answer)\n",
        "    print(\"Time taken:\", end_time - start_time, \"seconds\")  # Print answer generation time\n",
        "    print(\"=\" * 50)  # We add a line to separate questions and answers\n",
        "\n",
        "    # Update the progress bar\n",
        "    progress_bar.update(1)\n",
        "\n",
        "total_time_end = time.time()  # End time for total time calculation\n",
        "total_execution_time = total_time_end - total_time_start\n",
        "progress_bar.close()\n",
        "\n",
        "print(\"Total Execution Time:\", total_execution_time, \"seconds\")  # Print total time\n"
      ]
    },
    {
      "cell_type": "code",
      "execution_count": null,
      "metadata": {
        "id": "XjfUMqPE4OOV"
      },
      "outputs": [],
      "source": []
    },
    {
      "cell_type": "code",
      "execution_count": null,
      "metadata": {
        "id": "KwIVBMcY4ORq"
      },
      "outputs": [],
      "source": []
    },
    {
      "cell_type": "code",
      "execution_count": null,
      "metadata": {
        "id": "-T8e7e2X4OUk"
      },
      "outputs": [],
      "source": []
    },
    {
      "cell_type": "code",
      "execution_count": null,
      "metadata": {
        "id": "GhHCAnEu4GWc"
      },
      "outputs": [],
      "source": []
    },
    {
      "cell_type": "code",
      "execution_count": null,
      "metadata": {
        "id": "J2WZ0eUd41lT"
      },
      "outputs": [],
      "source": []
    },
    {
      "cell_type": "code",
      "execution_count": null,
      "metadata": {
        "id": "m4dBUZC941on"
      },
      "outputs": [],
      "source": []
    },
    {
      "cell_type": "code",
      "execution_count": null,
      "metadata": {
        "id": "U_bAWyzX41sG"
      },
      "outputs": [],
      "source": []
    },
    {
      "cell_type": "code",
      "execution_count": null,
      "metadata": {
        "id": "VuF3EOvq41vv"
      },
      "outputs": [],
      "source": []
    },
    {
      "cell_type": "code",
      "execution_count": null,
      "metadata": {
        "id": "NCbpHQjl41zH"
      },
      "outputs": [],
      "source": []
    },
    {
      "cell_type": "code",
      "execution_count": null,
      "metadata": {
        "id": "YHY7Qzbc412q"
      },
      "outputs": [],
      "source": []
    }
  ],
  "metadata": {
    "colab": {
      "provenance": []
    },
    "kernelspec": {
      "display_name": "Python 3",
      "name": "python3"
    },
    "language_info": {
      "name": "python"
    }
  },
  "nbformat": 4,
  "nbformat_minor": 0
}

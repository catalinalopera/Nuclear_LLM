{
 "cells": [
  {
   "cell_type": "code",
   "execution_count": 59,
   "metadata": {},
   "outputs": [],
   "source": [
    "import os\n",
    "import time\n",
    "import requests\n",
    "from selenium import webdriver\n",
    "from selenium.webdriver.common.by import By\n",
    "from selenium.webdriver.chrome.service import Service\n",
    "from webdriver_manager.chrome import ChromeDriverManager"
   ]
  },
  {
   "cell_type": "code",
   "execution_count": 65,
   "metadata": {},
   "outputs": [],
   "source": [
    "# Set up Selenium WebDriver\n",
    "options = webdriver.ChromeOptions()\n",
    "options.add_argument(\"--headless\")  # Run in headless mode\n",
    "driver = webdriver.Chrome(service=Service(ChromeDriverManager().install()), options=options)"
   ]
  },
  {
   "cell_type": "code",
   "execution_count": 66,
   "metadata": {},
   "outputs": [],
   "source": [
    "def download_file(url, file_name):\n",
    "    try:\n",
    "        response = requests.get(url)\n",
    "        if response.status_code == 200:\n",
    "            with open(file_name, 'wb') as file:\n",
    "                file.write(response.content)\n",
    "            print(f\"Downloaded {file_name}\")\n",
    "        else:\n",
    "            print(f\"Failed to download file from {url}. Status code: {response.status_code}\")\n",
    "    except Exception as e:\n",
    "        print(f\"Error downloading {file_name} from {url}. Error: {e}\")"
   ]
  },
  {
   "cell_type": "code",
   "execution_count": 67,
   "metadata": {},
   "outputs": [],
   "source": [
    "def download_pdfs(url, download_folder):\n",
    "    driver.get(url)\n",
    "    time.sleep(5)  # Wait for the page to load completely\n",
    "\n",
    "    if not os.path.exists(download_folder):\n",
    "        os.makedirs(download_folder)\n",
    "\n",
    "    # Find all the 'Get PDF' links using the text inside the span element\n",
    "    pdf_links = driver.find_elements(By.XPATH, \"//a[contains(@aria-label, 'Link to PDF')]\")\n",
    "\n",
    "    for link in pdf_links:\n",
    "        pdf_url = link.get_attribute('href')\n",
    "        if pdf_url:\n",
    "            pdf_name = os.path.join(download_folder, os.path.basename(pdf_url))\n",
    "            print(f\"Downloading {pdf_url}\")\n",
    "            download_file(pdf_url, pdf_name)"
   ]
  },
  {
   "cell_type": "code",
   "execution_count": 68,
   "metadata": {},
   "outputs": [],
   "source": [
    "def handle_pagination(base_url, total_pages, download_folder):\n",
    "    for page in range(total_pages):\n",
    "        offset = page * 10\n",
    "        url = f\"{base_url}&offset={offset}\"\n",
    "        print(f\"Processing page {page + 1}...\")\n",
    "        download_pdfs(url, download_folder)"
   ]
  },
  {
   "cell_type": "code",
   "execution_count": 69,
   "metadata": {},
   "outputs": [
    {
     "name": "stdout",
     "output_type": "stream",
     "text": [
      "Processing page 1...\n",
      "Downloading https://www.aanda.org/articles/aa/pdf/2013/01/aa20537-12.pdf\n",
      "Failed to download file from https://www.aanda.org/articles/aa/pdf/2013/01/aa20537-12.pdf. Status code: 403\n",
      "Processing page 2...\n",
      "Downloading https://link.aps.org/accepted/10.1103/RevModPhys.88.035004\n",
      "Downloaded pdfs\\RevModPhys.88.035004\n",
      "Downloading https://europepmc.org/articles/pmc6601390?pdf=render\n",
      "Error downloading pdfs\\pmc6601390?pdf=render from https://europepmc.org/articles/pmc6601390?pdf=render. Error: [Errno 22] Invalid argument: 'pdfs\\\\pmc6601390?pdf=render'\n",
      "Processing page 3...\n",
      "Downloading https://www.cambridge.org/core/services/aop-cambridge-core/content/view/7AF6E4965361B7E65EC536301C4B45CD/9781009401876AR.pdf/Nuclear_Superfluidity.pdf?event-type=FTLA\n",
      "Error downloading pdfs\\Nuclear_Superfluidity.pdf?event-type=FTLA from https://www.cambridge.org/core/services/aop-cambridge-core/content/view/7AF6E4965361B7E65EC536301C4B45CD/9781009401876AR.pdf/Nuclear_Superfluidity.pdf?event-type=FTLA. Error: [Errno 22] Invalid argument: 'pdfs\\\\Nuclear_Superfluidity.pdf?event-type=FTLA'\n",
      "Downloading https://onlinelibrary.wiley.com/doi/pdfdirect/10.1111/bjd.18098\n",
      "Failed to download file from https://onlinelibrary.wiley.com/doi/pdfdirect/10.1111/bjd.18098. Status code: 403\n",
      "Processing page 4...\n",
      "Downloading https://link.aps.org/accepted/10.1103/PhysRevC.95.055804\n",
      "Downloaded pdfs\\PhysRevC.95.055804\n",
      "Downloading https://pubs.aip.org/aip/jap/article-pdf/95/11/5949/10632063/5949_1_online.pdf\n",
      "Failed to download file from https://pubs.aip.org/aip/jap/article-pdf/95/11/5949/10632063/5949_1_online.pdf. Status code: 403\n",
      "Downloading https://www.pnas.org/content/pnas/118/25/e2107770118.full.pdf\n",
      "Failed to download file from https://www.pnas.org/content/pnas/118/25/e2107770118.full.pdf. Status code: 403\n",
      "Processing page 5...\n",
      "Downloading https://link.aps.org/accepted/10.1103/PhysRevLett.121.132701\n",
      "Downloaded pdfs\\PhysRevLett.121.132701\n",
      "Downloading https://www.tandfonline.com/doi/pdf/10.1080/00268976.2018.1426131?needAccess=true\n",
      "Failed to download file from https://www.tandfonline.com/doi/pdf/10.1080/00268976.2018.1426131?needAccess=true. Status code: 403\n",
      "Downloading https://arxiv.org/pdf/1906.12122\n",
      "Downloaded pdfs\\1906.12122\n",
      "Downloading https://www.duo.uio.no/bitstream/10852/101394/1/RevModPhys.94.031003.pdf\n",
      "Downloaded pdfs\\RevModPhys.94.031003.pdf\n"
     ]
    }
   ],
   "source": [
    "# Main function\n",
    "def main():\n",
    "    base_url = 'https://mit.primo.exlibrisgroup.com/discovery/search?query=any,contains,nuclear&tab=all&search_scope=all&vid=01MIT_INST:MIT&facet=tlevel,include,open_access&lang=en&mode=advanced'\n",
    "    total_pages = 5  # Adjust the number of pages as necessary\n",
    "    download_folder = 'pdfs'\n",
    "\n",
    "    # Handle pagination and download PDFs from all pages\n",
    "    handle_pagination(base_url, total_pages, download_folder)\n",
    "\n",
    "    driver.quit()\n",
    "\n",
    "if __name__ == \"__main__\":\n",
    "    main()"
   ]
  }
 ],
 "metadata": {
  "kernelspec": {
   "display_name": "webscraping",
   "language": "python",
   "name": "python3"
  },
  "language_info": {
   "codemirror_mode": {
    "name": "ipython",
    "version": 3
   },
   "file_extension": ".py",
   "mimetype": "text/x-python",
   "name": "python",
   "nbconvert_exporter": "python",
   "pygments_lexer": "ipython3",
   "version": "3.8.19"
  }
 },
 "nbformat": 4,
 "nbformat_minor": 2
}

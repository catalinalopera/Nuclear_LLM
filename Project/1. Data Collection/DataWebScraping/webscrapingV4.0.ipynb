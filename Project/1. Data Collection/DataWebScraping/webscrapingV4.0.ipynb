{
 "cells": [
  {
   "cell_type": "code",
   "execution_count": 35,
   "metadata": {},
   "outputs": [],
   "source": [
    "import requests\n",
    "from bs4 import BeautifulSoup\n",
    "import urllib.parse\n",
    "import os"
   ]
  },
  {
   "cell_type": "code",
   "execution_count": 37,
   "metadata": {},
   "outputs": [],
   "source": [
    "# URL base de la página de búsqueda\n",
    "base_url = \"https://www.sciencedirect.com/search\"\n",
    "\n",
    "# Parámetros de la búsqueda\n",
    "params = {\n",
    "    'qs': 'nuclear',\n",
    "    'langs': 'en',\n",
    "    'accessTypes': 'openaccess',\n",
    "    'show': '25'\n",
    "}\n",
    "\n",
    "# Carpeta donde se guardarán los PDFs\n",
    "pdf_folder = \"pdfs\"\n",
    "os.makedirs(pdf_folder, exist_ok=True)\n",
    "\n",
    "# Encabezados para hacer la solicitud parecer una solicitud del navegador\n",
    "headers = {\n",
    "    \"User-Agent\": \"Mozilla/5.0 (Windows NT 10.0; Win64; x64) AppleWebKit/537.36 (KHTML, like Gecko) Chrome/58.0.3029.110 Safari/537.3\"\n",
    "}"
   ]
  },
  {
   "cell_type": "code",
   "execution_count": 38,
   "metadata": {},
   "outputs": [
    {
     "name": "stdout",
     "output_type": "stream",
     "text": [
      "Failed to retrieve search page with status code 400\n",
      "All PDFs from the first page have been processed.\n"
     ]
    }
   ],
   "source": [
    "# Función para descargar un PDF desde una URL\n",
    "def download_pdf(pdf_url, pdf_path):\n",
    "    response = requests.get(pdf_url, headers=headers)\n",
    "    if response.status_code == 200:\n",
    "        with open(pdf_path, 'wb') as pdf_file:\n",
    "            pdf_file.write(response.content)\n",
    "        print(f\"Downloaded: {pdf_path}\")\n",
    "    else:\n",
    "        print(f\"Failed to download: {pdf_url} with status code {response.status_code}\")\n",
    "\n",
    "# Realizar la solicitud a la página de búsqueda\n",
    "response = requests.get(base_url, headers=headers, params=params)\n",
    "if response.status_code != 200:\n",
    "    print(f\"Failed to retrieve search page with status code {response.status_code}\")\n",
    "else:\n",
    "    soup = BeautifulSoup(response.content, 'html.parser')\n",
    "\n",
    "    # Encontrar todos los enlaces a los artículos en la página\n",
    "    article_links = soup.find_all('a', class_='result-list-title-link')\n",
    "\n",
    "    # Descargar cada PDF encontrado\n",
    "    for link in article_links[:25]:  # Limitar a los primeros 25 enlaces\n",
    "        article_url = urllib.parse.urljoin(\"https://www.sciencedirect.com\", link['href'])\n",
    "        \n",
    "        # Extraer el pii del enlace del artículo\n",
    "        pii = link['href'].split('/')[-1]\n",
    "        \n",
    "        # Construir la URL del PDF\n",
    "        base_pdf_url = f\"https://www.sciencedirect.com/science/article/pii/{pii}/pdfft\"\n",
    "        \n",
    "        # Obtener la página del artículo para extraer el md5 y pid\n",
    "        article_response = requests.get(article_url, headers=headers)\n",
    "        if article_response.status_code != 200:\n",
    "            print(f\"Failed to retrieve article page: {article_url} with status code {article_response.status_code}\")\n",
    "            continue\n",
    "\n",
    "        article_soup = BeautifulSoup(article_response.content, 'html.parser')\n",
    "        pdf_link = article_soup.find('a', class_='anchor download-link anchor-default anchor-icon-left')\n",
    "        \n",
    "        if pdf_link:\n",
    "            pdf_href = pdf_link['href']\n",
    "            md5_pid = pdf_href.split('?')[1]\n",
    "            full_pdf_url = f\"{base_pdf_url}?{md5_pid}\"\n",
    "            \n",
    "            pdf_name = f\"{pii}.pdf\"\n",
    "            pdf_path = os.path.join(pdf_folder, pdf_name)\n",
    "            \n",
    "            download_pdf(full_pdf_url, pdf_path)\n",
    "        else:\n",
    "            print(f\"No PDF link found for article: {article_url}\")\n",
    "\n",
    "print(\"All PDFs from the first page have been processed.\")\n",
    "\n",
    "\n",
    "\n",
    "  "
   ]
  }
 ],
 "metadata": {
  "kernelspec": {
   "display_name": "webscraping",
   "language": "python",
   "name": "python3"
  },
  "language_info": {
   "codemirror_mode": {
    "name": "ipython",
    "version": 3
   },
   "file_extension": ".py",
   "mimetype": "text/x-python",
   "name": "python",
   "nbconvert_exporter": "python",
   "pygments_lexer": "ipython3",
   "version": "3.8.19"
  }
 },
 "nbformat": 4,
 "nbformat_minor": 2
}

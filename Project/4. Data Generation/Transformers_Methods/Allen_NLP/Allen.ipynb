{
 "cells": [
  {
   "cell_type": "code",
   "execution_count": 12,
   "metadata": {},
   "outputs": [],
   "source": [
    "# How to Download AllenNLP - https://github.com/allenai/allennlp?tab=readme-ov-file\n",
    "# conda info --envs\n",
    "# conda activate allennlp_env\n",
    "# git clone https://github.com/allenai/allennlp.git\n",
    "# cd allennlp\n",
    "# pip install -r requirements.txt \n",
    "# pip install allennlp\n",
    "# !pip install spacy \"https://github.com/explosion/spacy-models/releases/download/en_core_web_sm-2.0.0/en_core_web_sm-2.0.0.tar.gz\""
   ]
  },
  {
   "cell_type": "code",
   "execution_count": 8,
   "metadata": {},
   "outputs": [],
   "source": [
    "passage = \"\"\"\n",
    "In spite of the uncertainty mentioned previously, we see that the most energetic part offers the best possibility to disentangle fission from 235U and 239Pu. The comparison between the cumulative numbers of antineutrinos as a function of antineutrino energy detected at low vs. high energy is an efficient observable to distinguish pure 235U and 239Pu. IAEA seeks also monitoring large spent-fuel elements. For this application, the likelihood is that antineutrino detectors could only make measurements on large quantities of beta-emitters, e.g., several cores of spent fuel. In the time of the experiment the discharge of parts of the core will happen and the Double-Chooz experiment will quantify the sensitivity of such monitoring. More generally the techniques developed for the detection of antineutrinos could be applied for the monitoring of nuclear activities at the level of a country. Hence a KamLAND type detector deeply submerged off the coast of the country, would offer the sensitivity to detect a new underground reactor located at several hundreds of kilometers. All these common efforts toward more reliable techniques, remotely operated detectors, not to mention undersea techniques will automatically benefit to both fields, safeguard and geo-neutrinos.\n",
    "\n",
    "\"\"\""
   ]
  },
  {
   "cell_type": "code",
   "execution_count": 2,
   "metadata": {},
   "outputs": [
    {
     "name": "stderr",
     "output_type": "stream",
     "text": [
      "error loading _jsonnet (this is expected on Windows), treating C:\\Users\\engba\\AppData\\Local\\Temp\\tmpl2_gxnng\\config.json as plain json\n"
     ]
    }
   ],
   "source": [
    "#Initialize the predictor\n",
    "from allennlp.predictors.predictor import Predictor\n",
    "predictor = Predictor.from_path(\"https://storage.googleapis.com/allennlp-public-models/bidaf-elmo-model-2020.03.19.tar.gz\")\n"
   ]
  },
  {
   "cell_type": "code",
   "execution_count": 9,
   "metadata": {},
   "outputs": [
    {
     "data": {
      "text/plain": [
       "'235U and 239Pu'"
      ]
     },
     "execution_count": 9,
     "metadata": {},
     "output_type": "execute_result"
    }
   ],
   "source": [
    "result=predictor.predict(\n",
    "  passage=passage,\n",
    "  question= \"The most energetic part offers the best chance to disentangle fission?\"\n",
    ")\n",
    "result['best_span_str']"
   ]
  },
  {
   "cell_type": "code",
   "execution_count": 3,
   "metadata": {},
   "outputs": [
    {
     "data": {
      "text/plain": [
       "'By varying the reactor power'"
      ]
     },
     "execution_count": 3,
     "metadata": {},
     "output_type": "execute_result"
    }
   ],
   "source": [
    "result=predictor.predict(\n",
    "  passage=passage,\n",
    "  question= \"How can the possibility to use antineutrinos for power monitoring be evaluated?\"\n",
    ")\n",
    "result['best_span_str']"
   ]
  },
  {
   "cell_type": "code",
   "execution_count": 4,
   "metadata": {},
   "outputs": [
    {
     "data": {
      "text/plain": [
       "'will serve as a test of the \\nexperimental set-up'"
      ]
     },
     "execution_count": 4,
     "metadata": {},
     "output_type": "execute_result"
    }
   ],
   "source": [
    "result=predictor.predict(\n",
    "  passage=passage,\n",
    "  question= \"How can we simulate the evoluti of nuclei?\"\n",
    ")\n",
    "result['best_span_str']"
   ]
  },
  {
   "cell_type": "code",
   "execution_count": 2,
   "metadata": {},
   "outputs": [
    {
     "name": "stdout",
     "output_type": "stream",
     "text": [
      "{'passage_question_attention': [[0.12354607880115509, 0.1778867095708847, 0.17719341814517975, 0.4123057425022125, 0.026358911767601967, 0.014284363947808743, 0.06842473894357681], [0.11413420736789703, 0.43532949686050415, 0.21142350137233734, 0.13709674775600433, 0.01547058206051588, 0.009885049425065517, 0.07666036486625671], [0.11652087420225143, 0.24120663106441498, 0.3106343150138855, 0.18488822877407074, 0.028604326769709587, 0.01694069243967533, 0.10120496898889542], [0.007104709278792143, 0.008015056140720844, 0.022112349048256874, 0.9536373615264893, 0.002876206999644637, 0.0013522132067009807, 0.00490215327590704], [0.14161472022533417, 0.2762555778026581, 0.15514467656612396, 0.08193947374820709, 0.06460515409708023, 0.06504080444574356, 0.2153996080160141], [0.16999924182891846, 0.22404606640338898, 0.25307896733283997, 0.10206212848424911, 0.06199811398983002, 0.10577613115310669, 0.08303935825824738], [0.04014070704579353, 0.05399665609002113, 0.08026152849197388, 0.7835032343864441, 0.015238791704177856, 0.006031316705048084, 0.02082773670554161], [0.09952902048826218, 0.06769624352455139, 0.0908486396074295, 0.09615437686443329, 0.49560868740081787, 0.07508529722690582, 0.07507777214050293], [0.009708015248179436, 0.009932606481015682, 0.008947384543716908, 0.007149430923163891, 0.007583103608340025, 0.9401232600212097, 0.016556231305003166], [0.19890528917312622, 0.22398999333381653, 0.10963666439056396, 0.06272578984498978, 0.016344018280506134, 0.01841290108859539, 0.36998531222343445]], 'span_start_logits': [5.727299690246582, -5.1351728439331055, -5.688562393188477, -4.529214382171631, -8.968615531921387, -5.236024379730225, -7.4099016189575195, -9.969615936279297, -4.4232048988342285, -4.803719997406006], 'span_start_probs': [0.9998490810394287, 1.9161194359185174e-05, 1.1017638826160692e-05, 3.512264447635971e-05, 4.1455251675870386e-07, 1.7323016436421312e-05, 1.970245875781984e-06, 1.5235286809911486e-07, 3.905045741703361e-05, 2.669137393240817e-05], 'span_end_logits': [4.453890800476074, -2.7625603675842285, -7.021744251251221, -2.213336944580078, -8.798381805419922, -4.402013301849365, -4.428439140319824, -9.230047225952148, -1.3335962295532227, -2.3286991119384766], 'span_end_probs': [0.9935420155525208, 0.0007296613184735179, 1.0312905942555517e-05, 0.0012637058971449733, 1.7450078075853526e-06, 0.00014161724539007992, 0.00013792383833788335, 1.1332545000186656e-06, 0.0030458783730864525, 0.0011260168394073844], 'best_span': [0, 0], 'best_span_str': 'Paris', 'question_tokens': ['What', 'is', 'the', 'capital', 'of', 'France', '?'], 'passage_tokens': ['Paris', 'is', 'the', 'capital', 'and', 'largest', 'city', 'of', 'France', '.'], 'token_offsets': [[0, 5], [6, 8], [9, 12], [13, 20], [21, 24], [25, 32], [33, 37], [38, 40], [41, 47], [47, 48]]}\n"
     ]
    }
   ],
   "source": [
    "#URL\n",
    "model_url = \"https://storage.googleapis.com/allennlp-public-models/bidaf-elmo-2022.02.10.tar.gz\"\n",
    "\n",
    "# Predictor \n",
    "predictor = Predictor.from_path(model_url)\n",
    "\n",
    "question = \"What is the capital of France?\"\n",
    "passage = \"Paris is the capital and largest city of France.\"\n",
    "result = predictor.predict(passage=passage, question=question)\n",
    "#Result\n",
    "print(result)\n"
   ]
  },
  {
   "cell_type": "markdown",
   "metadata": {},
   "source": [
    "# -------------------------------------------"
   ]
  },
  {
   "cell_type": "code",
   "execution_count": 6,
   "metadata": {},
   "outputs": [
    {
     "name": "stderr",
     "output_type": "stream",
     "text": [
      "error loading _jsonnet (this is expected on Windows), treating C:\\Users\\engba\\AppData\\Local\\Temp\\tmp7z4lm5za\\config.json as plain json\n"
     ]
    }
   ],
   "source": [
    "from allennlp.predictors.predictor import Predictor\n",
    "# predictor = Predictor.from_path(\"https://s3-us-west-2.amazonaws.com/allennlp/models/bidaf-model-2017.09.15-charpad.tar.gz\")\n",
    "predictor = Predictor.from_path(\"https://storage.googleapis.com/allennlp-public-models/bidaf-model-2020.03.19.tar.gz\")"
   ]
  },
  {
   "cell_type": "code",
   "execution_count": 6,
   "metadata": {},
   "outputs": [
    {
     "data": {
      "text/plain": [
       "'a new underground reactor'"
      ]
     },
     "execution_count": 6,
     "metadata": {},
     "output_type": "execute_result"
    }
   ],
   "source": [
    "result=predictor.predict(\n",
    "  passage=passage,\n",
    "  question= \"What would a KamLAND type detector detect?\"\n",
    "  # \"how are union territoris managed?\"\n",
    ")\n",
    "result['best_span_str']"
   ]
  },
  {
   "cell_type": "code",
   "execution_count": 7,
   "metadata": {},
   "outputs": [
    {
     "data": {
      "text/plain": [
       "'Van de Graaf'"
      ]
     },
     "execution_count": 7,
     "metadata": {},
     "output_type": "execute_result"
    }
   ],
   "source": [
    "result=predictor.predict(\n",
    "  passage=passage,\n",
    "  question= \"What is the name of the neutron source used in Europe?\"\n",
    "  # \"how are union territoris managed?\"\n",
    ")\n",
    "result['best_span_str']"
   ]
  },
  {
   "cell_type": "code",
   "execution_count": 10,
   "metadata": {},
   "outputs": [
    {
     "data": {
      "text/plain": [
       "'By varying the reactor power'"
      ]
     },
     "execution_count": 10,
     "metadata": {},
     "output_type": "execute_result"
    }
   ],
   "source": [
    "result=predictor.predict(\n",
    "  passage=passage,\n",
    "  question= \"How can the possibility to use antineutrinos for power monitoring be evaluated?\"\n",
    "  # \"how are union territoris managed?\"\n",
    ")\n",
    "result['best_span_str']"
   ]
  }
 ],
 "metadata": {
  "kernelspec": {
   "display_name": "Python 3",
   "language": "python",
   "name": "python3"
  },
  "language_info": {
   "codemirror_mode": {
    "name": "ipython",
    "version": 3
   },
   "file_extension": ".py",
   "mimetype": "text/x-python",
   "name": "python",
   "nbconvert_exporter": "python",
   "pygments_lexer": "ipython3",
   "version": "3.8.19"
  }
 },
 "nbformat": 4,
 "nbformat_minor": 2
}

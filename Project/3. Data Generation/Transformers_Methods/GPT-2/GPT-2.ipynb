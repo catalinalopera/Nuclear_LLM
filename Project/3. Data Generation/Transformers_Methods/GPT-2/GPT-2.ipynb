{
 "cells": [
  {
   "cell_type": "code",
   "execution_count": 1,
   "metadata": {},
   "outputs": [],
   "source": [
    "!pip install -q transformers"
   ]
  },
  {
   "cell_type": "code",
   "execution_count": 2,
   "metadata": {},
   "outputs": [
    {
     "name": "stderr",
     "output_type": "stream",
     "text": [
      "c:\\Users\\engba\\AppData\\Local\\Programs\\Python\\Python311\\Lib\\site-packages\\huggingface_hub\\file_download.py:1132: FutureWarning: `resume_download` is deprecated and will be removed in version 1.0.0. Downloads always resume when possible. If you want to force a new download, use `force_download=True`.\n",
      "  warnings.warn(\n"
     ]
    }
   ],
   "source": [
    "from transformers import GPT2LMHeadModel, GPT2Tokenizer\n",
    "\n",
    "# Install GPT-2 model and tokeniser\n",
    "model_name = \"gpt2\"\n",
    "tokenizer = GPT2Tokenizer.from_pretrained(model_name)\n",
    "model = GPT2LMHeadModel.from_pretrained(model_name)"
   ]
  },
  {
   "cell_type": "code",
   "execution_count": 3,
   "metadata": {},
   "outputs": [],
   "source": [
    "import torch"
   ]
  },
  {
   "cell_type": "code",
   "execution_count": 4,
   "metadata": {},
   "outputs": [
    {
     "name": "stdout",
     "output_type": "stream",
     "text": [
      "Question: What is the process of generating electricity in nuclear reactors?\n",
      "Context: Nuclear reactors are used for generating electricity through nuclear fission reactions.\n",
      "Answer: The process of generating electricity in nuclear reactors is called nuclear fusion. The process of nuclear fusion is called fusion energy. The process of nuclear fusion is called fusion energy.\n",
      "\n",
      "\n",
      "\n",
      "The process of generating electricity in nuclear reactors is called fusion energy. The process of nuclear fusion is called fusion energy.\n"
     ]
    }
   ],
   "source": [
    "def generate_answer(context, question):\n",
    "    # Tokenise inputs\n",
    "    inputs = tokenizer.encode(context + \" \" + question, return_tensors=\"pt\")\n",
    "\n",
    "    # Generate answer from model\n",
    "    with torch.no_grad():\n",
    "        outputs = model.generate(inputs, max_length=100, num_return_sequences=1, pad_token_id=tokenizer.eos_token_id)\n",
    "\n",
    "    # Decode the answer\n",
    "    answer = tokenizer.decode(outputs[0], skip_special_tokens=True)\n",
    "\n",
    "    # Remove redundant text in the answer\n",
    "    answer = answer.replace(context, \"\").replace(question, \"\").strip()\n",
    "\n",
    "    return answer\n",
    "\n",
    "def main():\n",
    "    context = \"Nuclear reactors are used for generating electricity through nuclear fission reactions.\"\n",
    "    question = \"What is the process of generating electricity in nuclear reactors?\"\n",
    "    \n",
    "    # Produce the answer\n",
    "    answer = generate_answer(context, question)\n",
    "    \n",
    "    # Create answer\n",
    "    print(f\"Question: {question}\")\n",
    "    print(f\"Context: {context}\")\n",
    "    print(f\"Answer: {answer}\")\n",
    "\n",
    "if __name__ == \"__main__\":\n",
    "    main()"
   ]
  },
  {
   "cell_type": "code",
   "execution_count": 11,
   "metadata": {},
   "outputs": [
    {
     "name": "stdout",
     "output_type": "stream",
     "text": [
      "Question: What is the process of generating electricity in nuclear reactors?\n",
      "Context: Nuclear reactors are used for generating electricity through nuclear fission reactions.\n",
      "Answer: The process of generating electricity in nuclear reactors is called fusion. energy. . ..\n"
     ]
    }
   ],
   "source": [
    "def generate_answer(context, question):\n",
    "    # Tokenize the inputs\n",
    "    inputs = tokenizer.encode(context + \" \" + question, return_tensors=\"pt\")\n",
    "\n",
    "    # Generate the answer using the model\n",
    "    with torch.no_grad():\n",
    "        outputs = model.generate(inputs, max_length=100, num_return_sequences=1, pad_token_id=tokenizer.eos_token_id)\n",
    "\n",
    "    # Decode the generated answer\n",
    "    answer = tokenizer.decode(outputs[0], skip_special_tokens=True)\n",
    "\n",
    "    # Remove the excess text from the answer\n",
    "    answer = answer.replace(context, \"\").replace(question, \"\").strip()\n",
    "\n",
    "    # Check for uniqueness at the sentence level\n",
    "    sentences = [sent.capitalize().strip() for sent in answer.split('.') if sent.strip()]\n",
    "    unique_words = set()\n",
    "    unique_answer = []\n",
    "\n",
    "    for sentence in sentences:\n",
    "        words = sentence.split()\n",
    "        unique_sentence = []\n",
    "        for word in words:\n",
    "            if word.lower() not in unique_words:\n",
    "                unique_words.add(word.lower())\n",
    "                unique_sentence.append(word)\n",
    "        unique_answer.append(\" \".join(unique_sentence))\n",
    "\n",
    "    # Recombine the unique sentences\n",
    "    processed_answer = \". \".join(unique_answer).strip() + \".\"\n",
    "\n",
    "    return processed_answer\n",
    "\n",
    "def main():\n",
    "    context = \"Nuclear reactors are used for generating electricity through nuclear fission reactions.\"\n",
    "    question = \"What is the process of generating electricity in nuclear reactors?\"\n",
    "\n",
    "    # Generate the answer\n",
    "    answer = generate_answer(context, question)\n",
    "\n",
    "    # Print the answer\n",
    "    print(f\"Question: {question}\")\n",
    "    print(f\"Context: {context}\")\n",
    "    print(f\"Answer: {answer}\")\n",
    "\n",
    "if __name__ == \"__main__\":\n",
    "    main()\n"
   ]
  },
  {
   "cell_type": "code",
   "execution_count": null,
   "metadata": {},
   "outputs": [],
   "source": []
  },
  {
   "cell_type": "code",
   "execution_count": 21,
   "metadata": {},
   "outputs": [],
   "source": [
    "import torch\n",
    "from transformers import GPT2LMHeadModel, GPT2Tokenizer\n",
    "\n",
    "def generate_question_and_answer(context):\n",
    "    # Model and tokenize\n",
    "    model_name = \"gpt2-large\"\n",
    "    tokenizer = GPT2Tokenizer.from_pretrained(model_name)\n",
    "    model = GPT2LMHeadModel.from_pretrained(model_name)\n",
    "\n"
   ]
  },
  {
   "cell_type": "code",
   "execution_count": 26,
   "metadata": {},
   "outputs": [
    {
     "name": "stdout",
     "output_type": "stream",
     "text": [
      "Context: Neutrinos & Non-proliferation in Europe Michel Cribier* APC, Paris CEA/Saclay, DAPNIA/SPP The International Atomic Energy Agency (IAEA) is the United Nations agency in charge of the development of peaceful use of atomic energy. In particular IAEA is the verification authority of the Treaty on the Non-Proliferation of Nuclear Weapons (NPT). To do that jobs inspections of civil nuclear installations and related facilities under safeguards agreements are made in more than 140 states. IAEA uses many different tools for these verifications, like neutron monitor, gamma spectroscopy, but also bookeeping of the isotopic composition at the fuel element level before and after their use in the nuclear power station. In particular it verifie that weapon-origin and other fissile materials that Russia and USA have released from their defense programmes are used for civil application. The existence of an antineutrino signal sensitive to the power and to the isotopic composition of a reactor core, as first proposed by Mikaelian et al. and as demonstrated by the Bugey and Rovno experiments, , could provide a means to address certain safeguards applications. Thus the IAEA recently ask members states to make a feasibility study to determine whether antineutrino detection methods might provide practical safeguards tools for selected applications. If this method proves to be useful, IAEA has the power to decide that any new nuclear power plants built has to include an antineutrino monitor. Within the Double Chooz collaboration, an experiment mainly devoted to study the fundamental properties of neutrinos, we thought that we were in a good position to evaluate the interest of using antineutrino detection to remotely monitor nuclear power station. This effort in Europe, supplemented by the US effort , will constitute the basic answer to IAEA of the neutrino community. * On behalf of a collective work by S. Cormon, M. Fallot, H. Faust, T. Lasserre, A. Letourneau, D. Lhuillier, V. Sinev from DAPNIA, Subatech and ILL. Figure 1 : The statistical distribution of the fission products resulting from the fission of the most important fissile nuclei 235U and 239Pu shows two humps, one centered around masses 100 and the other one centered around 135.\n",
      "Generated Question: Neutrinos & Non-proliferation in Europe Michel Cribier* APC, Paris CEA/Saclay, DAPNIA/SPP The International Atomic Energy Agency (IAEA) is the United Nations agency in charge of the development of peaceful use of atomic energy. In particular IAEA is the verification authority of the Treaty on the Non-Proliferation of Nuclear Weapons (NPT). To do that jobs inspections of civil nuclear installations and related facilities under safeguards agreements are made in more than 140 states. IAEA uses many different tools for these verifications, like neutron monitor, gamma spectroscopy, but also bookeeping of the isotopic composition at the fuel element level before and after their use in the nuclear power station. In particular it verifie that weapon-origin and other fissile materials that Russia and USA have released from their defense programmes are used for civil application. The existence of an antineutrino signal sensitive to the power and to the isotopic composition of a reactor core, as first proposed by Mikaelian et al. and as demonstrated by the Bugey and Rovno experiments,, could provide a means to address certain safeguards applications. Thus the IAEA recently ask members states to make a feasibility study to determine whether antineutrino detection methods might provide practical safeguards tools for selected applications. If this method proves to be useful, IAEA has the power to decide that any new nuclear power plants built has to include an antineutrino monitor. Within the Double Chooz collaboration, an experiment mainly devoted to study the fundamental properties of neutrinos, we thought that we were in a good position to evaluate the interest of using antineutrino detection to remotely monitor nuclear power station. This effort in Europe, supplemented by the US effort, will constitute the basic answer to IAEA of the neutrino community. * On behalf of a collective work by S. Cormon, M. Fallot, H. Faust, T. Lasserre, A. Letourneau, D. Lhuillier, V. Sinev from DAPNIA, Subatech and ILL. Figure 1 : The statistical distribution of the fission products resulting from the fission of the most important fissile nuclei 235U and 239Pu shows two humps, one centered around masses 100 and the other one centered around 135. The fission products are divided into two groups: the first group\n",
      "Generated Answer: Neutrinos & Non-proliferation in Europe Michel Cribier* APC, Paris CEA/Saclay, DAPNIA/SPP The International Atomic Energy Agency (IAEA) is the United Nations agency in charge of the development of peaceful use of atomic energy. In particular IAEA is the verification authority of the Treaty on the Non-Proliferation of Nuclear Weapons (NPT). To do that jobs inspections of civil nuclear installations and related facilities under safeguards agreements are made in more than 140 states. IAEA uses many different tools for these verifications, like neutron monitor, gamma spectroscopy, but also bookeeping of the isotopic composition at the fuel element level before and after their use in the nuclear power station. In particular it verifie that weapon-origin and other fissile materials that Russia and USA have released from their defense programmes are used for civil application. The existence of an antineutrino signal sensitive to the power and to the isotopic composition of a reactor core, as first proposed by Mikaelian et al. and as demonstrated by the Bugey and Rovno experiments,, could provide a means to address certain safeguards applications. Thus the IAEA recently ask members states to make a feasibility study to determine whether antineutrino detection methods might provide practical safeguards tools for selected applications. If this method proves to be useful, IAEA has the power to decide that any new nuclear power plants built has to include an antineutrino monitor. Within the Double Chooz collaboration, an experiment mainly devoted to study the fundamental properties of neutrinos, we thought that we were in a good position to evaluate the interest of using antineutrino detection to remotely monitor nuclear power station. This effort in Europe, supplemented by the US effort, will constitute the basic answer to IAEA of the neutrino community. * On behalf of a collective work by S. Cormon, M. Fallot, H. Faust, T. Lasserre, A. Letourneau, D. Lhuillier, V. Sinev from DAPNIA, Subatech and ILL. Figure 1 : The statistical distribution of the fission products resulting from the fission of the most important fissile nuclei 235U and 239Pu shows two humps, one centered around masses 100 and the other one centered around 135. Neutrinos & Non-proliferation in Europe Michel Cribier* APC, Paris CEA/Saclay, DAPNIA/SPP The International Atomic Energy Agency (IAEA) is the United Nations agency in charge of the development of peaceful use of atomic energy. In particular IAEA is the verification authority of the Treaty on the Non-Proliferation of Nuclear Weapons (NPT). To do that jobs inspections of civil nuclear installations and related facilities under safeguards agreements are made in more than 140 states. IAEA uses many different tools for these verifications, like neutron monitor, gamma spectroscopy, but also bookeeping of the isotopic composition at the fuel element level before and after their use in the nuclear power station. In particular it verifie that weapon-origin and other fissile materials that Russia and USA have released from their defense programmes are used for civil application. The existence of an antineutrino signal sensitive to the power and to the isotopic composition of a reactor core, as first proposed by Mikaelian et al. and as demonstrated by the Bugey and Rovno experiments,, could provide a means to address certain safeguards applications. Thus the IAEA recently ask members states to make a feasibility study to determine whether antineutrino detection methods might provide practical safeguards tools for selected applications. If this method proves to be useful, IAEA has the power to decide that any new nuclear power plants built has to include an antineutrino monitor. Within the Double Chooz collaboration, an experiment mainly devoted to study the fundamental properties of neutrinos, we thought that we were in a good position to evaluate the interest of using antineutrino detection to remotely monitor nuclear power station. This effort in Europe, supplemented by the US effort, will constitute the basic answer to IAEA of the neutrino community. * On behalf of a collective work by S. Cormon, M. Fallot, H. Faust, T. Lasserre, A. Letourneau, D. Lhuillier, V. Sinev from DAPNIA, Subatech and ILL. Figure 1 : The statistical distribution of the fission products resulting from the fission of the most important fissile nuclei 235U and 239Pu shows two humps, one centered around masses 100 and the other one centered around 135. The fission products are divided into two groups: the first group is the fission products of the most important fissile nuclei\n"
     ]
    }
   ],
   "source": [
    "import torch\n",
    "from transformers import GPT2LMHeadModel, GPT2Tokenizer\n",
    "\n",
    "def generate_question_and_answer(context):\n",
    "    # Parameters\n",
    "    temperature = 1.0\n",
    "    top_k = 50\n",
    "    top_p = 0.95\n",
    "\n",
    "    # Tokenize the context\n",
    "    input_ids = tokenizer.encode(context, return_tensors=\"pt\")\n",
    "\n",
    "    # Generate the question from the model\n",
    "    with torch.no_grad():\n",
    "        question_outputs = model.generate(input_ids, \n",
    "                                          max_length=512,  # Reduced max_length from 1024 to 512\n",
    "                                          num_return_sequences=1, \n",
    "                                          pad_token_id=tokenizer.eos_token_id,\n",
    "                                          temperature=temperature,\n",
    "                                          top_k=top_k,\n",
    "                                          top_p=top_p)\n",
    "\n",
    "    # Decode the generated question\n",
    "    question = tokenizer.decode(question_outputs[0], skip_special_tokens=True)\n",
    "\n",
    "    # Combine context and question to answer\n",
    "    context_question = context + \" \" + question\n",
    "\n",
    "    # Tokenize again to generate the answer\n",
    "    input_ids_answer = tokenizer.encode(context_question, return_tensors=\"pt\")\n",
    "\n",
    "    # Generate the answer from the model\n",
    "    with torch.no_grad():\n",
    "        answer_outputs = model.generate(input_ids_answer, \n",
    "                                        max_length=1024,  # Reduced max_length from 2000 to 1024\n",
    "                                        num_return_sequences=1, \n",
    "                                        pad_token_id=tokenizer.eos_token_id,\n",
    "                                        temperature=temperature,\n",
    "                                        top_k=top_k,\n",
    "                                        top_p=top_p)\n",
    "\n",
    "    # Decode the generated answer\n",
    "    answer = tokenizer.decode(answer_outputs[0], skip_special_tokens=True)\n",
    "\n",
    "    return question, answer\n",
    "\n",
    "def main():\n",
    "    context = \"Neutrinos & Non-proliferation in Europe Michel Cribier* APC, Paris CEA/Saclay, DAPNIA/SPP The International Atomic Energy Agency (IAEA) is the United Nations agency in charge of the development of peaceful use of atomic energy. In particular IAEA is the verification authority of the Treaty on the Non-Proliferation of Nuclear Weapons (NPT). To do that jobs inspections of civil nuclear installations and related facilities under safeguards agreements are made in more than 140 states. IAEA uses many different tools for these verifications, like neutron monitor, gamma spectroscopy, but also bookeeping of the isotopic composition at the fuel element level before and after their use in the nuclear power station. In particular it verifie that weapon-origin and other fissile materials that Russia and USA have released from their defense programmes are used for civil application. The existence of an antineutrino signal sensitive to the power and to the isotopic composition of a reactor core, as first proposed by Mikaelian et al. and as demonstrated by the Bugey and Rovno experiments, , could provide a means to address certain safeguards applications. Thus the IAEA recently ask members states to make a feasibility study to determine whether antineutrino detection methods might provide practical safeguards tools for selected applications. If this method proves to be useful, IAEA has the power to decide that any new nuclear power plants built has to include an antineutrino monitor. Within the Double Chooz collaboration, an experiment mainly devoted to study the fundamental properties of neutrinos, we thought that we were in a good position to evaluate the interest of using antineutrino detection to remotely monitor nuclear power station. This effort in Europe, supplemented by the US effort , will constitute the basic answer to IAEA of the neutrino community. * On behalf of a collective work by S. Cormon, M. Fallot, H. Faust, T. Lasserre, A. Letourneau, D. Lhuillier, V. Sinev from DAPNIA, Subatech and ILL. Figure 1 : The statistical distribution of the fission products resulting from the fission of the most important fissile nuclei 235U and 239Pu shows two humps, one centered around masses 100 and the other one centered around 135.\"\n",
    "    # Generate the question and answer from the context\n",
    "    question, answer = generate_question_and_answer(context)\n",
    "    \n",
    "    # Print the generated question and answer\n",
    "    print(f\"Context: {context}\")\n",
    "    print(f\"Generated Question: {question}\")\n",
    "    print(f\"Generated Answer: {answer}\")\n",
    "\n",
    "if __name__ == \"__main__\":\n",
    "    main()\n"
   ]
  }
 ],
 "metadata": {
  "kernelspec": {
   "display_name": "Python 3",
   "language": "python",
   "name": "python3"
  },
  "language_info": {
   "codemirror_mode": {
    "name": "ipython",
    "version": 3
   },
   "file_extension": ".py",
   "mimetype": "text/x-python",
   "name": "python",
   "nbconvert_exporter": "python",
   "pygments_lexer": "ipython3",
   "version": "3.11.5"
  }
 },
 "nbformat": 4,
 "nbformat_minor": 2
}

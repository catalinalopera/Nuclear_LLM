{
 "cells": [
  {
   "cell_type": "markdown",
   "id": "114c8c4b",
   "metadata": {},
   "source": [
    "## This script performs the following tasks:\n",
    "1. Loads a JSON file containing unique QA pairs.\n",
    "2. Randomizes the order of the QA pairs to ensure a fair distribution.\n",
    "3. Splits the randomized QA pairs into two separate JSON files:\n",
    "   - The first file contains 2000 QA pairs.\n",
    "   - The second file contains the remaining 7006 QA pairs.\n",
    "4. Saves the split data into two new JSON files with descriptive names.\n",
    "5. Prints the number of QA pairs in each of the output files.\n",
    "\n",
    "This script is useful for dividing a large dataset into smaller, manageable chunks for further processing or analysis."
   ]
  },
  {
   "cell_type": "code",
   "execution_count": 2,
   "id": "12dceb0e",
   "metadata": {},
   "outputs": [
    {
     "name": "stdout",
     "output_type": "stream",
     "text": [
      "Open_AI_CNSC_QA_pairs_2000_12Aug24.json: 2000\n",
      "Open_AI_CNSC_QA_pairs_7006_12Aug24.json: 7006\n"
     ]
    }
   ],
   "source": [
    "import json\n",
    "import random\n",
    "\n",
    "# Load the JSON file\n",
    "with open('/Users/zarinadossayeva/Desktop/WIL_LLM/CNSC_QA_pairs_JSON/combined_unique.json', 'r') as f:\n",
    "    unique_data = json.load(f)\n",
    "\n",
    "# Randomize the QA pairs\n",
    "random.shuffle(unique_data)\n",
    "\n",
    "# Split the data into two files\n",
    "file1_data = unique_data[:2000]\n",
    "file2_data = unique_data[2000:9006]\n",
    "\n",
    "# Save the two new JSON files\n",
    "with open('Open_AI_CNSC_QA_pairs_2000_12Aug24.json', 'w') as f1_out:\n",
    "    json.dump(file1_data, f1_out, indent=4)\n",
    "\n",
    "with open('Open_AI_CNSC_QA_pairs_7006_12Aug24.json', 'w') as f2_out:\n",
    "    json.dump(file2_data, f2_out, indent=4)\n",
    "\n",
    "# Print the number of QA pairs in each file\n",
    "print(f\"Open_AI_CNSC_QA_pairs_2000_12Aug24.json: {len(file1_data)}\")\n",
    "print(f\"Open_AI_CNSC_QA_pairs_7006_12Aug24.json: {len(file2_data)}\")\n"
   ]
  }
 ],
 "metadata": {
  "kernelspec": {
   "display_name": "Python 3 (ipykernel)",
   "language": "python",
   "name": "python3"
  },
  "language_info": {
   "codemirror_mode": {
    "name": "ipython",
    "version": 3
   },
   "file_extension": ".py",
   "mimetype": "text/x-python",
   "name": "python",
   "nbconvert_exporter": "python",
   "pygments_lexer": "ipython3",
   "version": "3.11.5"
  }
 },
 "nbformat": 4,
 "nbformat_minor": 5
}

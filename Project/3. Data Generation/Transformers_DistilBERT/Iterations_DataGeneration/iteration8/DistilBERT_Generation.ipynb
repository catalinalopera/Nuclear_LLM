{
  "nbformat": 4,
  "nbformat_minor": 0,
  "metadata": {
    "colab": {
      "provenance": [],
      "gpuType": "T4"
    },
    "kernelspec": {
      "name": "python3",
      "display_name": "Python 3"
    },
    "language_info": {
      "name": "python"
    },
    "accelerator": "GPU"
  },
  "cells": [
    {
      "cell_type": "code",
      "execution_count": 85,
      "metadata": {
        "colab": {
          "base_uri": "https://localhost:8080/"
        },
        "id": "NFq8iBOEDqbr",
        "outputId": "ac4a6f8f-b29a-496a-dcd3-0399d8b96641"
      },
      "outputs": [
        {
          "output_type": "stream",
          "name": "stdout",
          "text": [
            "Requirement already satisfied: transformers in /usr/local/lib/python3.10/dist-packages (4.41.2)\n",
            "Requirement already satisfied: filelock in /usr/local/lib/python3.10/dist-packages (from transformers) (3.15.4)\n",
            "Requirement already satisfied: huggingface-hub<1.0,>=0.23.0 in /usr/local/lib/python3.10/dist-packages (from transformers) (0.23.4)\n",
            "Requirement already satisfied: numpy>=1.17 in /usr/local/lib/python3.10/dist-packages (from transformers) (1.25.2)\n",
            "Requirement already satisfied: packaging>=20.0 in /usr/local/lib/python3.10/dist-packages (from transformers) (24.1)\n",
            "Requirement already satisfied: pyyaml>=5.1 in /usr/local/lib/python3.10/dist-packages (from transformers) (6.0.1)\n",
            "Requirement already satisfied: regex!=2019.12.17 in /usr/local/lib/python3.10/dist-packages (from transformers) (2024.5.15)\n",
            "Requirement already satisfied: requests in /usr/local/lib/python3.10/dist-packages (from transformers) (2.31.0)\n",
            "Requirement already satisfied: tokenizers<0.20,>=0.19 in /usr/local/lib/python3.10/dist-packages (from transformers) (0.19.1)\n",
            "Requirement already satisfied: safetensors>=0.4.1 in /usr/local/lib/python3.10/dist-packages (from transformers) (0.4.3)\n",
            "Requirement already satisfied: tqdm>=4.27 in /usr/local/lib/python3.10/dist-packages (from transformers) (4.66.4)\n",
            "Requirement already satisfied: fsspec>=2023.5.0 in /usr/local/lib/python3.10/dist-packages (from huggingface-hub<1.0,>=0.23.0->transformers) (2023.6.0)\n",
            "Requirement already satisfied: typing-extensions>=3.7.4.3 in /usr/local/lib/python3.10/dist-packages (from huggingface-hub<1.0,>=0.23.0->transformers) (4.12.2)\n",
            "Requirement already satisfied: charset-normalizer<4,>=2 in /usr/local/lib/python3.10/dist-packages (from requests->transformers) (3.3.2)\n",
            "Requirement already satisfied: idna<4,>=2.5 in /usr/local/lib/python3.10/dist-packages (from requests->transformers) (3.7)\n",
            "Requirement already satisfied: urllib3<3,>=1.21.1 in /usr/local/lib/python3.10/dist-packages (from requests->transformers) (2.0.7)\n",
            "Requirement already satisfied: certifi>=2017.4.17 in /usr/local/lib/python3.10/dist-packages (from requests->transformers) (2024.7.4)\n",
            "Requirement already satisfied: rouge-score in /usr/local/lib/python3.10/dist-packages (0.1.2)\n",
            "Requirement already satisfied: nltk in /usr/local/lib/python3.10/dist-packages (3.8.1)\n",
            "Requirement already satisfied: bert-score in /usr/local/lib/python3.10/dist-packages (0.3.13)\n",
            "Requirement already satisfied: absl-py in /usr/local/lib/python3.10/dist-packages (from rouge-score) (1.4.0)\n",
            "Requirement already satisfied: numpy in /usr/local/lib/python3.10/dist-packages (from rouge-score) (1.25.2)\n",
            "Requirement already satisfied: six>=1.14.0 in /usr/local/lib/python3.10/dist-packages (from rouge-score) (1.16.0)\n",
            "Requirement already satisfied: click in /usr/local/lib/python3.10/dist-packages (from nltk) (8.1.7)\n",
            "Requirement already satisfied: joblib in /usr/local/lib/python3.10/dist-packages (from nltk) (1.4.2)\n",
            "Requirement already satisfied: regex>=2021.8.3 in /usr/local/lib/python3.10/dist-packages (from nltk) (2024.5.15)\n",
            "Requirement already satisfied: tqdm in /usr/local/lib/python3.10/dist-packages (from nltk) (4.66.4)\n",
            "Requirement already satisfied: torch>=1.0.0 in /usr/local/lib/python3.10/dist-packages (from bert-score) (2.3.0+cu121)\n",
            "Requirement already satisfied: pandas>=1.0.1 in /usr/local/lib/python3.10/dist-packages (from bert-score) (2.0.3)\n",
            "Requirement already satisfied: transformers>=3.0.0 in /usr/local/lib/python3.10/dist-packages (from bert-score) (4.41.2)\n",
            "Requirement already satisfied: requests in /usr/local/lib/python3.10/dist-packages (from bert-score) (2.31.0)\n",
            "Requirement already satisfied: matplotlib in /usr/local/lib/python3.10/dist-packages (from bert-score) (3.7.1)\n",
            "Requirement already satisfied: packaging>=20.9 in /usr/local/lib/python3.10/dist-packages (from bert-score) (24.1)\n",
            "Requirement already satisfied: python-dateutil>=2.8.2 in /usr/local/lib/python3.10/dist-packages (from pandas>=1.0.1->bert-score) (2.8.2)\n",
            "Requirement already satisfied: pytz>=2020.1 in /usr/local/lib/python3.10/dist-packages (from pandas>=1.0.1->bert-score) (2023.4)\n",
            "Requirement already satisfied: tzdata>=2022.1 in /usr/local/lib/python3.10/dist-packages (from pandas>=1.0.1->bert-score) (2024.1)\n",
            "Requirement already satisfied: filelock in /usr/local/lib/python3.10/dist-packages (from torch>=1.0.0->bert-score) (3.15.4)\n",
            "Requirement already satisfied: typing-extensions>=4.8.0 in /usr/local/lib/python3.10/dist-packages (from torch>=1.0.0->bert-score) (4.12.2)\n",
            "Requirement already satisfied: sympy in /usr/local/lib/python3.10/dist-packages (from torch>=1.0.0->bert-score) (1.13.0)\n",
            "Requirement already satisfied: networkx in /usr/local/lib/python3.10/dist-packages (from torch>=1.0.0->bert-score) (3.3)\n",
            "Requirement already satisfied: jinja2 in /usr/local/lib/python3.10/dist-packages (from torch>=1.0.0->bert-score) (3.1.4)\n",
            "Requirement already satisfied: fsspec in /usr/local/lib/python3.10/dist-packages (from torch>=1.0.0->bert-score) (2023.6.0)\n",
            "Requirement already satisfied: nvidia-cuda-nvrtc-cu12==12.1.105 in /usr/local/lib/python3.10/dist-packages (from torch>=1.0.0->bert-score) (12.1.105)\n",
            "Requirement already satisfied: nvidia-cuda-runtime-cu12==12.1.105 in /usr/local/lib/python3.10/dist-packages (from torch>=1.0.0->bert-score) (12.1.105)\n",
            "Requirement already satisfied: nvidia-cuda-cupti-cu12==12.1.105 in /usr/local/lib/python3.10/dist-packages (from torch>=1.0.0->bert-score) (12.1.105)\n",
            "Requirement already satisfied: nvidia-cudnn-cu12==8.9.2.26 in /usr/local/lib/python3.10/dist-packages (from torch>=1.0.0->bert-score) (8.9.2.26)\n",
            "Requirement already satisfied: nvidia-cublas-cu12==12.1.3.1 in /usr/local/lib/python3.10/dist-packages (from torch>=1.0.0->bert-score) (12.1.3.1)\n",
            "Requirement already satisfied: nvidia-cufft-cu12==11.0.2.54 in /usr/local/lib/python3.10/dist-packages (from torch>=1.0.0->bert-score) (11.0.2.54)\n",
            "Requirement already satisfied: nvidia-curand-cu12==10.3.2.106 in /usr/local/lib/python3.10/dist-packages (from torch>=1.0.0->bert-score) (10.3.2.106)\n",
            "Requirement already satisfied: nvidia-cusolver-cu12==11.4.5.107 in /usr/local/lib/python3.10/dist-packages (from torch>=1.0.0->bert-score) (11.4.5.107)\n",
            "Requirement already satisfied: nvidia-cusparse-cu12==12.1.0.106 in /usr/local/lib/python3.10/dist-packages (from torch>=1.0.0->bert-score) (12.1.0.106)\n",
            "Requirement already satisfied: nvidia-nccl-cu12==2.20.5 in /usr/local/lib/python3.10/dist-packages (from torch>=1.0.0->bert-score) (2.20.5)\n",
            "Requirement already satisfied: nvidia-nvtx-cu12==12.1.105 in /usr/local/lib/python3.10/dist-packages (from torch>=1.0.0->bert-score) (12.1.105)\n",
            "Requirement already satisfied: triton==2.3.0 in /usr/local/lib/python3.10/dist-packages (from torch>=1.0.0->bert-score) (2.3.0)\n",
            "Requirement already satisfied: nvidia-nvjitlink-cu12 in /usr/local/lib/python3.10/dist-packages (from nvidia-cusolver-cu12==11.4.5.107->torch>=1.0.0->bert-score) (12.5.82)\n",
            "Requirement already satisfied: huggingface-hub<1.0,>=0.23.0 in /usr/local/lib/python3.10/dist-packages (from transformers>=3.0.0->bert-score) (0.23.4)\n",
            "Requirement already satisfied: pyyaml>=5.1 in /usr/local/lib/python3.10/dist-packages (from transformers>=3.0.0->bert-score) (6.0.1)\n",
            "Requirement already satisfied: tokenizers<0.20,>=0.19 in /usr/local/lib/python3.10/dist-packages (from transformers>=3.0.0->bert-score) (0.19.1)\n",
            "Requirement already satisfied: safetensors>=0.4.1 in /usr/local/lib/python3.10/dist-packages (from transformers>=3.0.0->bert-score) (0.4.3)\n",
            "Requirement already satisfied: contourpy>=1.0.1 in /usr/local/lib/python3.10/dist-packages (from matplotlib->bert-score) (1.2.1)\n",
            "Requirement already satisfied: cycler>=0.10 in /usr/local/lib/python3.10/dist-packages (from matplotlib->bert-score) (0.12.1)\n",
            "Requirement already satisfied: fonttools>=4.22.0 in /usr/local/lib/python3.10/dist-packages (from matplotlib->bert-score) (4.53.1)\n",
            "Requirement already satisfied: kiwisolver>=1.0.1 in /usr/local/lib/python3.10/dist-packages (from matplotlib->bert-score) (1.4.5)\n",
            "Requirement already satisfied: pillow>=6.2.0 in /usr/local/lib/python3.10/dist-packages (from matplotlib->bert-score) (9.4.0)\n",
            "Requirement already satisfied: pyparsing>=2.3.1 in /usr/local/lib/python3.10/dist-packages (from matplotlib->bert-score) (3.1.2)\n",
            "Requirement already satisfied: charset-normalizer<4,>=2 in /usr/local/lib/python3.10/dist-packages (from requests->bert-score) (3.3.2)\n",
            "Requirement already satisfied: idna<4,>=2.5 in /usr/local/lib/python3.10/dist-packages (from requests->bert-score) (3.7)\n",
            "Requirement already satisfied: urllib3<3,>=1.21.1 in /usr/local/lib/python3.10/dist-packages (from requests->bert-score) (2.0.7)\n",
            "Requirement already satisfied: certifi>=2017.4.17 in /usr/local/lib/python3.10/dist-packages (from requests->bert-score) (2024.7.4)\n",
            "Requirement already satisfied: MarkupSafe>=2.0 in /usr/local/lib/python3.10/dist-packages (from jinja2->torch>=1.0.0->bert-score) (2.1.5)\n",
            "Requirement already satisfied: mpmath<1.4,>=1.1.0 in /usr/local/lib/python3.10/dist-packages (from sympy->torch>=1.0.0->bert-score) (1.3.0)\n"
          ]
        }
      ],
      "source": [
        "!pip install transformers\n",
        "!pip install rouge-score nltk bert-score"
      ]
    },
    {
      "cell_type": "code",
      "source": [
        "import json\n",
        "from transformers import pipeline\n",
        "from google.colab import files\n",
        "from nltk.translate.bleu_score import sentence_bleu\n",
        "from rouge_score import rouge_scorer\n",
        "import bert_score"
      ],
      "metadata": {
        "id": "D3XEXFl6VDPF"
      },
      "execution_count": 86,
      "outputs": []
    },
    {
      "cell_type": "code",
      "source": [
        "# Subir el archivo\n",
        "uploaded = files.upload()"
      ],
      "metadata": {
        "colab": {
          "base_uri": "https://localhost:8080/",
          "height": 73
        },
        "id": "Aw_i3XQ_VFXw",
        "outputId": "68c98f78-92d8-4351-a506-d34c43d377b2"
      },
      "execution_count": 87,
      "outputs": [
        {
          "output_type": "display_data",
          "data": {
            "text/plain": [
              "<IPython.core.display.HTML object>"
            ],
            "text/html": [
              "\n",
              "     <input type=\"file\" id=\"files-8a985db1-e79f-49d0-9c95-da568028309e\" name=\"files[]\" multiple disabled\n",
              "        style=\"border:none\" />\n",
              "     <output id=\"result-8a985db1-e79f-49d0-9c95-da568028309e\">\n",
              "      Upload widget is only available when the cell has been executed in the\n",
              "      current browser session. Please rerun this cell to enable.\n",
              "      </output>\n",
              "      <script>// Copyright 2017 Google LLC\n",
              "//\n",
              "// Licensed under the Apache License, Version 2.0 (the \"License\");\n",
              "// you may not use this file except in compliance with the License.\n",
              "// You may obtain a copy of the License at\n",
              "//\n",
              "//      http://www.apache.org/licenses/LICENSE-2.0\n",
              "//\n",
              "// Unless required by applicable law or agreed to in writing, software\n",
              "// distributed under the License is distributed on an \"AS IS\" BASIS,\n",
              "// WITHOUT WARRANTIES OR CONDITIONS OF ANY KIND, either express or implied.\n",
              "// See the License for the specific language governing permissions and\n",
              "// limitations under the License.\n",
              "\n",
              "/**\n",
              " * @fileoverview Helpers for google.colab Python module.\n",
              " */\n",
              "(function(scope) {\n",
              "function span(text, styleAttributes = {}) {\n",
              "  const element = document.createElement('span');\n",
              "  element.textContent = text;\n",
              "  for (const key of Object.keys(styleAttributes)) {\n",
              "    element.style[key] = styleAttributes[key];\n",
              "  }\n",
              "  return element;\n",
              "}\n",
              "\n",
              "// Max number of bytes which will be uploaded at a time.\n",
              "const MAX_PAYLOAD_SIZE = 100 * 1024;\n",
              "\n",
              "function _uploadFiles(inputId, outputId) {\n",
              "  const steps = uploadFilesStep(inputId, outputId);\n",
              "  const outputElement = document.getElementById(outputId);\n",
              "  // Cache steps on the outputElement to make it available for the next call\n",
              "  // to uploadFilesContinue from Python.\n",
              "  outputElement.steps = steps;\n",
              "\n",
              "  return _uploadFilesContinue(outputId);\n",
              "}\n",
              "\n",
              "// This is roughly an async generator (not supported in the browser yet),\n",
              "// where there are multiple asynchronous steps and the Python side is going\n",
              "// to poll for completion of each step.\n",
              "// This uses a Promise to block the python side on completion of each step,\n",
              "// then passes the result of the previous step as the input to the next step.\n",
              "function _uploadFilesContinue(outputId) {\n",
              "  const outputElement = document.getElementById(outputId);\n",
              "  const steps = outputElement.steps;\n",
              "\n",
              "  const next = steps.next(outputElement.lastPromiseValue);\n",
              "  return Promise.resolve(next.value.promise).then((value) => {\n",
              "    // Cache the last promise value to make it available to the next\n",
              "    // step of the generator.\n",
              "    outputElement.lastPromiseValue = value;\n",
              "    return next.value.response;\n",
              "  });\n",
              "}\n",
              "\n",
              "/**\n",
              " * Generator function which is called between each async step of the upload\n",
              " * process.\n",
              " * @param {string} inputId Element ID of the input file picker element.\n",
              " * @param {string} outputId Element ID of the output display.\n",
              " * @return {!Iterable<!Object>} Iterable of next steps.\n",
              " */\n",
              "function* uploadFilesStep(inputId, outputId) {\n",
              "  const inputElement = document.getElementById(inputId);\n",
              "  inputElement.disabled = false;\n",
              "\n",
              "  const outputElement = document.getElementById(outputId);\n",
              "  outputElement.innerHTML = '';\n",
              "\n",
              "  const pickedPromise = new Promise((resolve) => {\n",
              "    inputElement.addEventListener('change', (e) => {\n",
              "      resolve(e.target.files);\n",
              "    });\n",
              "  });\n",
              "\n",
              "  const cancel = document.createElement('button');\n",
              "  inputElement.parentElement.appendChild(cancel);\n",
              "  cancel.textContent = 'Cancel upload';\n",
              "  const cancelPromise = new Promise((resolve) => {\n",
              "    cancel.onclick = () => {\n",
              "      resolve(null);\n",
              "    };\n",
              "  });\n",
              "\n",
              "  // Wait for the user to pick the files.\n",
              "  const files = yield {\n",
              "    promise: Promise.race([pickedPromise, cancelPromise]),\n",
              "    response: {\n",
              "      action: 'starting',\n",
              "    }\n",
              "  };\n",
              "\n",
              "  cancel.remove();\n",
              "\n",
              "  // Disable the input element since further picks are not allowed.\n",
              "  inputElement.disabled = true;\n",
              "\n",
              "  if (!files) {\n",
              "    return {\n",
              "      response: {\n",
              "        action: 'complete',\n",
              "      }\n",
              "    };\n",
              "  }\n",
              "\n",
              "  for (const file of files) {\n",
              "    const li = document.createElement('li');\n",
              "    li.append(span(file.name, {fontWeight: 'bold'}));\n",
              "    li.append(span(\n",
              "        `(${file.type || 'n/a'}) - ${file.size} bytes, ` +\n",
              "        `last modified: ${\n",
              "            file.lastModifiedDate ? file.lastModifiedDate.toLocaleDateString() :\n",
              "                                    'n/a'} - `));\n",
              "    const percent = span('0% done');\n",
              "    li.appendChild(percent);\n",
              "\n",
              "    outputElement.appendChild(li);\n",
              "\n",
              "    const fileDataPromise = new Promise((resolve) => {\n",
              "      const reader = new FileReader();\n",
              "      reader.onload = (e) => {\n",
              "        resolve(e.target.result);\n",
              "      };\n",
              "      reader.readAsArrayBuffer(file);\n",
              "    });\n",
              "    // Wait for the data to be ready.\n",
              "    let fileData = yield {\n",
              "      promise: fileDataPromise,\n",
              "      response: {\n",
              "        action: 'continue',\n",
              "      }\n",
              "    };\n",
              "\n",
              "    // Use a chunked sending to avoid message size limits. See b/62115660.\n",
              "    let position = 0;\n",
              "    do {\n",
              "      const length = Math.min(fileData.byteLength - position, MAX_PAYLOAD_SIZE);\n",
              "      const chunk = new Uint8Array(fileData, position, length);\n",
              "      position += length;\n",
              "\n",
              "      const base64 = btoa(String.fromCharCode.apply(null, chunk));\n",
              "      yield {\n",
              "        response: {\n",
              "          action: 'append',\n",
              "          file: file.name,\n",
              "          data: base64,\n",
              "        },\n",
              "      };\n",
              "\n",
              "      let percentDone = fileData.byteLength === 0 ?\n",
              "          100 :\n",
              "          Math.round((position / fileData.byteLength) * 100);\n",
              "      percent.textContent = `${percentDone}% done`;\n",
              "\n",
              "    } while (position < fileData.byteLength);\n",
              "  }\n",
              "\n",
              "  // All done.\n",
              "  yield {\n",
              "    response: {\n",
              "      action: 'complete',\n",
              "    }\n",
              "  };\n",
              "}\n",
              "\n",
              "scope.google = scope.google || {};\n",
              "scope.google.colab = scope.google.colab || {};\n",
              "scope.google.colab._files = {\n",
              "  _uploadFiles,\n",
              "  _uploadFilesContinue,\n",
              "};\n",
              "})(self);\n",
              "</script> "
            ]
          },
          "metadata": {}
        },
        {
          "output_type": "stream",
          "name": "stdout",
          "text": [
            "Saving cleaned_json.json to cleaned_json (6).json\n"
          ]
        }
      ]
    },
    {
      "cell_type": "code",
      "source": [
        "# Asumir que el archivo subido se llama 'input.json'\n",
        "input_file = list(uploaded.keys())[0]"
      ],
      "metadata": {
        "id": "kSFfGWoTVI0Z"
      },
      "execution_count": 88,
      "outputs": []
    },
    {
      "cell_type": "code",
      "source": [
        "# Cargar el conjunto de datos desde el archivo JSON subido\n",
        "with open(input_file, \"r\") as f:\n",
        "    data = json.load(f)"
      ],
      "metadata": {
        "id": "a3yP8rkaVK6u"
      },
      "execution_count": 89,
      "outputs": []
    },
    {
      "cell_type": "code",
      "source": [
        "# Verificar las claves disponibles en las entradas\n",
        "print(\"Available keys in each entry:\", data[\"Sheet1\"][0].keys())"
      ],
      "metadata": {
        "colab": {
          "base_uri": "https://localhost:8080/"
        },
        "id": "XcRa1XnhVNe2",
        "outputId": "8407aad7-a309-4c98-afa4-1dd2f93d4d88"
      },
      "execution_count": 90,
      "outputs": [
        {
          "output_type": "stream",
          "name": "stdout",
          "text": [
            "Available keys in each entry: dict_keys(['Document', 'Content '])\n"
          ]
        }
      ]
    },
    {
      "cell_type": "code",
      "source": [
        "# Ajustar la clave según la estructura correcta del archivo JSON\n",
        "content_key = \"Content \"  # Ajustar según la clave correcta en tu archivo"
      ],
      "metadata": {
        "id": "M6EB0tQ-VP-G"
      },
      "execution_count": 91,
      "outputs": []
    },
    {
      "cell_type": "code",
      "source": [
        "# Cargar los modelos pre-entrenados para la generación y respuesta de preguntas\n",
        "question_generator = pipeline(\"text2text-generation\", model=\"valhalla/t5-small-qg-hl\")\n",
        "qa_pipeline = pipeline(\"question-answering\", model=\"deepset/roberta-base-squad2\")"
      ],
      "metadata": {
        "colab": {
          "base_uri": "https://localhost:8080/"
        },
        "id": "ibTioVBkVSXE",
        "outputId": "7bce5670-f212-41c1-e8d2-18b207fe5b87"
      },
      "execution_count": 92,
      "outputs": [
        {
          "output_type": "stream",
          "name": "stderr",
          "text": [
            "Special tokens have been added in the vocabulary, make sure the associated word embeddings are fine-tuned or trained.\n",
            "Special tokens have been added in the vocabulary, make sure the associated word embeddings are fine-tuned or trained.\n"
          ]
        }
      ]
    },
    {
      "cell_type": "code",
      "source": [
        "# Inicializar el evaluador de Rouge\n",
        "scorer = rouge_scorer.RougeScorer(['rougeL'], use_stemmer=True)"
      ],
      "metadata": {
        "id": "fgRyWIxLVWNy"
      },
      "execution_count": 93,
      "outputs": []
    },
    {
      "cell_type": "code",
      "source": [
        "output_data = []"
      ],
      "metadata": {
        "id": "i_pyrChdVYn8"
      },
      "execution_count": 94,
      "outputs": []
    },
    {
      "cell_type": "code",
      "source": [
        "# Generar preguntas y respuestas\n",
        "for entry in data[\"Sheet1\"]:\n",
        "    # Verificar si la clave existe en la entrada\n",
        "    if content_key not in entry:\n",
        "        print(f\"Key '{content_key}' not found in entry: {entry}\")\n",
        "        continue\n",
        "\n",
        "    context = entry[content_key]\n",
        "    print(f\"Processing context: {context[:100]}...\")  # Mostrar los primeros 100 caracteres del contexto\n",
        "\n",
        "    try:\n",
        "        # Generar dos preguntas distintas\n",
        "        questions = question_generator(f\"generate question: {context}\", num_return_sequences=2, num_beams=4, max_length=50)\n",
        "        generated_questions = [q['generated_text'] for q in questions]\n",
        "    except Exception as e:\n",
        "        print(f\"Error generating questions: {e}\")\n",
        "        continue\n",
        "\n",
        "    for generated_question in generated_questions:\n",
        "        print(f\"Generated question: {generated_question}\")\n",
        "\n",
        "        # Asegurarse de que la pregunta generada esté completa\n",
        "        if not generated_question.endswith('?'):\n",
        "            generated_question += \"?\"\n",
        "\n",
        "        try:\n",
        "            # Generar respuesta con un límite de longitud mayor\n",
        "            generated_answer = qa_pipeline(question=generated_question, context=context, max_answer_len=200)['answer']\n",
        "            print(f\"Generated answer: {generated_answer}\")\n",
        "        except Exception as e:\n",
        "            print(f\"Error generating answer: {e}\")\n",
        "            continue\n",
        "\n",
        "        # Filtrar métricas no deseadas\n",
        "\n",
        "        output_data.append({\n",
        "            \"prompt\": generated_question,\n",
        "            \"response\": generated_answer,\n",
        "        })"
      ],
      "metadata": {
        "colab": {
          "base_uri": "https://localhost:8080/"
        },
        "id": "42KAQDc9VaqY",
        "outputId": "e558faa0-36f8-4e66-812c-46f7666053c7"
      },
      "execution_count": 95,
      "outputs": [
        {
          "output_type": "stream",
          "name": "stderr",
          "text": [
            "Token indices sequence length is longer than the specified maximum sequence length for this model (735 > 512). Running this sequence through the model will result in indexing errors\n"
          ]
        },
        {
          "output_type": "stream",
          "name": "stdout",
          "text": [
            "Processing context: There are seven licensed nuclear power plant (NPP) sites in Canada, operated by four different  lice...\n",
            "Generated question: What is the CNSC's report on the safety of Canadian nuclear power plants?\n",
            "Generated answer: Integrated Safety Assessment\n",
            "Generated question: What was the CNSC's report on the safety of Canadian nuclear power plants?\n",
            "Generated answer: Integrated Safety Assessment of Canadian  Nuclear Power Plants\n",
            "Processing context: Executive Summary  This report, entitled CNSC Staff Integrated Safety Assessment of Canadian Nuclear...\n",
            "Generated question: What is the CNSC's Integrated Safety Assessment of Canadian Nuclear Power Plants for 2010?\n",
            "Generated answer: 2010 NPP Report\n",
            "Generated question: What is the CNSC's Integrated Safety Assessment of Canadian Nuclear Power Plants report?\n",
            "Generated answer: 2010 NPP Report\n",
            "Processing context: Each year, the Canadian Nuclear Safety Commission (CNSC) publishes a report on the  safety performan...\n",
            "Generated question: What does the CNSC Staff Integrated Safety Assessment of Canadian Nuclear Power Plants do in 2011?\n",
            "Generated answer: summarizes CNSC staff’s assessment of  the Canadian nuclear power industry’s safety performance\n",
            "Generated question: What does the CNSC Staff Integrated Safety Assessment of Canadian Nuclear Power Plants do?\n",
            "Generated answer: summarizes CNSC staff’s assessment of  the Canadian nuclear power industry’s safety performance during 2011\n",
            "Processing context: Each year, the Canadian Nuclear Safety Commission (CNSC) publishes a report on the safety  performan...\n",
            "Generated question: What did the CNSC report on the safety performance of the Canadian nuclear power plants in 2012 show?\n",
            "Generated answer: the  performance of each NPP\n",
            "Generated question: What did the CNSC report on the safety of the Canadian nuclear power plants in 2012 show?\n",
            "Generated answer: the  safety performance of the Canadian nuclear power industry as a whole, as well as the  performance of each NPP\n",
            "Processing context: Each year, the Canadian Nuclear Safety Commission (CNSC) publishes a report on the safety  performan...\n",
            "Generated question: What did the CNSC report on the safety performance of the Canadian nuclear power plants in 2012 show?\n",
            "Generated answer: the  performance of each NPP\n",
            "Generated question: What did the CNSC report on the safety of the Canadian nuclear power plants in 2012 show?\n",
            "Generated answer: the  safety performance of the Canadian nuclear power industry as a whole, as well as the  performance of each NPP\n",
            "Processing context: licensing, regulatory and oversight role Under the NSCA, the CNSC licenses, regulates, and establish...\n",
            "Generated question: What is the CNSC's central decision-making body?\n",
            "Generated answer: The Commission  Tribunal\n",
            "Generated question: What is the role of the CNSC?\n",
            "Generated answer: licensing, regulatory and oversight\n",
            "Processing context: A REGULATORY AND OVERSIGHT  ROLE Under the Nuclear Safety and Control Act (NSCA),  the Canadian Nucl...\n",
            "Generated question: What is the CNSC's role in regulating nuclear activities in Canada?\n",
            "Generated answer: strict oversight\n",
            "Generated question: What is the CNSC's role in regulating nuclear activities?\n",
            "Generated answer: strict oversight\n",
            "Processing context: A REGULATORY AND OVERSIGHT ROLE  Under the Nuclear Safety and Control Act (NSCA),  the Canadian Nucl...\n",
            "Generated question: What is the CNSC's role in regulating nuclear activities in Canada?\n",
            "Generated answer: the Canadian Nuclear Safety Commission (CNSC)  regulates all nuclear-related activities in Canada and  sets out regulatory expectations for them\n",
            "Generated question: What is the CNSC's role in regulating nuclear activities?\n",
            "Generated answer: provides clarity on regulatory expectations  and oversees licensed activities to ensure regulatory  requirements are met\n",
            "Processing context: Each year, the CNSC publishes the Regulatory Oversight  Report for Canadian Nuclear Power Plants and...\n",
            "Generated question: What did the CNSC report on the safety and control of nuclear power plants show that Canada's research reactors operated safely during 2018?\n",
            "Generated answer: no serious process failures\n",
            "Generated question: What did the CNSC report on the safety and control of nuclear power plants show that Canada's nuclear plants operated safely during 2018?\n",
            "Generated answer: Canada’s research reactors\n",
            "Key 'Content ' not found in entry: {'Document': 10}\n",
            "Processing context: How the CNSC works The CNSC is Canada's nuclear regulator. It is composed of a Commission that is in...\n",
            "Generated question: What is the CNSC's role?\n",
            "Generated answer: Canada's nuclear regulator\n",
            "Generated question: What is the CNSC's nuclear regulator?\n",
            "Generated answer: Canada's nuclear regulator. It is composed of a Commission that is independent\n",
            "Processing context: THE CNSC’S 4 STRATEGIC  PRIORITIES TO HAVE A MODERN APPROACH  TO NUCLEAR REGULATION  • The CNSC is c...\n",
            "Generated question: What is the CNSC's PRIORITIES to HAVE A MODERN APPROACH TO NUCLEAR REGULATION?\n",
            "Generated answer: 4\n",
            "Generated question: What is the CNSC's PRIORITIES to HAVE A MODERN APPROACH to NUCLEAR REGULATION?\n",
            "Generated answer: 4\n",
            "Processing context: The Regulatory Oversight Report on the Use of Nuclear Substances in Canada: 2022 provides  informati...\n",
            "Generated question: What is the Regulatory Oversight Report on the Use of Nuclear Substances in Canada?\n",
            "Generated answer: 2022\n",
            "Generated question: What does the Regulatory Oversight Report on the Use of Nuclear Substances in Canada include?\n",
            "Generated answer: information on the use of nuclear substances in the medical, industrial, academic and research, and  commercial sectors\n",
            "Processing context: Substance Regulation (DNSR) for the activities falling under its regulatory responsibilities. This r...\n",
            "Generated question: What is the purpose of the ROR?\n",
            "Generated answer: provide the Commission information about the effort on the  part of CNSC to regulate these licensees\n",
            "Generated question: What does the ROR cover?\n",
            "Generated answer: only those that are most useful in providing a good overall indication of the safety  performance of the licensees\n",
            "Processing context: Responsibility for the integrity and objectivity of the accompanying financial statements for the ye...\n",
            "Generated question: What is the responsibility for the integrity and objectivity of the accompanying financial statements?\n",
            "Generated answer: management of the Canadian Nuclear Safety Commission\n",
            "Generated question: What is the CNSC's responsibility for the integrity and objectivity of the accompanying financial statements?\n",
            "Generated answer: management\n",
            "Processing context: The Accessible Canada Act (ACA), received Royal Assent on June 21, 2019, and came into force  on Jul...\n",
            "Generated question: What is the CNSC's first accessibility plan?\n",
            "Generated answer: The plan presents a thorough review of CNSC policies, programs, practices and services in relation to the  identification, removal and prevention of barriers to full participation\n",
            "Generated question: What is the ACA?\n",
            "Generated answer: Accessible Canada Act\n",
            "Processing context: n accordance with the Accessible Canada Act, we are delivering the CNSC’s first progress report on t...\n",
            "Generated question: What is the CNSC's first progress report on the Accessibility Plan?\n",
            "Generated answer: 2022–\n",
            "Generated question: What is the CNSC's first progress report on the Accessible Canada Act?\n",
            "Generated answer: CNSC Accessibility Plan 2022–25\n",
            "Processing context: The dawn of the nuclear age introduced an era both of great promise and responsibility. Along with t...\n",
            "Generated question: What was the purpose of the IAEA's safeguards in Canada?\n",
            "Generated answer: optimization\n",
            "Generated question: What is the purpose of the IAEA safeguards in Canada?\n",
            "Generated answer: optimization\n",
            "Processing context: The existence of nuclear energy carries with it both great promise and  great responsibility. Along ...\n",
            "Generated question: What is the CNSC's strategic framework?\n",
            "Generated answer: Safeguards Program\n",
            "Generated question: What is the CNSC's strategic framework for the 2007-08 fiscal year?\n",
            "Generated answer: Safeguards Program\n",
            "Processing context: The Canadian Nuclear Safety Commission (CNSC) regulates the use of nuclear energy and materials to  ...\n",
            "Generated question: What is the standard for uranium concentrations in soil around the GEH-C Toronto facility?\n",
            "Generated answer: protection of human and environmental health\n",
            "Generated question: What is the standard for uranium concentrations in soil around GEH-C Toronto?\n",
            "Generated answer: protection of human and environmental health\n",
            "Processing context: Safety objectives and concepts The safety objectives and concepts described in this section apply to...\n",
            "Generated question: What are the safety objectives and concepts described in this section?\n",
            "Generated answer: apply to a reactor facility during operation  or during an accident\n",
            "Generated question: What are the safety objectives and concepts described in this section of the NSCA?\n",
            "Generated answer: normal operation, anticipated operational occurrence (AOO), design-basis accident (DBA), and beyond-design-basis accident (BDBA).\n",
            "Processing context: This report presents the findings, conclusions and recommendations of an evaluation of the Canadian ...\n",
            "Generated question: What did the CNSC contribute to the OECD/NEA?\n",
            "Generated answer: $1,71M\n",
            "Generated question: What is the purpose of the evaluation of the NEA?\n",
            "Generated answer: to assist its member  countries in maintaining and further developing scientific, technological and legal bases required for a  safe, environmentally friendly and economical use of nuclear energy for peaceful purposes\n",
            "Processing context: This report presents the findings, conclusions and recommendations of an evaluation of  the Canadian...\n",
            "Generated question: What is the purpose of the evaluation of the CNSC Class Grants and Contributions Program?\n",
            "Generated answer: examines the program’s relevance, effectiveness, and  efficiency and economy\n",
            "Generated question: What is the CNSC's Class Grants and Contributions Program?\n",
            "Generated answer: Research Transfer Payments Program\n",
            "Processing context: This report presents the findings, conclusions and recommendations of an evaluation of the Directora...\n",
            "Generated question: What is the focus of the evaluation of the CNSC's Compliance Verification Program?\n",
            "Generated answer: continued need for the program, achievement of expected outcomes,  efficiency, and design/delivery for continuous improvement\n",
            "Generated question: What is the focus of the evaluation of the CNSC's compliance verification program?\n",
            "Generated answer: continued need for the program, achievement of expected outcomes,  efficiency, and design/delivery for continuous improvement\n",
            "Processing context: The Canadian Nuclear Safety Commission’s role Those wishing to carry out activities related to the s...\n",
            "Generated question: What is the CNSC's role?\n",
            "Generated answer: independent administrative tribunal\n",
            "Generated question: What is the CNSC's regulatory framework?\n",
            "Generated answer: laws passed by Parliament that govern the  regulation of Canada's nuclear industry, and regulations, licenses and regulatory documents\n"
          ]
        }
      ]
    },
    {
      "cell_type": "code",
      "source": [
        "# Guardar en un archivo JSON\n",
        "output_file = \"qa_pairs.json\"\n",
        "with open(output_file, \"w\") as f:\n",
        "    json.dump(output_data, f, indent=4)"
      ],
      "metadata": {
        "id": "_GRnmahYWHZX"
      },
      "execution_count": 96,
      "outputs": []
    },
    {
      "cell_type": "code",
      "source": [
        "print(f\"Output saved to {output_file}\")\n",
        "\n",
        "# Descargar el archivo de salida\n",
        "files.download(output_file)"
      ],
      "metadata": {
        "colab": {
          "base_uri": "https://localhost:8080/",
          "height": 34
        },
        "id": "FdG_4KplWKAZ",
        "outputId": "80366ba2-38b8-4754-e706-ed246643951d"
      },
      "execution_count": 97,
      "outputs": [
        {
          "output_type": "stream",
          "name": "stdout",
          "text": [
            "Output saved to qa_pairs.json\n"
          ]
        },
        {
          "output_type": "display_data",
          "data": {
            "text/plain": [
              "<IPython.core.display.Javascript object>"
            ],
            "application/javascript": [
              "\n",
              "    async function download(id, filename, size) {\n",
              "      if (!google.colab.kernel.accessAllowed) {\n",
              "        return;\n",
              "      }\n",
              "      const div = document.createElement('div');\n",
              "      const label = document.createElement('label');\n",
              "      label.textContent = `Downloading \"${filename}\": `;\n",
              "      div.appendChild(label);\n",
              "      const progress = document.createElement('progress');\n",
              "      progress.max = size;\n",
              "      div.appendChild(progress);\n",
              "      document.body.appendChild(div);\n",
              "\n",
              "      const buffers = [];\n",
              "      let downloaded = 0;\n",
              "\n",
              "      const channel = await google.colab.kernel.comms.open(id);\n",
              "      // Send a message to notify the kernel that we're ready.\n",
              "      channel.send({})\n",
              "\n",
              "      for await (const message of channel.messages) {\n",
              "        // Send a message to notify the kernel that we're ready.\n",
              "        channel.send({})\n",
              "        if (message.buffers) {\n",
              "          for (const buffer of message.buffers) {\n",
              "            buffers.push(buffer);\n",
              "            downloaded += buffer.byteLength;\n",
              "            progress.value = downloaded;\n",
              "          }\n",
              "        }\n",
              "      }\n",
              "      const blob = new Blob(buffers, {type: 'application/binary'});\n",
              "      const a = document.createElement('a');\n",
              "      a.href = window.URL.createObjectURL(blob);\n",
              "      a.download = filename;\n",
              "      div.appendChild(a);\n",
              "      a.click();\n",
              "      div.remove();\n",
              "    }\n",
              "  "
            ]
          },
          "metadata": {}
        },
        {
          "output_type": "display_data",
          "data": {
            "text/plain": [
              "<IPython.core.display.Javascript object>"
            ],
            "application/javascript": [
              "download(\"download_ca763b47-c557-441e-98d2-0e57e6baa30f\", \"qa_pairs.json\", 9031)"
            ]
          },
          "metadata": {}
        }
      ]
    }
  ]
}